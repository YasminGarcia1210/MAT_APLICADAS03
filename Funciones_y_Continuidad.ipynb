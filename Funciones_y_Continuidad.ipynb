{
  "cells": [
    {
      "cell_type": "markdown",
      "metadata": {
        "id": "view-in-github",
        "colab_type": "text"
      },
      "source": [
        "<a href=\"https://colab.research.google.com/github/YasminGarcia1210/MAT_APLICADAS03/blob/main/Funciones_y_Continuidad.ipynb\" target=\"_parent\"><img src=\"https://colab.research.google.com/assets/colab-badge.svg\" alt=\"Open In Colab\"/></a>"
      ]
    },
    {
      "cell_type": "markdown",
      "metadata": {
        "id": "_toBWo-VtkS2"
      },
      "source": [
        "<img src=http://www.acofi.edu.co/eiei2016/wp-content/uploads/2016/09/Logo-Universidad-ICESI.jpg width=\"200\" height=\"200\" align=\"center\">\n",
        "\n",
        "#**<big><big>Matemáticas Aplicadas I</big></big><br><small> FIDCA / Facultad de Ingeniería, diseño y ciencias aplicadas. </small><br><small>_*CUADERNO *_ Funciones y continuidad. </small>**"
      ]
    },
    {
      "cell_type": "markdown",
      "metadata": {
        "id": "smUrXBMKuQD0"
      },
      "source": [
        "#**Funciones**\n",
        "\n",
        "Una función es una relación o correspondencia entre dos magnitudes, de manera que a cada valor de la primera le corresponde un único valor de la segunda (o ninguno), que llamamos imagen o transformado. A la función se le suele designar por $f$ y a la imagen por $f(x)$, siendo $x$ la variable independiente.\n",
        "\n",
        "<img src=https://www.fisicalab.com/sites/all/files/contenidos/matematicas/2216_tipos_funciones/clasificacion_funciones.jpg width=\"400\" height=\"300\" align=\"center\">"
      ]
    },
    {
      "cell_type": "code",
      "execution_count": null,
      "metadata": {
        "id": "VkL4gIgcuPk6"
      },
      "outputs": [],
      "source": [
        "f= lambda x: x**2"
      ]
    },
    {
      "cell_type": "markdown",
      "metadata": {
        "id": "4T62aYG9xSp9"
      },
      "source": [
        "*Las expresiones lambda en Python son una forma corta de declarar funciones pequeñas y anónimas (no es necesario proporcionar un nombre para las funciones lambda).Las funciones Lambda se comportan como funciones normales declaradas con la palabra clave $def$.*\n",
        "\n",
        "**sintaxis**\n",
        "\n",
        "<font color='blue'> *lambda*  </font> `argmentos`: *expresión*"
      ]
    },
    {
      "cell_type": "code",
      "execution_count": null,
      "metadata": {
        "colab": {
          "base_uri": "https://localhost:8080/"
        },
        "id": "kVSoRurRthtx",
        "outputId": "d53e443c-53cb-4787-bcc3-ac5cd8766b6a"
      },
      "outputs": [
        {
          "output_type": "stream",
          "name": "stdout",
          "text": [
            "4\n",
            "0\n"
          ]
        }
      ],
      "source": [
        "print(f(2))\n",
        "\n",
        "print(f(0))"
      ]
    },
    {
      "cell_type": "code",
      "execution_count": null,
      "metadata": {
        "id": "HyTXr_CH0Wna"
      },
      "outputs": [],
      "source": [
        "import numpy as np\n",
        "\n",
        "g= lambda x: np.sin(x)"
      ]
    },
    {
      "cell_type": "code",
      "execution_count": null,
      "metadata": {
        "colab": {
          "base_uri": "https://localhost:8080/"
        },
        "id": "qzxlW94-0gcX",
        "outputId": "ea530633-d1a6-4cd5-96a5-ee5bf191daa4"
      },
      "outputs": [
        {
          "data": {
            "text/plain": [
              "0.0"
            ]
          },
          "execution_count": 12,
          "metadata": {},
          "output_type": "execute_result"
        }
      ],
      "source": [
        "g(0)"
      ]
    },
    {
      "cell_type": "markdown",
      "metadata": {
        "id": "i6osBFm5z2KA"
      },
      "source": [
        "#Continuidad de una función\n",
        "\n",
        "Una función $f(x)$ se considera continua  en $x=a$ si cumple que:\n",
        "\n",
        "* $f(a)$ Existe\n",
        "\n",
        "* $lim_{x \\rightarrow a} f(x)$ Exista\n",
        "\n",
        "* $lim_{x \\rightarrow a} f(x) = f(a) $\n",
        "\n",
        "\n",
        "$∄$ No existe $\\neq$ Indeterminado"
      ]
    },
    {
      "cell_type": "markdown",
      "metadata": {
        "id": "cbH-kYYocqz7"
      },
      "source": [
        "#Tipos de Discontinuidad\n",
        "\n",
        "1. Discontinuidad de salto: Esta se da cuando los límites laterales no son iguales\n",
        "\n",
        "$$lim_{x → a^{+}} f(x) \\neq lim_{x → a^{-}} f(x)$$\n",
        "\n",
        "2. Discontinuidad removible: Esta discontinuidad se da cuando la función $f(a)$ y el limite $lim_{x → a}f(x)$ no son iguales\n",
        "\n",
        "$$lim_{x → a}f(x) \\neq f(a)$$\n",
        "\n",
        "3. Discontuiniudad de Salto Infinito o asíntotica: Este caso de discontinuidad se dá cuando $f(a)= ∄$ y el límite $lim_{x → a}f(x)= \\pm ∞$\n",
        "\n",
        "\n"
      ]
    },
    {
      "cell_type": "markdown",
      "metadata": {
        "id": "UFwlq5EU1osa"
      },
      "source": [
        "#Ejemplo\n",
        "\n",
        "1. Identifique si esta función es continua\n",
        "\n",
        "$f(x)= \\left\\{ \\begin{array}{lcc}\n",
        "             \\frac{x^3-27}{x-3} &   si  & x \\neq 3 \\\\\n",
        "             \\\\ 27 &  si & x=3 \\\\\n",
        "                          \\end{array}\n",
        "   \\right.$"
      ]
    },
    {
      "cell_type": "code",
      "source": [
        "import numpy as np\n",
        "import matplotlib.pyplot as plt\n",
        "\n",
        "f=lambda x: (x**3-27)/(x-3)\n",
        "\n",
        "x= np.linspace(0,30,31)\n",
        "y=[f(x) for x in x]\n",
        "\n",
        "plt.plot(x,y)\n",
        "plt.show\n",
        "\n"
      ],
      "metadata": {
        "colab": {
          "base_uri": "https://localhost:8080/",
          "height": 482
        },
        "id": "xKO331ja49tv",
        "outputId": "c9cd157c-06b5-4a8a-f785-e44a3b67bfc0"
      },
      "execution_count": null,
      "outputs": [
        {
          "output_type": "stream",
          "name": "stderr",
          "text": [
            "<ipython-input-12-6741bf9fd44a>:4: RuntimeWarning: invalid value encountered in double_scalars\n",
            "  f=lambda x: (x**3-27)/(x-3)\n"
          ]
        },
        {
          "output_type": "execute_result",
          "data": {
            "text/plain": [
              "<function matplotlib.pyplot.show(close=None, block=None)>"
            ]
          },
          "metadata": {},
          "execution_count": 12
        },
        {
          "output_type": "display_data",
          "data": {
            "text/plain": [
              "<Figure size 640x480 with 1 Axes>"
            ],
            "image/png": "[encoded data removed]"
          },
          "metadata": {}
        }
      ]
    },
    {
      "cell_type": "code",
      "execution_count": null,
      "metadata": {
        "id": "LO1sgUvqw6ry"
      },
      "outputs": [],
      "source": [
        "f=lambda x: (x**3-27)/(x-3)\n",
        "\n"
      ]
    },
    {
      "cell_type": "code",
      "execution_count": null,
      "metadata": {
        "colab": {
          "base_uri": "https://localhost:8080/",
          "height": 467
        },
        "id": "xBHuuV4jUYfo",
        "outputId": "5bfc5590-02a0-4eac-923e-f3e1baee27b7"
      },
      "outputs": [
        {
          "output_type": "stream",
          "name": "stderr",
          "text": [
            "<ipython-input-1-0826315c47bf>:1: RuntimeWarning: invalid value encountered in double_scalars\n",
            "  f=lambda x: (x**3-27)/(x-3)\n"
          ]
        },
        {
          "output_type": "display_data",
          "data": {
            "text/plain": [
              "<Figure size 640x480 with 1 Axes>"
            ],
            "image/png": "[encoded data removed]"
          },
          "metadata": {}
        }
      ],
      "source": [
        "import matplotlib.pyplot as plt\n",
        "import numpy as np\n",
        "\n",
        "x=np.linspace(0,30,31)\n",
        "y=[f(x) for x in x]\n",
        "\n",
        "plt.plot(x,y)\n",
        "plt.show()"
      ]
    },
    {
      "cell_type": "markdown",
      "metadata": {
        "id": "mbWfK597gQGM"
      },
      "source": [
        "#Observen que la función no es continua"
      ]
    },
    {
      "cell_type": "markdown",
      "metadata": {
        "id": "VFxBq0aA6djO"
      },
      "source": [
        "2. Identifique si este función es continua\n",
        "\n",
        "$f(x)= \\left\\{ \\begin{array}{lcc}\n",
        "             -x &   si  & x <0 \\\\\n",
        "             \\\\ 1 &  si & x=0 \\\\\n",
        "             \\\\ x & si & x>0\n",
        "                          \\end{array}\n",
        "   \\right.$"
      ]
    },
    {
      "cell_type": "code",
      "execution_count": null,
      "metadata": {
        "id": "lcxPEPTz7CAG"
      },
      "outputs": [],
      "source": [
        ""
      ]
    },
    {
      "cell_type": "markdown",
      "metadata": {
        "id": "I8mpkq6P7CaY"
      },
      "source": [
        "3. ¿Esta función es continua?\n",
        "\n",
        "$f(x)= \\frac{x^2-4}{x-2}$"
      ]
    },
    {
      "cell_type": "code",
      "source": [
        "import numpy as np\n",
        "import matplotlib.pyplot as plt\n",
        "\n",
        "f= lambda x: (x**2-4)/(x-2)\n",
        "\n",
        "x=np.linspace(0,30,31)\n",
        "y=[f(x) for x in x]\n",
        "\n",
        "plt.plot(x,y)\n",
        "plt.show"
      ],
      "metadata": {
        "colab": {
          "base_uri": "https://localhost:8080/",
          "height": 482
        },
        "id": "hOXNBzxM6OEH",
        "outputId": "3b1f9ef4-93e9-4afb-e3d3-587d44bec306"
      },
      "execution_count": null,
      "outputs": [
        {
          "output_type": "stream",
          "name": "stderr",
          "text": [
            "<ipython-input-13-693ec0ee655c>:4: RuntimeWarning: invalid value encountered in double_scalars\n",
            "  f= lambda x: (x**2-4)/(x-2)\n"
          ]
        },
        {
          "output_type": "execute_result",
          "data": {
            "text/plain": [
              "<function matplotlib.pyplot.show(close=None, block=None)>"
            ]
          },
          "metadata": {},
          "execution_count": 13
        },
        {
          "output_type": "display_data",
          "data": {
            "text/plain": [
              "<Figure size 640x480 with 1 Axes>"
            ],
            "image/png": "[encoded data removed]"
          },
          "metadata": {}
        }
      ]
    },
    {
      "cell_type": "markdown",
      "metadata": {
        "id": "-hZHq0yxPyGA"
      },
      "source": [
        "Rta// no es continua\n",
        "\n",
        "$f(2)$= No existe\n",
        "\n",
        "* La función no puede ser modificada para evaluar el punto"
      ]
    },
    {
      "cell_type": "markdown",
      "metadata": {
        "id": "hGq5NXeK_Vex"
      },
      "source": [
        "#Operaciones de continuidad\n",
        "\n",
        "Se pueden construir funciones continuas a partir de funciones continuas\n",
        "\n",
        "###Teorema de continuidad\n",
        "\n",
        "sean $f$ y $g$ funciones continuas en $x=a$: se tiene entonces que:\n",
        "\n",
        "1. $(f \\pm g)(a)$ es continua\n",
        "\n",
        "2. $(f . g)(a)$ es continua\n",
        "\n",
        "3. $(f/ g)(a)$ es continua si y solo si $g(a) \\neq 0$\n",
        "\n",
        "4. $ f(g(a)) $ es continua"
      ]
    },
    {
      "cell_type": "markdown",
      "metadata": {
        "id": "9WeurQ4QhZ3k"
      },
      "source": [
        "# Consecuencias de la continuidad\n",
        "\n",
        "##1. Teorema del Valor intermedio\n",
        "\n",
        "El teorema del valor intermedio describe una propiedad fundamental de las funciones continuas:\n",
        "\n",
        "si $f$ es una función continua en el intervalo [a,b], entonces alcanzará cualquier valor entre $f(a)$ y $f(b)$ en el intervalo.\n",
        "\n",
        "<img src=https://ekuatio.com/wp-content/uploads/valor-medio-4.png>\n",
        "\n",
        "Lectura complementaria\n",
        "\n",
        "[TVI](https://es.khanacademy.org/math/ap-calculus-ab/ab-limits-new/ab-1-16/a/intermediate-value-theorem-review) Artículo de Khan Academy\n"
      ]
    },
    {
      "cell_type": "code",
      "execution_count": null,
      "metadata": {
        "id": "LMgqBbVTBgHo"
      },
      "outputs": [],
      "source": [
        "#Teorema del Valor intermedio\n",
        "\n",
        "f=lambda x: x**3 +5*x -1"
      ]
    },
    {
      "cell_type": "markdown",
      "source": [
        "$f(x)= x^3+5x-1$\n",
        "Intervalo (4,6)"
      ],
      "metadata": {
        "id": "yTCbrhRW7CoJ"
      }
    },
    {
      "cell_type": "code",
      "source": [
        "f= lambda x: x**3+5*x-1"
      ],
      "metadata": {
        "id": "dGv1IXNG7VoT"
      },
      "execution_count": null,
      "outputs": []
    },
    {
      "cell_type": "code",
      "source": [
        "f(4)"
      ],
      "metadata": {
        "colab": {
          "base_uri": "https://localhost:8080/"
        },
        "id": "LiqKki2d7eJY",
        "outputId": "ab5083e5-6e8b-4a63-c07b-c752c7ca9be4"
      },
      "execution_count": null,
      "outputs": [
        {
          "output_type": "execute_result",
          "data": {
            "text/plain": [
              "83"
            ]
          },
          "metadata": {},
          "execution_count": 17
        }
      ]
    },
    {
      "cell_type": "code",
      "source": [
        "f(6)"
      ],
      "metadata": {
        "colab": {
          "base_uri": "https://localhost:8080/"
        },
        "id": "OXzw6cIE7iP9",
        "outputId": "193072f8-3200-4d50-e56e-14efbfc2741f"
      },
      "execution_count": null,
      "outputs": [
        {
          "output_type": "execute_result",
          "data": {
            "text/plain": [
              "245"
            ]
          },
          "metadata": {},
          "execution_count": 18
        }
      ]
    },
    {
      "cell_type": "markdown",
      "source": [
        "Toma todos los valores entre (83-245)\n",
        "\n",
        "**En slider:**"
      ],
      "metadata": {
        "id": "ceg5M3i_7jyH"
      }
    },
    {
      "cell_type": "code",
      "source": [
        "#@title Texto de título predeterminado\n",
        "Numero = 4 #@param {type:\"slider\", min:4, max:6, step:0.1}\n",
        "\n",
        "y= f(Numero)\n",
        "\n",
        "print(\"El valor intermedio de\", Numero, \"es:\", y)\n"
      ],
      "metadata": {
        "colab": {
          "base_uri": "https://localhost:8080/"
        },
        "id": "M0HRmjtv72jU",
        "outputId": "39ea56a7-3a0a-40d2-fe4b-60e9c31ebb9a"
      },
      "execution_count": null,
      "outputs": [
        {
          "output_type": "stream",
          "name": "stdout",
          "text": [
            "El valor intermedio de 6 es: 245\n"
          ]
        }
      ]
    },
    {
      "cell_type": "markdown",
      "metadata": {
        "id": "Vuyzvil3CoeI"
      },
      "source": [
        "##2. Teorema de Bisección\n",
        "\n"
      ]
    },
    {
      "cell_type": "markdown",
      "source": [
        "[Lectura sobre el método](chrome-extension://efaidnbmnnnibpcajpcglclefindmkaj/https://www.ingenieria.unam.mx/pinilla/PE105117/pdfs/tema2/2-1_metodos_cerrados.pdf)"
      ],
      "metadata": {
        "id": "t4Tagd-fKb87"
      }
    },
    {
      "cell_type": "markdown",
      "source": [
        "**Teorema de Bolzano:** Si una función f(x) está definida y es continua en un intervalo cerrado [a, b] y toma valores de distinto signo en los extremos a y b, entonces existe al menos un punto c del intervalo abierto (a, b) en el que se anula la función\n",
        "\n",
        "<img src=https://tfgonline.es/wp-content/uploads/2022/06/que-dice-el-teorema-de-bolzano-579x400-1.jpg>"
      ],
      "metadata": {
        "id": "vwZXoUl8IB4E"
      }
    },
    {
      "cell_type": "markdown",
      "source": [
        "### Método de Bisección"
      ],
      "metadata": {
        "id": "pO-W5W8qIYbr"
      }
    },
    {
      "cell_type": "markdown",
      "source": [
        "Es el método más elemental y antiguo para determinar las raíces de una ecuación. Está basado directamente en el teorema de Bolzano explicado con anterioridad.\n",
        "\n",
        "Consiste en partir de un intervalo $[x_0, x_1]$ tal que $f(x_0)f(x_1)< 0 $\n",
        "\n",
        "Por lo que sabemos que existe, al menos, una **raíz real**. A partir de este punto se va reduciendo el intervalo sucesivamente hasta hacerlo tan pequeño como exija la precisión que hayamos decidido emplear"
      ],
      "metadata": {
        "id": "nPdFDx5zH6O7"
      }
    },
    {
      "cell_type": "markdown",
      "source": [
        "<img src=https://estadistica-dma.ulpgc.es/FCC/imagenes/diagrama_Biseccion.svg>"
      ],
      "metadata": {
        "id": "rM821yXsJfCO"
      }
    },
    {
      "cell_type": "markdown",
      "source": [
        "# Enunciado\n",
        "\n",
        "Sea una función $f(x)$ continua en el intervalo $[x_0, x_1]$ y\n",
        "$$f(x_0).f(x_1)< 0$$\n",
        "\n",
        "Implica que $f(x)$ tiene al menos una raiz en el intervalo.\n",
        "\n",
        "## Método\n",
        "\n",
        "El metodo consiste en bisectar el intervalo $[x_0, x_1]$:\n",
        "\n",
        "$$\\bar{x_1} = \\frac{x_0+x_1}{2}$$\n",
        "\n",
        "\n",
        "La función se evalua en este nuevo valor $f(\\bar{x_1})$ y de acuerdo al\n",
        "signo de la función evaluada en este punto, deberá sustituirse uno de los extremos del intervalo de búsqueda, de tal forma que siempre se conserve que **$f(\\bar{x_i}).f(\\bar{x_j})< 0$**\n",
        "\n",
        "De acuerdo a la geometría de la figura,\n",
        "la sustitución de los intervalos deberá hacerse de la siguiente forma:\n",
        "\n",
        "Sea $x_0$ tal que $f(x_0)< 0$ y $x_1$ tal que $f(x_1)>0$\n",
        "\n",
        "\n",
        "\n",
        "*   si $f(\\bar{x_1})<0$ se sustituye a  $x_1$\n",
        "*   si $f(\\bar{x_1})>0$ se sustituye a $x_0$.\n",
        "\n",
        "En cada iteración deberá sustituirse alguno de los límites del intervalo que contiene a la raíz. Repitiendo este proceso, el intervalo se reduce paulatinamente hasta que alguna de las aproximaciones\n",
        "coincide razonablemente con la raíz de la función.\n",
        "\n",
        "El proceso se detiene cuando $x_i$ y $x_{i-1}$ satisface un nivel de error preestablecido. [Tolerancia]"
      ],
      "metadata": {
        "id": "dvux6FBMK7ca"
      }
    },
    {
      "cell_type": "markdown",
      "source": [
        "#Estimación del error\n",
        "Si la función evaluada es continua y $f(x_i).f(x_j)< 0 $, entonces debe existir al menos una raíz en este intervalo.\n",
        "\n",
        "Por lo tanto, si se toma el punto medio como solución, el error que se comente es inferior a la mitad del rango. Esto es\n",
        "\n",
        "$$ϵ=|x_{True}-x_i| \\leq \\frac{x_0-x_1}{2^{N+1}}$$\n",
        "\n",
        "De este modo, si se conoce el error máximo (Tolerancia) deseado ϵ se puede saber cual es el número máximo de pasos necesarios para alcanzarla. Simplemente se debe despejar el valor de N\n",
        "\n",
        "$$N=\\frac {ln|\\frac{x_0-x_1}{ϵ}|}{ln2}$$"
      ],
      "metadata": {
        "id": "PZO0f0bYLGe0"
      }
    },
    {
      "cell_type": "code",
      "source": [
        "#Codigo N°1\n",
        "\n",
        "import math\n",
        "\n",
        "def biseccion (f,x_0, x_1, eps=None, N=1000):\n",
        "\n",
        "    if f(x_0)*f(x_1) >= 0:\n",
        "      print(\"El método no puede ser aplicado\")\n",
        "      return None\n",
        "\n",
        "    if eps is not None:\n",
        "       N= math.ceil(math.log((x_1-x_0)/ eps)/math.log(2))\n",
        "\n",
        "    for n in range (N+1):\n",
        "        x_m=(x_0+x_1)/2\n",
        "\n",
        "        if f(x_m)==0:\n",
        "            return x_m\n",
        "        elif f(x_0)*f(x_1)<0:\n",
        "            x_1=x_m\n",
        "        else:\n",
        "            x_0=x_m\n",
        "        return (x_0+x_1)/2"
      ],
      "metadata": {
        "id": "GAJTXvdvLRCX"
      },
      "execution_count": 3,
      "outputs": []
    },
    {
      "cell_type": "markdown",
      "source": [
        "# Ejemplo\n",
        "\n",
        "Determine la raíz de la función $$ f(x)=x^2-cos^2(x)$$ en el intervalo $[0,2]$"
      ],
      "metadata": {
        "id": "zF3oAucLMSKR"
      }
    },
    {
      "cell_type": "code",
      "source": [
        "f= lambda x: x**2-(math.cos(x))**2"
      ],
      "metadata": {
        "id": "Wvo5QqOJMJSH"
      },
      "execution_count": 7,
      "outputs": []
    },
    {
      "cell_type": "code",
      "source": [
        "biseccion(f, 0 , 2, 0.005)"
      ],
      "metadata": {
        "colab": {
          "base_uri": "https://localhost:8080/"
        },
        "id": "y__WRzOKLc9e",
        "outputId": "bbc5be66-8029-4fd7-e9d1-c1a45934cf9c"
      },
      "execution_count": 9,
      "outputs": [
        {
          "output_type": "execute_result",
          "data": {
            "text/plain": [
              "0.5"
            ]
          },
          "metadata": {},
          "execution_count": 9
        }
      ]
    },
    {
      "cell_type": "markdown",
      "source": [
        "## Taller ☝\n",
        "\n",
        "Resolver los Ejercicios de las sesiones 2.3, 2.4 y 2.5 del texto (Todos)\n",
        "\n",
        "Fecha de entrega: 28 de Septiembre\n",
        "\n",
        "Quiz Virtual: Martes 3 de octubre"
      ],
      "metadata": {
        "id": "KVprFqitOUQV"
      }
    }
  ],
  "metadata": {
    "colab": {
      "provenance": [],
      "include_colab_link": true
    },
    "kernelspec": {
      "display_name": "Python 3",
      "name": "python3"
    },
    "language_info": {
      "name": "python"
    }
  },
  "nbformat": 4,
  "nbformat_minor": 0
}
{
  "nbformat": 4,
  "nbformat_minor": 0,
  "metadata": {
    "colab": {
      "provenance": [],
      "collapsed_sections": [
        "wYCUEtPpzSiE"
      ],
      "include_colab_link": true
    },
    "kernelspec": {
      "name": "python3",
      "display_name": "Python 3"
    },
    "language_info": {
      "name": "python"
    }
  },
  "cells": [
    {
      "cell_type": "markdown",
      "metadata": {
        "id": "view-in-github",
        "colab_type": "text"
      },
      "source": [
        "<a href=\"https://colab.research.google.com/github/YasminGarcia1210/MAT_APLICADAS03/blob/main/CUADERNO_3_GRAFICAS.ipynb\" target=\"_parent\"><img src=\"https://colab.research.google.com/assets/colab-badge.svg\" alt=\"Open In Colab\"/></a>"
      ]
    },
    {
      "cell_type": "markdown",
      "source": [
        "<img src=http://www.acofi.edu.co/eiei2016/wp-content/uploads/2016/09/Logo-Universidad-ICESI.jpg width=\"200\" height=\"200\" align=\"center\">\n",
        "\n",
        "#**<big><big>Matemáticas Aplicadas I</big></big><br><small>Depto. Matemáticas & Estadística / Facultad de Ingeniería</small><br><small>_*CUADERNO 3*_ GRAFICAS. </small>**"
      ],
      "metadata": {
        "id": "UFNIDXeBp1ee"
      }
    },
    {
      "cell_type": "markdown",
      "source": [
        "#TRAZADO EN MATPLOPLIB\n",
        "\n",
        "La  función **plot()**  se utiliza para dibujar puntos (marcadores) en un diagrama.\n",
        "\n",
        "Por defecto, la plot()función dibuja una línea de punto a punto.\n",
        "La función toma parámetros para especificar puntos en el diagrama:\n",
        "\n",
        "\n",
        "El parámetro 1 es una matriz que contiene los puntos en el eje x .\n",
        "\n",
        "El parámetro 2 es una matriz que contiene los puntos en el eje y"
      ],
      "metadata": {
        "id": "AYLr2fxEOo8M"
      }
    },
    {
      "cell_type": "code",
      "source": [
        "import matplotlib.pyplot as plt\n",
        "import numpy as np"
      ],
      "metadata": {
        "id": "p1oMAXHR-cFy"
      },
      "execution_count": null,
      "outputs": []
    },
    {
      "cell_type": "code",
      "source": [
        "x=[1,2,3]\n",
        "y=[y**2 for y in x]\n",
        "print(x,y)"
      ],
      "metadata": {
        "colab": {
          "base_uri": "https://localhost:8080/"
        },
        "id": "xFYrLVWq--9G",
        "outputId": "73762d8e-ef16-43ad-84f1-3f9083e0d0a6"
      },
      "execution_count": null,
      "outputs": [
        {
          "output_type": "stream",
          "name": "stdout",
          "text": [
            "[1, 2, 3] [1, 4, 9]\n"
          ]
        }
      ]
    },
    {
      "cell_type": "code",
      "source": [
        "plt.plot(x,y) # --- Realiza una línea entre los puntos ---"
      ],
      "metadata": {
        "colab": {
          "base_uri": "https://localhost:8080/",
          "height": 282
        },
        "id": "sLAs3csO_UJ3",
        "outputId": "47a131bc-dfaa-4876-f237-0004a71f60d7"
      },
      "execution_count": null,
      "outputs": [
        {
          "output_type": "execute_result",
          "data": {
            "text/plain": [
              "[<matplotlib.lines.Line2D at 0x7fa81008b7f0>]"
            ]
          },
          "metadata": {},
          "execution_count": 3
        },
        {
          "output_type": "display_data",
          "data": {
            "text/plain": [
              "<Figure size 432x288 with 1 Axes>"
            ],
            "image/png": "[encoded data removed]"
          },
          "metadata": {
            "needs_background": "light"
          }
        }
      ]
    },
    {
      "cell_type": "code",
      "source": [
        "plt.plot(x,y,'*') #El tercer parametro es la forma de la Gráfica (o, x, ., -)"
      ],
      "metadata": {
        "colab": {
          "base_uri": "https://localhost:8080/",
          "height": 282
        },
        "id": "-G8QqPPr_h09",
        "outputId": "b11eaa8b-65f7-47d2-cd33-3050f02fe0c0"
      },
      "execution_count": null,
      "outputs": [
        {
          "output_type": "execute_result",
          "data": {
            "text/plain": [
              "[<matplotlib.lines.Line2D at 0x7fa801db37f0>]"
            ]
          },
          "metadata": {},
          "execution_count": 4
        },
        {
          "output_type": "display_data",
          "data": {
            "text/plain": [
              "<Figure size 432x288 with 1 Axes>"
            ],
            "image/png": "[encoded data removed]"
          },
          "metadata": {
            "needs_background": "light"
          }
        }
      ]
    },
    {
      "cell_type": "code",
      "source": [
        "#Puedo trazar usando solo el eje y\n",
        "\n",
        "y=np.arange(0,10)\n",
        "\n",
        "plt.plot(y,'o')"
      ],
      "metadata": {
        "colab": {
          "base_uri": "https://localhost:8080/",
          "height": 282
        },
        "id": "ClgUaNV4Qvhx",
        "outputId": "90863357-2548-466b-bcf4-a6aa8a8d3806"
      },
      "execution_count": null,
      "outputs": [
        {
          "output_type": "execute_result",
          "data": {
            "text/plain": [
              "[<matplotlib.lines.Line2D at 0x7fa801d27400>]"
            ]
          },
          "metadata": {},
          "execution_count": 5
        },
        {
          "output_type": "display_data",
          "data": {
            "text/plain": [
              "<Figure size 432x288 with 1 Axes>"
            ],
            "image/png": "[encoded data removed]"
          },
          "metadata": {
            "needs_background": "light"
          }
        }
      ]
    },
    {
      "cell_type": "markdown",
      "source": [
        "#Marcadores\n",
        "\n",
        "Puedes usar el parámetro de notación de cadena de método abreviado para especificar el marcador.\n",
        "\n",
        "Este parámetro también se llama `fmty` se escribe con esta sintaxis:\n",
        "\n",
        "```\n",
        "Marker| line| color\n",
        "```\n",
        "*Sin dejar espacio\n"
      ],
      "metadata": {
        "id": "VyntiKPpRQOg"
      }
    },
    {
      "cell_type": "code",
      "source": [
        "plt.plot(y, marker = 'x')\n",
        "plt.show()"
      ],
      "metadata": {
        "colab": {
          "base_uri": "https://localhost:8080/",
          "height": 265
        },
        "id": "OVR7VOn6RVgK",
        "outputId": "a9ba246f-4482-4f9f-d741-6de0e69ece16"
      },
      "execution_count": null,
      "outputs": [
        {
          "output_type": "display_data",
          "data": {
            "text/plain": [
              "<Figure size 432x288 with 1 Axes>"
            ],
            "image/png": "[encoded data removed]"
          },
          "metadata": {
            "needs_background": "light"
          }
        }
      ]
    },
    {
      "cell_type": "code",
      "source": [
        "plt.plot(y, 'o:b')"
      ],
      "metadata": {
        "colab": {
          "base_uri": "https://localhost:8080/",
          "height": 282
        },
        "id": "Phv9qF9CR1lY",
        "outputId": "0cb0ae30-09a1-4252-a671-1e0b5b0baab7"
      },
      "execution_count": null,
      "outputs": [
        {
          "output_type": "execute_result",
          "data": {
            "text/plain": [
              "[<matplotlib.lines.Line2D at 0x7fa801c6dd00>]"
            ]
          },
          "metadata": {},
          "execution_count": 7
        },
        {
          "output_type": "display_data",
          "data": {
            "text/plain": [
              "<Figure size 432x288 with 1 Axes>"
            ],
            "image/png": "[encoded data removed]"
          },
          "metadata": {
            "needs_background": "light"
          }
        }
      ]
    },
    {
      "cell_type": "code",
      "source": [
        "plt.plot(y,'o', ms=10) #markersize Tamaño del marcador\n",
        "plt.plot(y, '*', mec='b') #markeredgecolor color del borde"
      ],
      "metadata": {
        "colab": {
          "base_uri": "https://localhost:8080/",
          "height": 282
        },
        "id": "cLMjQPA5Tj1P",
        "outputId": "46ce1bc1-d078-4314-8f82-1e9434aedc99"
      },
      "execution_count": null,
      "outputs": [
        {
          "output_type": "execute_result",
          "data": {
            "text/plain": [
              "[<matplotlib.lines.Line2D at 0x7fa801bd3700>]"
            ]
          },
          "metadata": {},
          "execution_count": 8
        },
        {
          "output_type": "display_data",
          "data": {
            "text/plain": [
              "<Figure size 432x288 with 1 Axes>"
            ],
            "image/png": "[encoded data removed]"
          },
          "metadata": {
            "needs_background": "light"
          }
        }
      ]
    },
    {
      "cell_type": "markdown",
      "source": [
        "#Etiquetas"
      ],
      "metadata": {
        "id": "omOZVCVdBV4t"
      }
    },
    {
      "cell_type": "code",
      "source": [
        "x=np.linspace(-100,100)\n",
        "y=x**2\n"
      ],
      "metadata": {
        "id": "puvwAhQpBXcJ"
      },
      "execution_count": null,
      "outputs": []
    },
    {
      "cell_type": "code",
      "source": [
        "plt.title(\"Función cuadrática\")\n",
        "plt.xlabel(\"Eje X\") #Nombre del eje x\n",
        "plt.ylabel(\"Eje Y\") #Nombre del eje y\n",
        "plt.grid(color='r') #cuadricula\n",
        "plt.plot(x,y,'.')"
      ],
      "metadata": {
        "colab": {
          "base_uri": "https://localhost:8080/",
          "height": 312
        },
        "id": "Y5i4tGZpBgzX",
        "outputId": "a0f51ad4-8727-4343-8d89-22ddf83ac38c"
      },
      "execution_count": null,
      "outputs": [
        {
          "output_type": "execute_result",
          "data": {
            "text/plain": [
              "[<matplotlib.lines.Line2D at 0x7fa801c7c9a0>]"
            ]
          },
          "metadata": {},
          "execution_count": 10
        },
        {
          "output_type": "display_data",
          "data": {
            "text/plain": [
              "<Figure size 432x288 with 1 Axes>"
            ],
            "image/png": "[encoded data removed]"
          },
          "metadata": {
            "needs_background": "light"
          }
        }
      ]
    },
    {
      "cell_type": "code",
      "source": [
        "#Ejemplo\n",
        "\n",
        "dias=['L','M','X','J','V']\n",
        "temp=[20,30,32,28,18]\n",
        "\n",
        "plt.title(\"Temperaturas Registradas esta semana\")\n",
        "plt.xlabel(\"Días\")\n",
        "plt.ylabel(\"Temperaturas °C\")\n",
        "plt.grid(color=\"blue\")\n",
        "\n",
        "plt.plot(dias,temp, 'ro')\n",
        "\n",
        "plt.show()"
      ],
      "metadata": {
        "colab": {
          "base_uri": "https://localhost:8080/",
          "height": 295
        },
        "id": "q8Ff8mTACrX4",
        "outputId": "81db5275-3d6c-4182-a4a5-795b22410fd3"
      },
      "execution_count": null,
      "outputs": [
        {
          "output_type": "display_data",
          "data": {
            "text/plain": [
              "<Figure size 432x288 with 1 Axes>"
            ],
            "image/png": "[encoded data removed]"
          },
          "metadata": {
            "needs_background": "light"
          }
        }
      ]
    },
    {
      "cell_type": "code",
      "source": [
        "#configurar las fuentes de los ejes**\n",
        "\n",
        "x = np.array([80, 85, 90, 95, 100, 105, 110, 115, 120, 125])\n",
        "y = np.array([240, 250, 260, 270, 280, 290, 300, 310, 320, 330])\n",
        "\n",
        "font1 = {'family':'serif','color':'blue','size':20} #Establecer caracteristicas de la fuente\n",
        "font2 = {'family':'serif','color':'darkred','size':15}\n",
        "\n",
        "plt.title(\"Mi Grafica \", fontdict = font1)\n",
        "plt.xlabel(\"Eje x\", fontdict = font2)\n",
        "plt.ylabel(\"Eje y \", fontdict = font2)\n",
        "\n",
        "plt.plot(x, y, 'o')\n",
        "plt.show()"
      ],
      "metadata": {
        "colab": {
          "base_uri": "https://localhost:8080/",
          "height": 304
        },
        "id": "dV008Tz0USpp",
        "outputId": "2efbfebb-a4ed-4061-ac0f-40f9149c4b62"
      },
      "execution_count": null,
      "outputs": [
        {
          "output_type": "display_data",
          "data": {
            "text/plain": [
              "<Figure size 432x288 with 1 Axes>"
            ],
            "image/png": "[encoded data removed]"
          },
          "metadata": {
            "needs_background": "light"
          }
        }
      ]
    },
    {
      "cell_type": "markdown",
      "source": [
        "#Dos graficas en la misma cuadricula"
      ],
      "metadata": {
        "id": "7weFo43UVR4v"
      }
    },
    {
      "cell_type": "code",
      "source": [
        "x=np.linspace(0,50,100)\n",
        "y=[x**2 for x in x]\n",
        "z=[np.sqrt(x) for x in x]\n",
        "\n",
        "plt.plot(x,y)\n",
        "\n",
        "plt.plot(x,z)\n",
        "\n",
        "plt.grid(color='r', linestyle='--')\n",
        "\n",
        "plt.xlim(0,20)\n",
        "plt.ylim(0,10)\n",
        "plt.show()\n"
      ],
      "metadata": {
        "colab": {
          "base_uri": "https://localhost:8080/",
          "height": 269
        },
        "id": "7WPrnlu3VWNd",
        "outputId": "6f679c37-82f1-458e-dd58-897df3952bea"
      },
      "execution_count": null,
      "outputs": [
        {
          "output_type": "display_data",
          "data": {
            "text/plain": [
              "<Figure size 432x288 with 1 Axes>"
            ],
            "image/png": "[encoded data removed]"
          },
          "metadata": {
            "needs_background": "light"
          }
        }
      ]
    },
    {
      "cell_type": "code",
      "source": [
        "def c(x):\n",
        "    return 5"
      ],
      "metadata": {
        "id": "TTeeOgn8f64y"
      },
      "execution_count": null,
      "outputs": []
    },
    {
      "cell_type": "code",
      "source": [
        "#La función constante y=5\n",
        "import matplotlib.pyplot as plt\n",
        "import numpy as np\n",
        "def c(x):\n",
        "    return 5\n",
        "x=np.linspace(-10,10,100)\n",
        "y= [c(x) for x in x]\n",
        "\n",
        "plt.grid()\n",
        "plt.plot(x,y, color='red')"
      ],
      "metadata": {
        "colab": {
          "base_uri": "https://localhost:8080/",
          "height": 282
        },
        "id": "Po4qn7UscvSW",
        "outputId": "8151465a-5b25-4c70-8081-37cc1c33b1a4"
      },
      "execution_count": null,
      "outputs": [
        {
          "output_type": "execute_result",
          "data": {
            "text/plain": [
              "[<matplotlib.lines.Line2D at 0x7fa8019fd4f0>]"
            ]
          },
          "metadata": {},
          "execution_count": 15
        },
        {
          "output_type": "display_data",
          "data": {
            "text/plain": [
              "<Figure size 432x288 with 1 Axes>"
            ],
            "image/png": "[encoded data removed]"
          },
          "metadata": {
            "needs_background": "light"
          }
        }
      ]
    },
    {
      "cell_type": "code",
      "source": [
        "def g(x):\n",
        "    g=(10*(x**2)-1)/(2*x**2)\n",
        "    return g"
      ],
      "metadata": {
        "id": "_8q7yCZu7lG8"
      },
      "execution_count": null,
      "outputs": []
    },
    {
      "cell_type": "code",
      "source": [
        "x_1=np.linspace(1,10,100)\n",
        "z=[g(x) for x in x ]\n",
        "\n",
        "plt.plot(x_1,z)"
      ],
      "metadata": {
        "colab": {
          "base_uri": "https://localhost:8080/",
          "height": 282
        },
        "id": "ALe9bV0r70NT",
        "outputId": "4aa57198-7ca8-4991-83b7-d6d0389a0e04"
      },
      "execution_count": null,
      "outputs": [
        {
          "output_type": "execute_result",
          "data": {
            "text/plain": [
              "[<matplotlib.lines.Line2D at 0x7fa80197cd90>]"
            ]
          },
          "metadata": {},
          "execution_count": 17
        },
        {
          "output_type": "display_data",
          "data": {
            "text/plain": [
              "<Figure size 432x288 with 1 Axes>"
            ],
            "image/png": "[encoded data removed]"
          },
          "metadata": {
            "needs_background": "light"
          }
        }
      ]
    },
    {
      "cell_type": "code",
      "source": [
        "plt.plot(x,y)\n",
        "plt.plot(x,z)\n",
        "plt.grid()\n",
        "plt.plot()"
      ],
      "metadata": {
        "colab": {
          "base_uri": "https://localhost:8080/",
          "height": 282
        },
        "id": "B5Jp_ONb8Pio",
        "outputId": "45467f59-4c10-4300-fc38-00f4a7c2fc06"
      },
      "execution_count": null,
      "outputs": [
        {
          "output_type": "execute_result",
          "data": {
            "text/plain": [
              "[]"
            ]
          },
          "metadata": {},
          "execution_count": 18
        },
        {
          "output_type": "display_data",
          "data": {
            "text/plain": [
              "<Figure size 432x288 with 1 Axes>"
            ],
            "image/png": "[encoded data removed]"
          },
          "metadata": {
            "needs_background": "light"
          }
        }
      ]
    },
    {
      "cell_type": "markdown",
      "source": [
        "#Enlazar Geogebra a Python 'embeber'"
      ],
      "metadata": {
        "id": "wYCUEtPpzSiE"
      }
    },
    {
      "cell_type": "code",
      "source": [
        "#@title Ver applet GG {display-mode: \"form\"}\n",
        "\n",
        "import IPython.display as IP\n",
        "\n",
        "iframe = IP.IFrame(src=\"https://www.geogebra.org/m/tvgzfjta\",width=\"620px\",height=\"480px\")\n",
        "\n",
        "IP.display_html(iframe)"
      ],
      "metadata": {
        "id": "N0M-ER02vQG9",
        "outputId": "f221a5ce-0486-4a16-9f3c-52d995123178",
        "colab": {
          "base_uri": "https://localhost:8080/"
        }
      },
      "execution_count": null,
      "outputs": [
        {
          "output_type": "display_data",
          "data": {
            "text/html": [
              "\n",
              "        <iframe\n",
              "            width=\"620px\"\n",
              "            height=\"480px\"\n",
              "            src=\"https://www.geogebra.org/m/tvgzfjta\"\n",
              "            frameborder=\"0\"\n",
              "            allowfullscreen\n",
              "            \n",
              "        ></iframe>\n",
              "        "
            ]
          },
          "metadata": {}
        }
      ]
    },
    {
      "cell_type": "markdown",
      "source": [
        "#Dibujar los ejes\n"
      ],
      "metadata": {
        "id": "ANfLJsSEb0Zk"
      }
    },
    {
      "cell_type": "code",
      "source": [
        "plt.plot(x,y, '.')\n",
        "plt.grid()\n",
        "plt.axvline(x=0, color='black', linestyle='--') #Eje y\n",
        "plt.axhline(y=0, color='black') #Eje x"
      ],
      "metadata": {
        "colab": {
          "base_uri": "https://localhost:8080/",
          "height": 282
        },
        "id": "esm4ddptcPL8",
        "outputId": "22d590eb-cfbe-4dc6-a10f-984eef34b64e"
      },
      "execution_count": null,
      "outputs": [
        {
          "output_type": "execute_result",
          "data": {
            "text/plain": [
              "<matplotlib.lines.Line2D at 0x7fa7e107eca0>"
            ]
          },
          "metadata": {},
          "execution_count": 46
        },
        {
          "output_type": "display_data",
          "data": {
            "text/plain": [
              "<Figure size 432x288 with 1 Axes>"
            ],
            "image/png": "[encoded data removed]"
          },
          "metadata": {
            "needs_background": "light"
          }
        }
      ]
    },
    {
      "cell_type": "markdown",
      "source": [
        "#Actividad\n",
        "\n",
        "1. Construya, usando `mtl.plot`  la grafica de la siguientes funciones: Calibre de manera adecuada los ejes para que las graficas sea vean correctas.\n",
        "\n",
        "* $f(x)=\\sqrt{2x+4}$\n",
        "\n",
        "* $f(x)=\\frac{x^2}{x^3-1}$\n",
        "\n",
        "* $f(x)=\\frac{senx}{x}$\n",
        "\n",
        "\n",
        "`\n",
        "\n",
        "3. Grafique la función polinómica de grado $n=4$ cuyas raices son $2i,2$ y $3$\n",
        "\n",
        "4. Construya una función $\\phi (n)$ cuyo Dominio sean los números enteros positivos y retorne una lista con la sucesión de Fibonacci. Grafique la función\n",
        "\n",
        "5. Construya la gráfica del círculo $x^2+(y-4)^2=9$ Tenga cuidado con el dominio de la función.\n",
        "\n",
        "6. Identifique la asintota horizontal de la función $f(x)=\\frac{x^2-2}{4x^2+1}$ y grafique en el mismo plano la función y su asintota\n",
        "\n",
        "7. Construya un formulario con deslizador que modifique la potencia de la función $f(x)=x^n$ con $n\\ ϵ\\  𝗡$ y $n\\  ϵ\\  [1,10]$. Grafique todas las funciones\n",
        "\n"
      ],
      "metadata": {
        "id": "Sx0Wy3Pegeto"
      }
    },
    {
      "cell_type": "code",
      "source": [
        "import matplotlib.pyplot as plt\n",
        "import numpy as np\n",
        "\n",
        "x=np.linspace(-5,10)#Dominio\n",
        "y=[((2*x)+4)**(1/2) for x in x]\n",
        "\n",
        "plt.grid(color=\"g\", linestyle=\"--\")\n",
        "plt.plot(x,y, \".\")"
      ],
      "metadata": {
        "colab": {
          "base_uri": "https://localhost:8080/",
          "height": 317
        },
        "id": "-2MpRodpBXgD",
        "outputId": "8a881a76-870e-404d-bb3c-0114eff85ca9"
      },
      "execution_count": null,
      "outputs": [
        {
          "output_type": "stream",
          "name": "stderr",
          "text": [
            "<ipython-input-20-74f3dd0fd852>:5: RuntimeWarning: invalid value encountered in double_scalars\n",
            "  y=[((2*x)+4)**(1/2) for x in x]\n"
          ]
        },
        {
          "output_type": "execute_result",
          "data": {
            "text/plain": [
              "[<matplotlib.lines.Line2D at 0x7fa8018c4fa0>]"
            ]
          },
          "metadata": {},
          "execution_count": 20
        },
        {
          "output_type": "display_data",
          "data": {
            "text/plain": [
              "<Figure size 432x288 with 1 Axes>"
            ],
            "image/png": "[encoded data removed]"
          },
          "metadata": {
            "needs_background": "light"
          }
        }
      ]
    },
    {
      "cell_type": "code",
      "source": [
        "x=np.linspace(-10,0.99,100)\n",
        "x_2=np.linspace(1.011,10,100)\n",
        "y=[x**2/(x**3-1) for x in x]\n",
        "z=[x_2**2/(x_2**3-1) for x_2 in x_2]\n",
        "\n",
        "plt.grid()\n",
        "plt.plot(x,y)\n",
        "plt.plot(x_2,z)\n",
        "\n",
        "plt.axvline(x=1, color='black', linestyle='--')"
      ],
      "metadata": {
        "colab": {
          "base_uri": "https://localhost:8080/",
          "height": 282
        },
        "id": "eG2yREfSDGg6",
        "outputId": "083431a5-ea05-4c9e-86d9-3a160a3c0da1"
      },
      "execution_count": null,
      "outputs": [
        {
          "output_type": "execute_result",
          "data": {
            "text/plain": [
              "<matplotlib.lines.Line2D at 0x7fa801842280>"
            ]
          },
          "metadata": {},
          "execution_count": 21
        },
        {
          "output_type": "display_data",
          "data": {
            "text/plain": [
              "<Figure size 432x288 with 1 Axes>"
            ],
            "image/png": "[encoded data removed]"
          },
          "metadata": {
            "needs_background": "light"
          }
        }
      ]
    },
    {
      "cell_type": "markdown",
      "source": [],
      "metadata": {
        "id": "jI11GrFKHbNC"
      }
    },
    {
      "cell_type": "code",
      "source": [
        "import matplotlib.pyplot as plt\n",
        "import numpy as np\n",
        "\n",
        "def sinc(x):\n",
        "   return np.sin(x) / x\n",
        "x = np.linspace(-10, 10, 1000)\n",
        "y = [sinc(x) for x in x]\n",
        "plt.plot(x, y, '.')"
      ],
      "metadata": {
        "id": "6o6TJ4203LIJ",
        "colab": {
          "base_uri": "https://localhost:8080/",
          "height": 282
        },
        "outputId": "28108d61-f90d-4f7d-ef60-a72a34d6c03f"
      },
      "execution_count": null,
      "outputs": [
        {
          "output_type": "execute_result",
          "data": {
            "text/plain": [
              "[<matplotlib.lines.Line2D at 0x7fa8017c0400>]"
            ]
          },
          "metadata": {},
          "execution_count": 22
        },
        {
          "output_type": "display_data",
          "data": {
            "text/plain": [
              "<Figure size 432x288 with 1 Axes>"
            ],
            "image/png": "[encoded data removed]"
          },
          "metadata": {
            "needs_background": "light"
          }
        }
      ]
    },
    {
      "cell_type": "code",
      "source": [
        "x=np.linspace(-120,120,1000)\n",
        "def f(x):\n",
        "    f=(x-2)*(x-3)*(x-2j)*(x+2j)\n",
        "    return f\n",
        "y=[f(x) for x in x]\n",
        "plt.grid(color='grey', linestyle = \"--\")\n",
        "plt.ylim(-5,15)\n",
        "plt.xlim(-3,7.5)\n",
        "plt.plot(x,y)"
      ],
      "metadata": {
        "colab": {
          "base_uri": "https://localhost:8080/",
          "height": 321
        },
        "id": "kifIGymWGW-c",
        "outputId": "7c53832f-d9fc-47a7-ac4b-3c9d093bb29b"
      },
      "execution_count": null,
      "outputs": [
        {
          "output_type": "stream",
          "name": "stderr",
          "text": [
            "/usr/local/lib/python3.8/dist-packages/matplotlib/cbook/__init__.py:1298: ComplexWarning: Casting complex values to real discards the imaginary part\n",
            "  return np.asarray(x, float)\n"
          ]
        },
        {
          "output_type": "execute_result",
          "data": {
            "text/plain": [
              "[<matplotlib.lines.Line2D at 0x7fa8017b5370>]"
            ]
          },
          "metadata": {},
          "execution_count": 23
        },
        {
          "output_type": "display_data",
          "data": {
            "text/plain": [
              "<Figure size 432x288 with 1 Axes>"
            ],
            "image/png": "[encoded data removed]"
          },
          "metadata": {
            "needs_background": "light"
          }
        }
      ]
    },
    {
      "cell_type": "code",
      "source": [
        "def fibo(x):\n",
        "    fib=[1,1]\n",
        "    for i in range(2,x+1):\n",
        "     fib.append(fib[i-1]+fib[i-2])\n",
        "\n",
        "    return fib\n",
        "\n",
        "fun=fibo(8)\n",
        "plt.grid()\n",
        "plt.plot(fun,'bo')\n",
        "\n",
        "\n"
      ],
      "metadata": {
        "colab": {
          "base_uri": "https://localhost:8080/",
          "height": 282
        },
        "id": "BQBQpLbvHcMW",
        "outputId": "663e1ceb-8176-4ec8-e580-7b6b8276f9c8"
      },
      "execution_count": null,
      "outputs": [
        {
          "output_type": "execute_result",
          "data": {
            "text/plain": [
              "[<matplotlib.lines.Line2D at 0x7fa801a312b0>]"
            ]
          },
          "metadata": {},
          "execution_count": 24
        },
        {
          "output_type": "display_data",
          "data": {
            "text/plain": [
              "<Figure size 432x288 with 1 Axes>"
            ],
            "image/png": "[encoded data removed]"
          },
          "metadata": {
            "needs_background": "light"
          }
        }
      ]
    },
    {
      "cell_type": "code",
      "source": [
        "def funcion(x):\n",
        "    funcion = (x**2 - 2) / ((4*x**2) + 1)\n",
        "    return funcion\n",
        "\n",
        "def c(x):\n",
        "    return 0.25\n",
        "x=np.linspace(-5,5,100)\n",
        "\n",
        "k=[funcion(x) for x in x]\n",
        "l=[c(x) for x in x]\n",
        "\n",
        "plt.grid()\n",
        "plt.plot(x,l,'.',color='red')\n",
        "plt.plot(x,k)"
      ],
      "metadata": {
        "colab": {
          "base_uri": "https://localhost:8080/",
          "height": 282
        },
        "id": "pxb7keYdIpRF",
        "outputId": "532c2f9c-d739-4078-9878-6ab4afd55dd5"
      },
      "execution_count": null,
      "outputs": [
        {
          "output_type": "execute_result",
          "data": {
            "text/plain": [
              "[<matplotlib.lines.Line2D at 0x7fa801bfcfd0>]"
            ]
          },
          "metadata": {},
          "execution_count": 25
        },
        {
          "output_type": "display_data",
          "data": {
            "text/plain": [
              "<Figure size 432x288 with 1 Axes>"
            ],
            "image/png": "[encoded data removed]"
          },
          "metadata": {
            "needs_background": "light"
          }
        }
      ]
    },
    {
      "cell_type": "code",
      "source": [
        "#@title 7.\n",
        "n = 5 #@param {type:\"slider\", min:1, max:10, step:1}\n",
        "x = np.linspace(0,10)\n",
        "\n",
        "y = x**n\n",
        "\n",
        "plt.plot(x,y)\n",
        "\n",
        "plt.grid(linestyle='-.')\n",
        "\n",
        "plt.show()"
      ],
      "metadata": {
        "colab": {
          "base_uri": "https://localhost:8080/",
          "height": 265
        },
        "id": "zkzfQWVDKAHC",
        "outputId": "4ed090a5-c4fc-4eb3-e753-95041652f272"
      },
      "execution_count": null,
      "outputs": [
        {
          "output_type": "display_data",
          "data": {
            "text/plain": [
              "<Figure size 432x288 with 1 Axes>"
            ],
            "image/png": "[encoded data removed]"
          },
          "metadata": {
            "needs_background": "light"
          }
        }
      ]
    },
    {
      "cell_type": "markdown",
      "source": [
        "#Funciones a trozos"
      ],
      "metadata": {
        "id": "pZemo4XyFdkU"
      }
    },
    {
      "cell_type": "code",
      "source": [
        "#definir una funcióna  trozos\n",
        "\n",
        "def f(x):\n",
        "    if x>0:\n",
        "        return x**2\n",
        "    else:\n",
        "        return 4-x"
      ],
      "metadata": {
        "id": "Aittc0O0Fc_2"
      },
      "execution_count": null,
      "outputs": []
    },
    {
      "cell_type": "code",
      "source": [
        "f(0)"
      ],
      "metadata": {
        "colab": {
          "base_uri": "https://localhost:8080/"
        },
        "id": "9YzwLUwbGZL8",
        "outputId": "e8a5524f-f0a9-491b-a4e0-28dbed3a3a78"
      },
      "execution_count": null,
      "outputs": [
        {
          "output_type": "execute_result",
          "data": {
            "text/plain": [
              "4"
            ]
          },
          "metadata": {},
          "execution_count": 28
        }
      ]
    },
    {
      "cell_type": "code",
      "source": [
        "x=np.linspace(-6,6,100)\n",
        "y=[f(x) for x in x]\n"
      ],
      "metadata": {
        "id": "Or5IfkqSGa-M"
      },
      "execution_count": null,
      "outputs": []
    },
    {
      "cell_type": "code",
      "source": [
        "plt.plot(x,y,'.')\n",
        "plt.grid()"
      ],
      "metadata": {
        "colab": {
          "base_uri": "https://localhost:8080/",
          "height": 265
        },
        "id": "SExVn6CcGfbz",
        "outputId": "1b4799b0-371c-437e-f081-38a2bc0ba2b5"
      },
      "execution_count": null,
      "outputs": [
        {
          "output_type": "display_data",
          "data": {
            "text/plain": [
              "<Figure size 432x288 with 1 Axes>"
            ],
            "image/png": "[encoded data removed]"
          },
          "metadata": {
            "needs_background": "light"
          }
        }
      ]
    },
    {
      "cell_type": "code",
      "source": [
        "import math as mt\n",
        "\n",
        "mt.ceil(1.5) #Función techo"
      ],
      "metadata": {
        "colab": {
          "base_uri": "https://localhost:8080/"
        },
        "id": "niZ7PkHeHcby",
        "outputId": "a0b56353-edbc-414b-fdea-82e333b8c27a"
      },
      "execution_count": null,
      "outputs": [
        {
          "output_type": "execute_result",
          "data": {
            "text/plain": [
              "2"
            ]
          },
          "metadata": {},
          "execution_count": 31
        }
      ]
    },
    {
      "cell_type": "code",
      "source": [
        "def techo(x):\n",
        "    techo=mt.ceil(x)\n",
        "    return techo"
      ],
      "metadata": {
        "id": "lW9UvNUdHJ32"
      },
      "execution_count": null,
      "outputs": []
    },
    {
      "cell_type": "code",
      "source": [
        "techo(2.6)"
      ],
      "metadata": {
        "colab": {
          "base_uri": "https://localhost:8080/"
        },
        "id": "6ViCWPskIVhD",
        "outputId": "fc41e345-94e6-4c78-da8f-940cfd68510d"
      },
      "execution_count": null,
      "outputs": [
        {
          "output_type": "execute_result",
          "data": {
            "text/plain": [
              "3"
            ]
          },
          "metadata": {},
          "execution_count": 33
        }
      ]
    },
    {
      "cell_type": "code",
      "source": [
        "z=[techo(x) for x in x]"
      ],
      "metadata": {
        "id": "pwkbSCnpIGg_"
      },
      "execution_count": null,
      "outputs": []
    },
    {
      "cell_type": "code",
      "source": [
        "plt.plot(x,z,'.')\n",
        "plt.grid()"
      ],
      "metadata": {
        "colab": {
          "base_uri": "https://localhost:8080/",
          "height": 265
        },
        "id": "KCaXnUh0Iep0",
        "outputId": "a3fff73a-ebf3-4272-d183-f2b2bd4494f1"
      },
      "execution_count": null,
      "outputs": [
        {
          "output_type": "display_data",
          "data": {
            "text/plain": [
              "<Figure size 432x288 with 1 Axes>"
            ],
            "image/png": "[encoded data removed]"
          },
          "metadata": {
            "needs_background": "light"
          }
        }
      ]
    },
    {
      "cell_type": "markdown",
      "source": [
        "#Actividad\n",
        "\n",
        "Graficar la función parte entera piso mt\n",
        "\n",
        "Graficar la dos techo y piso en la misma plot"
      ],
      "metadata": {
        "id": "AQzFfds4KNl5"
      }
    },
    {
      "cell_type": "code",
      "source": [],
      "metadata": {
        "id": "K1R19Ht3IhIA"
      },
      "execution_count": null,
      "outputs": []
    }
  ]
}
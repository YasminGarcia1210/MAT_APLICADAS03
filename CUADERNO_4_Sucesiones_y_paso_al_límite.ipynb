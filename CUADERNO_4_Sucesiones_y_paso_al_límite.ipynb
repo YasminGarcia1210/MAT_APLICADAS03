{
  "nbformat": 4,
  "nbformat_minor": 0,
  "metadata": {
    "colab": {
      "provenance": [],
      "authorship_tag": "ABX9TyMJddmIqeoJiRL0YrtsJPDw",
      "include_colab_link": true
    },
    "kernelspec": {
      "name": "python3",
      "display_name": "Python 3"
    },
    "language_info": {
      "name": "python"
    }
  },
  "cells": [
    {
      "cell_type": "markdown",
      "metadata": {
        "id": "view-in-github",
        "colab_type": "text"
      },
      "source": [
        "<a href=\"https://colab.research.google.com/github/YasminGarcia1210/MAT_APLICADAS03/blob/main/CUADERNO_4_Sucesiones_y_paso_al_l%C3%ADmite.ipynb\" target=\"_parent\"><img src=\"https://colab.research.google.com/assets/colab-badge.svg\" alt=\"Open In Colab\"/></a>"
      ]
    },
    {
      "cell_type": "markdown",
      "source": [
        "<img src=http://www.acofi.edu.co/eiei2016/wp-content/uploads/2016/09/Logo-Universidad-ICESI.jpg width=\"200\" height=\"200\" align=\"center\">\n",
        "\n",
        "#**<big><big>Matemáticas Aplicadas I</big></big><br><small>Depto. Matemáticas & Estadística / Facultad de Ingeniería</small><br><small>_*CUADERNO 4*_ SUCESIONES. </small>**"
      ],
      "metadata": {
        "id": "F2CUpbCiS7JA"
      }
    },
    {
      "cell_type": "markdown",
      "source": [
        "#Sucesiones\n",
        "\n",
        "De manera intuitiva una sucesión es una secuencia numérica. Esta puede verse asi:\n",
        "\n",
        "$$a_1, a_2, a_3,..., a_n...$$\n",
        "\n",
        "Se puede especificar una sucesión dando suficientes términos iniciales para establecer un patrón, como en:\n",
        "\n",
        "$$1,4,7,10,13$$\n",
        "\n",
        "mediante una **fórmula explícita** para el n-ésimo término, como en\n",
        "\n",
        "$$a_n=3n-2$$"
      ],
      "metadata": {
        "id": "LRaAimLzNNnU"
      }
    },
    {
      "cell_type": "markdown",
      "source": [
        "##Ejemplo\n",
        "\n",
        "Escriba los primeros 100 términos de la sucesión $a_n=\\frac{1}{n}$"
      ],
      "metadata": {
        "id": "_VZYEJvxO16h"
      }
    },
    {
      "cell_type": "code",
      "source": [
        "a_n=[1/x for x in range(1,101)]\n"
      ],
      "metadata": {
        "id": "1tTF70679EMg"
      },
      "execution_count": null,
      "outputs": []
    },
    {
      "cell_type": "markdown",
      "source": [
        "##Ejemplo\n",
        "Escriba los primeros 100 términos de la sucesión\n",
        "\n",
        "$$a_n=(-1)^n+\\frac{1}{n}$$"
      ],
      "metadata": {
        "id": "T5vbf1HkPU98"
      }
    },
    {
      "cell_type": "code",
      "source": [
        "import numpy as np\n",
        "x=np.linspace(0,100,101)\n"
      ],
      "metadata": {
        "id": "SUb2pMXNPmsa"
      },
      "execution_count": null,
      "outputs": []
    },
    {
      "cell_type": "code",
      "source": [
        "def suc(n):\n",
        "  suc=((-1)**n)+(1/n)\n",
        "  return suc"
      ],
      "metadata": {
        "id": "Hg58sX86QVgI"
      },
      "execution_count": null,
      "outputs": []
    },
    {
      "cell_type": "code",
      "source": [
        "a_n=[suc(n) for n in x]\n",
        "\n"
      ],
      "metadata": {
        "id": "loVwF08ZQgZs"
      },
      "execution_count": null,
      "outputs": []
    },
    {
      "cell_type": "markdown",
      "source": [
        "#Grafica de sucesiones\n",
        "\n",
        "La grafica de una sucesión es un plot de los términos de la sucesión $a_n$"
      ],
      "metadata": {
        "id": "imbK8mR4Q9CE"
      }
    },
    {
      "cell_type": "code",
      "source": [
        "import matplotlib.pyplot as plt\n"
      ],
      "metadata": {
        "id": "FwQRmw-fRDjs"
      },
      "execution_count": null,
      "outputs": []
    },
    {
      "cell_type": "markdown",
      "source": [
        "#Ejemplo\n",
        "\n",
        "Grafique los primeros 30 términos de la sucesión\n",
        "\n",
        "$$a_n=\\frac{cos(n\\pi)}{n}$$"
      ],
      "metadata": {
        "id": "_hZdXtf9Rvfm"
      }
    },
    {
      "cell_type": "code",
      "source": [],
      "metadata": {
        "id": "5stCOATuSr1N"
      },
      "execution_count": null,
      "outputs": []
    },
    {
      "cell_type": "code",
      "source": [
        "def a_n(n):\n",
        "  a_n=(np.cos(np.radians(np.pi*n)))/n\n",
        "  return a_n\n",
        "\n",
        "x=np.linspace(1,31,32)\n",
        "y=[a_n(n) for n in x]\n",
        "\n",
        "plt.plot(x,y,'.')"
      ],
      "metadata": {
        "id": "IUTfaaw8SXcw",
        "colab": {
          "base_uri": "https://localhost:8080/",
          "height": 282
        },
        "outputId": "d00fca22-a1a5-4972-e784-94022fa54523"
      },
      "execution_count": null,
      "outputs": [
        {
          "output_type": "execute_result",
          "data": {
            "text/plain": [
              "[<matplotlib.lines.Line2D at 0x7f29c80ceeb0>]"
            ]
          },
          "metadata": {},
          "execution_count": 16
        },
        {
          "output_type": "display_data",
          "data": {
            "text/plain": [
              "<Figure size 432x288 with 1 Axes>"
            ],
            "image/png": "[encoded data removed]"
          },
          "metadata": {
            "needs_background": "light"
          }
        }
      ]
    },
    {
      "cell_type": "markdown",
      "source": [
        "#Paso al límite\n",
        "\n",
        "##El problema del área\n",
        "\n"
      ],
      "metadata": {
        "id": "SiKcSTNbVdfZ"
      }
    },
    {
      "cell_type": "code",
      "source": [
        "#@title El problema del área  {display-mode: \"form\"}\n",
        "\n",
        "import IPython.display as IP\n",
        "\n",
        "iframe = IP.IFrame(src=\"https://www.geogebra.org/classic/czk44jsk\",width=\"1200px\",height=\"500px\")\n",
        "\n",
        "IP.display_html(iframe)"
      ],
      "metadata": {
        "id": "xz9xJdbLuTRb"
      },
      "execution_count": null,
      "outputs": []
    },
    {
      "cell_type": "code",
      "source": [
        "def suc(n):\n",
        "  suc=(1+1/n)**n\n",
        "  return suc"
      ],
      "metadata": {
        "id": "C6EQwLPzvAvg"
      },
      "execution_count": null,
      "outputs": []
    },
    {
      "cell_type": "code",
      "source": [
        "suc(100000000)"
      ],
      "metadata": {
        "colab": {
          "base_uri": "https://localhost:8080/"
        },
        "id": "xpl0dsouvn9H",
        "outputId": "79008886-b03a-4a00-cf8b-8cd85e833da1"
      },
      "execution_count": null,
      "outputs": [
        {
          "output_type": "execute_result",
          "data": {
            "text/plain": [
              "2.7182817983473577"
            ]
          },
          "metadata": {},
          "execution_count": 19
        }
      ]
    },
    {
      "cell_type": "code",
      "source": [
        "import numpy as np\n",
        "x=np.arange(1,100)"
      ],
      "metadata": {
        "id": "lONTz1jyvy00"
      },
      "execution_count": null,
      "outputs": []
    },
    {
      "cell_type": "code",
      "source": [
        "y=[suc(x) for x in x]\n",
        "y"
      ],
      "metadata": {
        "id": "OCthhptbv3hk"
      },
      "execution_count": null,
      "outputs": []
    },
    {
      "cell_type": "code",
      "source": [
        "plt.plot(x,y,':')\n"
      ],
      "metadata": {
        "id": "41tBwDewwE6S",
        "colab": {
          "base_uri": "https://localhost:8080/",
          "height": 282
        },
        "outputId": "346dd850-b3e2-4a4e-abc0-d876ac261317"
      },
      "execution_count": null,
      "outputs": [
        {
          "output_type": "execute_result",
          "data": {
            "text/plain": [
              "[<matplotlib.lines.Line2D at 0x7f29a97ad250>]"
            ]
          },
          "metadata": {},
          "execution_count": 22
        },
        {
          "output_type": "display_data",
          "data": {
            "text/plain": [
              "<Figure size 432x288 with 1 Axes>"
            ],
            "image/png": "[encoded data removed]"
          },
          "metadata": {
            "needs_background": "light"
          }
        }
      ]
    },
    {
      "cell_type": "markdown",
      "source": [
        "###¿Cúal es el valor al cual tiende $y$ cuando $x$ se hace muy grande ?"
      ],
      "metadata": {
        "id": "RT65T2a6w3VK"
      }
    },
    {
      "cell_type": "code",
      "source": [],
      "metadata": {
        "id": "L2H8gqhtwxob",
        "colab": {
          "base_uri": "https://localhost:8080/"
        },
        "outputId": "f1e5aa79-27da-4c3e-8ae9-adeede63f4ce"
      },
      "execution_count": null,
      "outputs": [
        {
          "output_type": "execute_result",
          "data": {
            "text/plain": [
              "2.718281828459045"
            ]
          },
          "metadata": {},
          "execution_count": 23
        }
      ]
    },
    {
      "cell_type": "markdown",
      "source": [
        "# EL PROBLEMA DE LA TANGENTE\n",
        "\n",
        "Recordemos que para calcular la pendiente de una recta, es necesario dos puntos\n",
        "\n",
        "$$m=\\frac{y_2-y_1}{x_2-x_1}$$\n",
        "\n",
        "Esta recta se conoce como la secante\n",
        "\n",
        "Ahora si necesito calcular la recta tangente ¿qué proceso podría seguir?"
      ],
      "metadata": {
        "id": "RCvlYVSMbcuh"
      }
    },
    {
      "cell_type": "code",
      "source": [
        "import numpy as np\n",
        "import matplotlib.pyplot as plt\n",
        "\n",
        "x=np.linspace(-10,10)\n",
        "y=x**2\n",
        "z=2*x\n",
        "w=4*x-4\n",
        "\n",
        "#Grafica\n",
        "plt.title(\"Recta secante vs recta tangente\")\n",
        "#plt.xlim(-5,5)\n",
        "plt.ylim(-5,40)\n",
        "plt.plot(x,y)\n",
        "plt.plot(x,z)\n",
        "plt.plot(x,w)\n",
        "plt.plot(0,0, 'o')\n",
        "plt.plot(2,4, 'o')\n",
        "plt.grid()"
      ],
      "metadata": {
        "colab": {
          "base_uri": "https://localhost:8080/",
          "height": 452
        },
        "id": "aT3qThnhcSve",
        "outputId": "142beff9-69a0-43ad-ab81-c464cb82a4ff"
      },
      "execution_count": null,
      "outputs": [
        {
          "output_type": "display_data",
          "data": {
            "text/plain": [
              "<Figure size 640x480 with 1 Axes>"
            ],
            "image/png": "[encoded data removed]"
          },
          "metadata": {}
        }
      ]
    },
    {
      "cell_type": "markdown",
      "source": [
        "\n",
        "#Veamos\n",
        "Calcular la ecuación de la Recta tangente a la curva $y=x^2$ en el punto $(2,4)$"
      ],
      "metadata": {
        "id": "EKXhPq6Ze_jC"
      }
    },
    {
      "cell_type": "markdown",
      "source": [
        "##El límite\n",
        "\n",
        "El límite de una sucesión es el valor al cuál se pueden aproximar las cantidades de serie numérica como máximo. Dicho de otra forma, es la cantidad que pone límite a la sucesión de valores\n",
        "\n",
        "$$Lim_{n \\rightarrow a} f(n)$$\n",
        "\n",
        "\n",
        "Existen tipos de sucesiones de sucesiones  en álgebra tienen límite finito, se llaman sucesiones convergentes y otros tienen límite infinito, son sucesiones divergentes.\n",
        "\n",
        "**Ejemplos**\n",
        "\n",
        "1. $Lim_{n \\rightarrow 5} 3n+1 =3(5)+1=16$\n",
        "\n",
        "\n",
        "2. $Lim_{n \\rightarrow 200} \\frac{1}{n}= \\frac{1}{200}=0.005$\n",
        "\n",
        "\n",
        "3. $Lim_{n \\rightarrow 1000} (1+\\frac{1}{n})^n =(1+\\frac{1}{1000})^{1000}=2.71692393224...$"
      ],
      "metadata": {
        "id": "mYZgrAuDxCFH"
      }
    },
    {
      "cell_type": "markdown",
      "source": [
        "#Leyes de los límites\n",
        "\n",
        "<img src=\"https://calculo21.com/wp-content/uploads/2022/11/image-9.png\">"
      ],
      "metadata": {
        "id": "DBs-g5UE0XOf"
      }
    },
    {
      "cell_type": "markdown",
      "source": [
        "##Límites con Python\n",
        "\n",
        "Con Python, podemos resolver Límites utilizando la librería `SymPy`, la cual nos proporciona el objeto Limit para representarlos en Python. Su sintaxis es la siguiente: `limit(función, variable, punto)`.\n",
        "\n",
        "Entonces para calcular el límite de f(x) cuando x tiende a 0, debemos escribir:\n",
        "\n",
        "\n",
        "\n",
        "```\n",
        "from sympy.interactive import printing\n",
        "from sympy import Limit, limit, Symbol, S\n",
        "Limit(f(x),x,0)\n",
        "limit(f(x), x, 0)\n",
        "```\n",
        "\n"
      ],
      "metadata": {
        "id": "tOb-9vC21K2C"
      }
    },
    {
      "cell_type": "code",
      "source": [
        "from sympy.interactive import printing\n",
        "from sympy import Limit, limit, Symbol, S\n",
        "\n",
        "# imprimir con notación matemática.\n",
        "printing.init_printing(use_latex='mathjax')\n",
        "\n",
        "x = Symbol('x') # Creando el simbolo x.\n",
        "Limit(x**2 - x + 2, x, 2) # Creando el objeto Limit"
      ],
      "metadata": {
        "colab": {
          "base_uri": "https://localhost:8080/",
          "height": 45
        },
        "id": "13MS7AfTw_q9",
        "outputId": "8292621d-d27a-4e01-e94e-4ff06f043c0f"
      },
      "execution_count": null,
      "outputs": [
        {
          "output_type": "execute_result",
          "data": {
            "text/plain": [
              "     ⎛ 2        ⎞\n",
              " lim ⎝x  - x + 2⎠\n",
              "x─→2⁺            "
            ],
            "image/png": "[encoded data removed]",
            "text/latex": "$\\displaystyle \\lim_{x \\to 2^+}\\left(x^{2} - x + 2\\right)$"
          },
          "metadata": {},
          "execution_count": 1
        }
      ]
    },
    {
      "cell_type": "code",
      "source": [
        "# Resolviendo el Limite con el metodo doit()\n",
        "Limit(x**2 - x + 2, x, 2).doit()"
      ],
      "metadata": {
        "colab": {
          "base_uri": "https://localhost:8080/",
          "height": 37
        },
        "id": "Erq-URvZ1vY5",
        "outputId": "cc1e63c1-a695-460d-d533-8430a3a70e74"
      },
      "execution_count": null,
      "outputs": [
        {
          "output_type": "execute_result",
          "data": {
            "text/plain": [
              "4"
            ],
            "text/latex": "$\\displaystyle 4$"
          },
          "metadata": {},
          "execution_count": 25
        }
      ]
    },
    {
      "cell_type": "code",
      "source": [
        "# La funcion limit (minúscula) nos da directamente el resultado\n",
        "limit(x**3, x, 4)"
      ],
      "metadata": {
        "colab": {
          "base_uri": "https://localhost:8080/",
          "height": 37
        },
        "id": "6nJrJ2fW1w1i",
        "outputId": "af754a00-c1c2-433b-f5b7-dcc0f8b44103"
      },
      "execution_count": null,
      "outputs": [
        {
          "output_type": "execute_result",
          "data": {
            "text/plain": [
              "64"
            ],
            "text/latex": "$\\displaystyle 64$"
          },
          "metadata": {},
          "execution_count": 26
        }
      ]
    },
    {
      "cell_type": "markdown",
      "source": [
        "#Limites al infinito\n",
        "\n",
        "$$lim_{n \\rightarrow ∞} f(n)$$\n",
        "\n",
        "##Definición\n",
        "\n",
        "$$\\frac{1}{0}=\\infty \\iff \\frac{1}{\\infty}=0$$"
      ],
      "metadata": {
        "id": "zfCFMBhR2kvC"
      }
    },
    {
      "cell_type": "markdown",
      "source": [
        "##Ejemplo\n",
        "\n",
        "1. $$lim_{n \\rightarrow ∞} \\frac{1}{n^2+1} = \\frac{1}{\\infty} =0$$\n",
        "\n"
      ],
      "metadata": {
        "id": "ckRsZyW_4vRr"
      }
    },
    {
      "cell_type": "markdown",
      "source": [
        "##Operaciones con límites\n",
        "\n",
        "<img src=\"https://totumat.files.wordpress.com/2020/08/image-44.png?w=707\" width=\"460\" height=\"420\" align=\"center\">"
      ],
      "metadata": {
        "id": "Ru-yFDc6-FpS"
      }
    },
    {
      "cell_type": "code",
      "source": [
        "#Resolviendo un método de limites al infinito con Sympy\n",
        "\n",
        "#S.Infnity = Simbolo de infinito\n",
        "\n",
        "limit(1/x, x,S.Infinity)"
      ],
      "metadata": {
        "colab": {
          "base_uri": "https://localhost:8080/",
          "height": 37
        },
        "id": "D8292CsC-OxC",
        "outputId": "af4b69c3-39b4-47e8-960e-48aa0a97e036"
      },
      "execution_count": null,
      "outputs": [
        {
          "output_type": "execute_result",
          "data": {
            "text/plain": [
              "0"
            ],
            "text/latex": "$\\displaystyle 0$"
          },
          "metadata": {},
          "execution_count": 27
        }
      ]
    },
    {
      "cell_type": "code",
      "source": [
        "#ver el resultado en la lista de valores\n",
        "\n",
        "f= lambda x: 1/x\n",
        "\n",
        "x=np.arange(1,1000)\n",
        "\n",
        "y=[f(x) for x in x]"
      ],
      "metadata": {
        "id": "qlBRWuB14uf4"
      },
      "execution_count": null,
      "outputs": []
    },
    {
      "cell_type": "code",
      "source": [
        "plt.plot(x,y,'r:')\n",
        "plt.show()"
      ],
      "metadata": {
        "id": "IyvZi_w014VC",
        "colab": {
          "base_uri": "https://localhost:8080/",
          "height": 265
        },
        "outputId": "3ce4100c-02d0-4478-bc90-54c004c826db"
      },
      "execution_count": null,
      "outputs": [
        {
          "output_type": "display_data",
          "data": {
            "text/plain": [
              "<Figure size 432x288 with 1 Axes>"
            ],
            "image/png": "[encoded data removed]"
          },
          "metadata": {
            "needs_background": "light"
          }
        }
      ]
    },
    {
      "cell_type": "markdown",
      "source": [
        "#Convergencia\n",
        "\n",
        "Vamos a decir que si $lim_{x → \\infty} a_n=L$\n",
        "Entonces la sucesión $a_n$ **Converge** y su límite es $L$ , de lo contrario si $lim_{x → \\infty} a_n=\\infty$ decimos que la sucesión **Diverge**"
      ],
      "metadata": {
        "id": "9MRVo6CA_nyJ"
      }
    },
    {
      "cell_type": "markdown",
      "source": [
        "##Asintóta Horizontal\n",
        "\n",
        "###Definición\n",
        "\n",
        "Si $lim_{x → \\infty} a_n=L$ Entonces la sucesión $a_n$ **Converge**, además\n",
        "\n",
        "$y=L$ es una asintóta Horizontal"
      ],
      "metadata": {
        "id": "ja0U5IhJVD8n"
      }
    },
    {
      "cell_type": "markdown",
      "source": [
        "##Ejemplo\n",
        "\n",
        "Sea la suceción $a_n=\\frac{n^2+3n}{4n^2-2}$, determine si $a_n$ converge\n",
        "\n",
        "**Solución**\n",
        "\n",
        "$lim_{x → \\infty}\\frac{n^2+3n}{4n^2-2} =  lim_{x → \\infty}\\frac{1 + \\frac{3}{n}}{4-\\frac{2}{n^2}}= \\frac{1}{4}$\n",
        "\n",
        "\n",
        "Esta sucesión converge a $L= \\frac{1}{4}$ por tanto tiene una asíntota horizontal en $y=\\frac{1}{4}$"
      ],
      "metadata": {
        "id": "KJEurWnVVT5w"
      }
    },
    {
      "cell_type": "code",
      "source": [
        "import numpy as np\n",
        "import matplotlib.pyplot as plt\n",
        "\n",
        "#Definir la sucesión\n",
        "\n",
        "a_n= lambda n:(n**2+3*n)/(4*n**2-2)\n",
        "\n",
        "n=np.linspace(1,100,101)\n",
        "m=[a_n(n) for n in n]\n",
        "\n",
        "#Graficar la sucesión\n",
        "plt.plot(n,m,':')\n",
        "plt.grid()\n",
        "plt.axhline(y=0.25, color='r', linestyle=\":\")\n",
        "plt.show()"
      ],
      "metadata": {
        "colab": {
          "base_uri": "https://localhost:8080/",
          "height": 265
        },
        "id": "QT8kul0eWyRU",
        "outputId": "a418b268-a2ea-44f8-9089-491c2767ac3c"
      },
      "execution_count": null,
      "outputs": [
        {
          "output_type": "display_data",
          "data": {
            "text/plain": [
              "<Figure size 432x288 with 1 Axes>"
            ],
            "image/png": "[encoded data removed]"
          },
          "metadata": {
            "needs_background": "light"
          }
        }
      ]
    }
  ]
}
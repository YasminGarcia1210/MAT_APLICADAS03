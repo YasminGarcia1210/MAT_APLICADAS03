{
  "nbformat": 4,
  "nbformat_minor": 0,
  "metadata": {
    "colab": {
      "provenance": [],
      "include_colab_link": true
    },
    "kernelspec": {
      "name": "python3",
      "display_name": "Python 3"
    },
    "language_info": {
      "name": "python"
    }
  },
  "cells": [
    {
      "cell_type": "markdown",
      "metadata": {
        "id": "view-in-github",
        "colab_type": "text"
      },
      "source": [
        "<a href=\"https://colab.research.google.com/github/YasminGarcia1210/MAT_APLICADAS03/blob/main/CUADERNO_2_.ipynb\" target=\"_parent\"><img src=\"https://colab.research.google.com/assets/colab-badge.svg\" alt=\"Open In Colab\"/></a>"
      ]
    },
    {
      "cell_type": "markdown",
      "source": [
        "<img src=http://www.acofi.edu.co/eiei2016/wp-content/uploads/2016/09/Logo-Universidad-ICESI.jpg width=\"200\" height=\"200\" align=\"center\">\n",
        "\n",
        "#**<big><big>Matemáticas Aplicadas I</big></big><br><small>Depto. Matemáticas & Estadística / Facultad de Ingeniería</small><br><small>_*CUADERNO 2*_ ARREGLOS. </small>**"
      ],
      "metadata": {
        "id": "2c8dg9GQzwu7"
      }
    },
    {
      "cell_type": "code",
      "source": [],
      "metadata": {
        "id": "OrofDz6Pv4Rv"
      },
      "execution_count": null,
      "outputs": []
    },
    {
      "cell_type": "markdown",
      "source": [
        "##Arreglos #\n",
        "\n",
        "Un **array** en Python es un tipo de variable especial que puede alojar dentro de sí varios valores al mismo tiempo.\n",
        "\n",
        "Es decir, no es que se alojen los datos en un mismo lugar al mismo tiempo, sino que se tienen una serie de contenedores que conforman el array y en cada uno de esos contenedores se guardan datos distintos\n",
        "\n",
        "##Diferencias entre listas y arreglos\n",
        "\n",
        "Las listas y los arrays se comportan de manera similar y ambos son una secuencia ordenada de elementos. También son mutables (CAMBIAN) y no poseen tamaños fijos, lo que quiere decir que pueden crecer y reducirse a lo largo del uso del programa.\n",
        "\n",
        "Todos los elementos de una lista y un array en Python pueden agregarse y eliminarse. Esto los convierte en objetos muy flexibles y fáciles de trabajar.\n",
        "\n",
        "Una de las grandes diferencias es que, **a diferencia de los arrays (arreglos), las listas pueden almacenar diversos tipos de datos.**"
      ],
      "metadata": {
        "id": "rzSc44xD0GaL"
      }
    },
    {
      "cell_type": "code",
      "execution_count": null,
      "metadata": {
        "id": "3DKOZ3mSztz_"
      },
      "outputs": [],
      "source": [
        "#creando un array (arreglo)\n",
        "import numpy as np"
      ]
    },
    {
      "cell_type": "code",
      "source": [
        "np.array([0,100]) #Asi se escribe un arreglo ...>Sirve para guardar vectores"
      ],
      "metadata": {
        "id": "45Zu27volmKJ",
        "colab": {
          "base_uri": "https://localhost:8080/"
        },
        "outputId": "15fc50fb-2163-402e-c4d9-405dfaa5ca98"
      },
      "execution_count": null,
      "outputs": [
        {
          "output_type": "execute_result",
          "data": {
            "text/plain": [
              "array([  0, 100])"
            ]
          },
          "metadata": {},
          "execution_count": 2
        }
      ]
    },
    {
      "cell_type": "code",
      "source": [
        "arreglo=[1,2,3] #Vector\n",
        "\n",
        "arreglo_anidado=[[1,2,3],[2,3,4],[5,6,7]] #Esto es una Matriz"
      ],
      "metadata": {
        "id": "HVCxf_MO1Bbb"
      },
      "execution_count": null,
      "outputs": []
    },
    {
      "cell_type": "code",
      "source": [
        "np.array([1, 2, 3], dtype=complex) #CONVERTIR A UN COMPLEJO\n"
      ],
      "metadata": {
        "id": "Kien82g_mRNW",
        "colab": {
          "base_uri": "https://localhost:8080/"
        },
        "outputId": "b9f300ec-ef48-418e-8f6b-6ae93d2c540b"
      },
      "execution_count": null,
      "outputs": [
        {
          "output_type": "execute_result",
          "data": {
            "text/plain": [
              "array([1.+0.j, 2.+0.j, 3.+0.j])"
            ]
          },
          "metadata": {},
          "execution_count": 4
        }
      ]
    },
    {
      "cell_type": "code",
      "source": [
        "#Convertir una lista en un arreglo\n",
        "\n",
        "lista=[1,2,3,4]\n",
        "\n",
        "np.array(lista)"
      ],
      "metadata": {
        "colab": {
          "base_uri": "https://localhost:8080/"
        },
        "id": "1bDRByYI1PEL",
        "outputId": "3bad33df-917d-4819-abef-f2f70729f673"
      },
      "execution_count": null,
      "outputs": [
        {
          "output_type": "execute_result",
          "data": {
            "text/plain": [
              "array([1, 2, 3, 4])"
            ]
          },
          "metadata": {},
          "execution_count": 5
        }
      ]
    },
    {
      "cell_type": "code",
      "source": [
        "#Función Range (np.arange(p_1, p_2, n))             ------> HACER RANGO DE # DE 0 A 10\n",
        "\n",
        "np.arange (0,10)\n",
        "\n",
        "#np.range(0,10,2)                  #-------->#HACER RANGO DE # DE 0-10 DE (2 en 2) cuenta de 2 en 2"
      ],
      "metadata": {
        "id": "-89lGS3D1fkc",
        "colab": {
          "base_uri": "https://localhost:8080/"
        },
        "outputId": "1b9e5edb-9089-4a99-f043-141678d059de"
      },
      "execution_count": null,
      "outputs": [
        {
          "output_type": "execute_result",
          "data": {
            "text/plain": [
              "array([0, 1, 2, 3, 4, 5, 6, 7, 8, 9])"
            ]
          },
          "metadata": {},
          "execution_count": 4
        }
      ]
    },
    {
      "cell_type": "code",
      "source": [
        "##Ceros y unos: genera arreglos de ceros y unos\n",
        "\n",
        "np.zeros(3)\n",
        "\n",
        "np.ones(9) #  ------------------> AGREGAR 9 UNOS"
      ],
      "metadata": {
        "id": "u_XC7w0u1_j9",
        "colab": {
          "base_uri": "https://localhost:8080/"
        },
        "outputId": "accdd03a-cd6a-4563-dc94-d0a53c526105"
      },
      "execution_count": null,
      "outputs": [
        {
          "output_type": "execute_result",
          "data": {
            "text/plain": [
              "array([1., 1., 1., 1., 1., 1., 1., 1., 1.])"
            ]
          },
          "metadata": {},
          "execution_count": 9
        }
      ]
    },
    {
      "cell_type": "code",
      "source": [
        "np.zeros((4,6)) # 4 columnas y 6 filas"
      ],
      "metadata": {
        "id": "nLjoXy7D2OIN",
        "colab": {
          "base_uri": "https://localhost:8080/"
        },
        "outputId": "11730d77-aa19-490c-f754-13b5e37dff16"
      },
      "execution_count": null,
      "outputs": [
        {
          "output_type": "execute_result",
          "data": {
            "text/plain": [
              "array([[0., 0., 0., 0., 0., 0.],\n",
              "       [0., 0., 0., 0., 0., 0.],\n",
              "       [0., 0., 0., 0., 0., 0.],\n",
              "       [0., 0., 0., 0., 0., 0.]])"
            ]
          },
          "metadata": {},
          "execution_count": 10
        }
      ]
    },
    {
      "cell_type": "markdown",
      "source": [
        "* ¿Cómo crear una matriz con unos en la diagonal y el resto ceros?"
      ],
      "metadata": {
        "id": "AqFogSERiTzO"
      }
    },
    {
      "cell_type": "code",
      "source": [
        "Vector=np.array([1,1,1])\n",
        "Mat=np.diag(Vector)\n",
        "print(Mat)"
      ],
      "metadata": {
        "id": "K_iC70cx5SpY",
        "colab": {
          "base_uri": "https://localhost:8080/"
        },
        "outputId": "bbc998f1-036e-45bd-8d66-37f618bcbce3"
      },
      "execution_count": null,
      "outputs": [
        {
          "output_type": "stream",
          "name": "stdout",
          "text": [
            "[[1 0 0]\n",
            " [0 1 0]\n",
            " [0 0 1]]\n"
          ]
        }
      ]
    },
    {
      "cell_type": "markdown",
      "source": [
        "# Función Linspace   -----> para GRAFICAS (Sirve para la simetria de los puntos)\n",
        "\n",
        "NumPy tiene el método linspace que genera puntos uniformemente espaciados entre dos números.\n",
        "\n",
        "##Sintaxis\n",
        "\n",
        "```\n",
        "np.linspace(a,b,n)   -----> Forma escribir\n",
        "\n",
        "a=\n",
        "b=\n",
        "n= Es la cantidad de datos\n",
        "```\n",
        ">Por defecto, linspace genera 50 valores entre a y b\n"
      ],
      "metadata": {
        "id": "VRVma_jv2Z3E"
      }
    },
    {
      "cell_type": "code",
      "source": [
        "np.linspace(0,10) #----------> Escribe numeros desde 0 hasta 10"
      ],
      "metadata": {
        "id": "3KceRM6T2to7",
        "colab": {
          "base_uri": "https://localhost:8080/"
        },
        "outputId": "cf98025e-0ca1-4e1c-8bdd-d812271968ab"
      },
      "execution_count": null,
      "outputs": [
        {
          "output_type": "execute_result",
          "data": {
            "text/plain": [
              "array([ 0.        ,  0.20408163,  0.40816327,  0.6122449 ,  0.81632653,\n",
              "        1.02040816,  1.2244898 ,  1.42857143,  1.63265306,  1.83673469,\n",
              "        2.04081633,  2.24489796,  2.44897959,  2.65306122,  2.85714286,\n",
              "        3.06122449,  3.26530612,  3.46938776,  3.67346939,  3.87755102,\n",
              "        4.08163265,  4.28571429,  4.48979592,  4.69387755,  4.89795918,\n",
              "        5.10204082,  5.30612245,  5.51020408,  5.71428571,  5.91836735,\n",
              "        6.12244898,  6.32653061,  6.53061224,  6.73469388,  6.93877551,\n",
              "        7.14285714,  7.34693878,  7.55102041,  7.75510204,  7.95918367,\n",
              "        8.16326531,  8.36734694,  8.57142857,  8.7755102 ,  8.97959184,\n",
              "        9.18367347,  9.3877551 ,  9.59183673,  9.79591837, 10.        ])"
            ]
          },
          "metadata": {},
          "execution_count": 5
        }
      ]
    },
    {
      "cell_type": "code",
      "source": [
        "np.linspace(0,20,5)"
      ],
      "metadata": {
        "colab": {
          "base_uri": "https://localhost:8080/"
        },
        "id": "DjMTDfEL2_Vp",
        "outputId": "e3ef29a1-09d7-4474-9275-56785e3a8839"
      },
      "execution_count": null,
      "outputs": [
        {
          "output_type": "execute_result",
          "data": {
            "text/plain": [
              "array([ 0.,  5., 10., 15., 20.])"
            ]
          },
          "metadata": {},
          "execution_count": 13
        }
      ]
    },
    {
      "cell_type": "markdown",
      "source": [
        "#Ciclos for y while  (mientras esta condicion___haga esto___)\n",
        "\n",
        "El bucle **for** se utiliza para recorrer los elementos de un objeto iterable (lista, tupla, conjunto, diccionario, …) y ejecutar un bloque de código.\n",
        "\n",
        "En cada paso de la iteración se tiene en cuenta a un único elemento del objeto iterable, sobre el cuál se pueden aplicar una serie de operaciones."
      ],
      "metadata": {
        "id": "R9OK71EM30cM"
      }
    },
    {
      "cell_type": "code",
      "source": [
        "lista=[1,2,3,4,5]\n",
        "\n",
        "for x in lista:\n",
        "  print(x+1)"
      ],
      "metadata": {
        "colab": {
          "base_uri": "https://localhost:8080/"
        },
        "id": "-ucykTrcQkiK",
        "outputId": "9438e8af-748a-4f01-8479-241afdd039e5"
      },
      "execution_count": null,
      "outputs": [
        {
          "output_type": "stream",
          "name": "stdout",
          "text": [
            "2\n",
            "3\n",
            "4\n",
            "5\n",
            "6\n"
          ]
        }
      ]
    },
    {
      "cell_type": "code",
      "source": [
        "#Número en rango\n",
        "for x in range(0,10): #(Pide que me de numero de 0 a 9)\n",
        "  print(x)"
      ],
      "metadata": {
        "id": "di5iW9TZQ7VP",
        "colab": {
          "base_uri": "https://localhost:8080/"
        },
        "outputId": "d1de9c0d-1625-42ba-e4ec-c65c5fa213cd"
      },
      "execution_count": null,
      "outputs": [
        {
          "output_type": "stream",
          "name": "stdout",
          "text": [
            "0\n",
            "1\n",
            "2\n",
            "3\n",
            "4\n",
            "5\n",
            "6\n",
            "7\n",
            "8\n",
            "9\n"
          ]
        }
      ]
    },
    {
      "cell_type": "code",
      "source": [
        "#Ejemplo. Crear una lista con los números del 0 al 10 llamado L1 y luego hacer una lista con los números elevados al cuadrado llamado L2\n",
        "\n",
        "l1=[x for x in range(0,10)]\n",
        "print(l1)\n",
        "\n",
        "l2=[y**2 for y in l1]\n",
        "l2"
      ],
      "metadata": {
        "colab": {
          "base_uri": "https://localhost:8080/"
        },
        "id": "i09ToNbOR0QM",
        "outputId": "89d522c1-fd85-4e6f-bda3-e7afb29532af"
      },
      "execution_count": null,
      "outputs": [
        {
          "output_type": "stream",
          "name": "stdout",
          "text": [
            "[0, 1, 2, 3, 4, 5, 6, 7, 8, 9]\n"
          ]
        },
        {
          "output_type": "execute_result",
          "data": {
            "text/plain": [
              "[0, 1, 4, 9, 16, 25, 36, 49, 64, 81]"
            ]
          },
          "metadata": {},
          "execution_count": 17
        }
      ]
    },
    {
      "cell_type": "markdown",
      "source": [
        "Se pueden usar contador y espacio _ para crear funciones que tengan bucles for"
      ],
      "metadata": {
        "id": "4Tm9Y0u_VGAr"
      }
    },
    {
      "cell_type": "code",
      "source": [
        "#Ejemplo: Contar los elementos de una lista vacia\n",
        "\n",
        "def longitud(mi_lista):\n",
        "    cont = 0\n",
        "    for x in mi_lista:  #(_ significa para cualquier elemento de la list)\n",
        "        cont += 1\n",
        "    return cont"
      ],
      "metadata": {
        "id": "2TyZfiByTr48"
      },
      "execution_count": null,
      "outputs": []
    },
    {
      "cell_type": "code",
      "source": [
        "longitud([1,2,3,4]) #-----------> Medir cuantos elementos hay"
      ],
      "metadata": {
        "id": "oO0fOIl9Ttt8",
        "colab": {
          "base_uri": "https://localhost:8080/"
        },
        "outputId": "5b45742e-5bdc-4337-f1c3-a6c1afaa1137"
      },
      "execution_count": null,
      "outputs": [
        {
          "output_type": "execute_result",
          "data": {
            "text/plain": [
              "4"
            ]
          },
          "metadata": {},
          "execution_count": 15
        }
      ]
    },
    {
      "cell_type": "code",
      "source": [
        "#Buscar elementos en una lista\n",
        "\n",
        "lis=[x for x in range(0,100,2)]\n",
        "\n",
        "print(lis)\n",
        "\n",
        "#Buscar\n",
        "\n",
        "for x in lis:\n",
        "  if x==10:\n",
        "    break  #--------> Quiere decir, cuando encuentre el elemento diez PARE!\n",
        "  print(x)\n"
      ],
      "metadata": {
        "id": "onlMe_wbVbpd"
      },
      "execution_count": null,
      "outputs": []
    },
    {
      "cell_type": "code",
      "source": [
        "#Encontrar el elemento #20 y va de 2 en 2:\n",
        "for i in lis:\n",
        "  if i==20:\n",
        "    break\n",
        "  print(i)\n",
        "else:\n",
        "    print(\"No se encontro el número\")\n",
        "\n",
        ""
      ],
      "metadata": {
        "id": "oaPoiy60W5F7"
      },
      "execution_count": null,
      "outputs": []
    },
    {
      "cell_type": "markdown",
      "source": [
        "#While ------>MIENTRAS\n",
        "\n",
        "El bucle while de Python hace que se ejecute un bloque de código repetidamente mientras una condición sea verdadera. En Python, los bucles while se utilizan principalmente cuando el número de iteraciones necesarias no viene determinado de antemano"
      ],
      "metadata": {
        "id": "VCmSlJZ1X6cd"
      }
    },
    {
      "cell_type": "code",
      "source": [
        "#Ejemplo: Mientras x sea mayor que cero le vamos a restar 1\n",
        "x=10                         #----Asigno un numero y la condicion es que si es >0 restarle 1 a cada numero\n",
        "\n",
        "while x>0:\n",
        "  x-=1\n",
        "  print(x)"
      ],
      "metadata": {
        "id": "OJlowvS6Y6XR",
        "colab": {
          "base_uri": "https://localhost:8080/"
        },
        "outputId": "24f8075f-d5b9-45be-a227-00087c2924ce"
      },
      "execution_count": null,
      "outputs": [
        {
          "output_type": "stream",
          "name": "stdout",
          "text": [
            "9\n",
            "8\n",
            "7\n",
            "6\n",
            "5\n",
            "4\n",
            "3\n",
            "2\n",
            "1\n",
            "0\n"
          ]
        }
      ]
    },
    {
      "cell_type": "code",
      "source": [
        "#Pedir al usuario un número entero y agregarlo a una lista si este es par\n",
        "\n",
        "num=[] #Creamos una lista Vacía\n",
        "\n",
        "while len(num)<4: #-------->len significa la medida\n",
        "    valorIngresado = input(\"Ingrese un numero entero: \")\n",
        "    valorIngresado = int(valorIngresado)\n",
        "    if valorIngresado % 2 == 0:\n",
        "        num.append(valorIngresado)\n",
        "\n",
        "print(num)"
      ],
      "metadata": {
        "colab": {
          "base_uri": "https://localhost:8080/"
        },
        "id": "LJ-mpUyibIgY",
        "outputId": "817b300b-a19c-4ca5-c5bc-7f75d624f022"
      },
      "execution_count": null,
      "outputs": [
        {
          "output_type": "stream",
          "name": "stdout",
          "text": [
            "Ingrese un numero entero: 2\n",
            "Ingrese un numero entero: 0\n",
            "Ingrese un numero entero: 0\n",
            "Ingrese un numero entero: 11\n",
            "Ingrese un numero entero: 6\n",
            "[2, 0, 0, 6]\n"
          ]
        }
      ]
    },
    {
      "cell_type": "markdown",
      "source": [
        "#BUCLES ANIDADOS ------------->\n",
        "\n",
        "Queremos generar todas las combinaciones de de dos números hasta 2."
      ],
      "metadata": {
        "id": "jeqrQnnlcEpv"
      }
    },
    {
      "cell_type": "code",
      "source": [
        "# Permutación a generar: ------->UTIL PARA CREAR CONTRASEÑAS\n",
        "i = 0\n",
        "j = 0\n",
        "while i < 3:\n",
        "    while j < 3:\n",
        "        print(i,j)\n",
        "        j += 1\n",
        "    i += 1\n",
        "    j = 0"
      ],
      "metadata": {
        "id": "FWg9pH_6cUfe",
        "colab": {
          "base_uri": "https://localhost:8080/"
        },
        "outputId": "654b50bb-25a6-4b61-9a85-a27ef4e0dfd9"
      },
      "execution_count": null,
      "outputs": [
        {
          "output_type": "stream",
          "name": "stdout",
          "text": [
            "0 0\n",
            "0 1\n",
            "0 2\n",
            "1 0\n",
            "1 1\n",
            "1 2\n",
            "2 0\n",
            "2 1\n",
            "2 2\n"
          ]
        }
      ]
    },
    {
      "cell_type": "markdown",
      "source": [
        "#<font color=\"blue\"> Formularios\n",
        "\n",
        "Recursos de recolección de datos del usuario para aplicar algún codigo con una presentación más agradable"
      ],
      "metadata": {
        "id": "KY4qGigQY3jQ"
      }
    },
    {
      "cell_type": "markdown",
      "source": [
        "#Input"
      ],
      "metadata": {
        "id": "IWIqskfQZ_aR"
      }
    },
    {
      "cell_type": "code",
      "source": [
        "#@title SUMA DE VARIABLES { run: \"auto\", vertical-output: true }\n",
        "var1 = 56 #@param {type:\"number\"}\n",
        "var2 = 34 #@param {type:\"number\"}\n",
        "\n",
        "var1+var2"
      ],
      "metadata": {
        "colab": {
          "base_uri": "https://localhost:8080/"
        },
        "id": "cEOT0kLyXASY",
        "outputId": "945b0a5f-dfc1-41b6-c2bb-48403114b055"
      },
      "execution_count": null,
      "outputs": [
        {
          "output_type": "execute_result",
          "data": {
            "text/plain": [
              "90"
            ]
          },
          "metadata": {},
          "execution_count": 7
        }
      ]
    },
    {
      "cell_type": "code",
      "source": [
        "#@title Resta { run: \"auto\", vertical-output: true }\n",
        "sust1 = 100 #@param {type:\"number\"}\n",
        "sust2 = 45 #@param {type:\"number\"}\n",
        "sust3 = 50 #@param {type:\"number\"}\n",
        "\n",
        "#codigo\n",
        "\n",
        "sust1-sust2+sust3"
      ],
      "metadata": {
        "colab": {
          "base_uri": "https://localhost:8080/"
        },
        "id": "7rjtW9ydx0Vh",
        "outputId": "fd5de5ec-7037-4c7f-a82a-533fc3db3d78"
      },
      "execution_count": null,
      "outputs": [
        {
          "output_type": "execute_result",
          "data": {
            "text/plain": [
              "105"
            ]
          },
          "metadata": {},
          "execution_count": 6
        }
      ]
    },
    {
      "cell_type": "markdown",
      "source": [
        "#Deslizadores"
      ],
      "metadata": {
        "id": "dRroYtp_Y6EB"
      }
    },
    {
      "cell_type": "code",
      "source": [
        "#@title slider { run: \"auto\", vertical-output: true }\n",
        "var1 = 70 #@param {type:\"slider\", min:0, max:100, step:1}\n",
        "var2 = 56 #@param {type:\"slider\", min:0, max:100, step:1}\n",
        "\n",
        "x=var1*var2\n",
        "\n",
        "print(f\"El producto entre var1 y var2 es: {x}\")"
      ],
      "metadata": {
        "colab": {
          "base_uri": "https://localhost:8080/"
        },
        "id": "2YBcP3HPZJNt",
        "outputId": "a48092bb-172d-49d0-bf06-f18bfa2294de"
      },
      "execution_count": null,
      "outputs": [
        {
          "output_type": "stream",
          "name": "stdout",
          "text": [
            "El producto entre var1 y var2 es: 1750\n"
          ]
        }
      ]
    },
    {
      "cell_type": "code",
      "source": [
        "#@title Derivada { run: \"auto\", vertical-output: true, form-width: \"50%\" }\n",
        "dist = 23 #@param {type:\"slider\", min:0, max:100, step:1}\n",
        "time = 17 #@param {type:\"slider\", min:0, max:50, step:1}\n",
        "\n",
        "\n",
        "#Velocidad\n",
        "\n",
        "print(f\"La velocidad del objeto x es: {dist/time}\")\n"
      ],
      "metadata": {
        "colab": {
          "base_uri": "https://localhost:8080/"
        },
        "id": "MuxFl3lu0DqQ",
        "outputId": "50f6a07e-977e-4296-da38-56d48526bcd6"
      },
      "execution_count": null,
      "outputs": [
        {
          "output_type": "stream",
          "name": "stdout",
          "text": [
            "La velocidad del objeto x es: 1.15\n"
          ]
        }
      ]
    },
    {
      "cell_type": "markdown",
      "source": [
        "#Caja de datos"
      ],
      "metadata": {
        "id": "R-au092aaCZh"
      }
    },
    {
      "cell_type": "code",
      "source": [
        "#@title Agregar valores { run: \"auto\", vertical-output: true }\n",
        "\n",
        "x = \"2\" #@param [\"1\", \"2\", \"3\", \"4\"] {allow-input: true}\n",
        "y= \"1\" #@param [\"1\", \"2\", \"3\"]\n",
        "\n",
        "\n"
      ],
      "metadata": {
        "id": "t-8ZXd4raEAL"
      },
      "execution_count": null,
      "outputs": []
    },
    {
      "cell_type": "code",
      "source": [
        "#@title caja de datos\n",
        "listam = \"mate\" #@param [\"mate\", \"coe\", \"ingles\"]"
      ],
      "metadata": {
        "id": "OvArLuq31O_H"
      },
      "execution_count": null,
      "outputs": []
    },
    {
      "cell_type": "markdown",
      "source": [
        "#Ejemplo"
      ],
      "metadata": {
        "id": "eUjy-fgGbixy"
      }
    },
    {
      "cell_type": "code",
      "source": [
        "#@title Encuesta de opinión { run: \"auto\", vertical-output: true }\n",
        "candidato = \"Mauricio\" #@param [\"Alberto\", \"Mauricio\", \"Ana\", \"Mari\"]\n",
        "\n",
        "print(\"Seleccione el candidato de su preferencia: \")\n",
        "\n",
        "print(candidato)\n",
        "\n",
        "if candidato == \"Mari\":\n",
        "  print(\"retorne una boleta a Cine\")\n",
        "else:\n",
        "  print(\"Gracias por su voto\")\n"
      ],
      "metadata": {
        "colab": {
          "base_uri": "https://localhost:8080/"
        },
        "id": "oirLVFbibkb2",
        "outputId": "b28128c8-3152-4283-f159-d249466bf9ea"
      },
      "execution_count": null,
      "outputs": [
        {
          "output_type": "stream",
          "name": "stdout",
          "text": [
            "Seleccione el candidato de su preferencia: \n",
            "Ana\n",
            "Gracias por su voto\n"
          ]
        }
      ]
    },
    {
      "cell_type": "markdown",
      "source": [
        "#<font color=\"red\"> Actividad\n",
        "\n",
        "En grupos de trabajo construir una **calculadora** con las operaciones básicas, además de otras especiales como raiz, seno o exponencial (sean creativos) ☝\n",
        "\n",
        "Para ello, use funciones como if,else, elif, además de algunos ciclos while (opcional) solo para que la calculadora se ejecute \"sola\".\n",
        "\n",
        "Se debe usar  **Formulario de Colab**"
      ],
      "metadata": {
        "id": "0Oe53sYqc9IS"
      }
    },
    {
      "cell_type": "markdown",
      "source": [
        "#  Laboratorio #1\n",
        "En grupos de trabajo: Construir un simulador de **Cajero automático.**\n",
        "\n",
        "El simulador debe contener las funciones básicas como\n",
        "\n",
        "1. Consultar saldo\n",
        "2. Depositar\n",
        "3. Retirar\n",
        "4. Ingreso de contraseña** opcional\n",
        "5. Tranferir dinero\n",
        "6. Salir\n",
        "\n",
        "Entre otras\n",
        "\n",
        ">Se recomiendo usar la función Range para generar saldos iniciales aleatorios.\n",
        "\n",
        "Use ciclos while y for además funciones como if, else, elif, input ebtre otras.\n",
        "\n",
        "###Sean creativos e ingeniosos :)\n",
        "\n",
        "Fceha de entrega: Jueves 23 de Febrero vía Intu"
      ],
      "metadata": {
        "id": "6VAGEpXCdzq2"
      }
    },
    {
      "cell_type": "code",
      "source": [
        "#@title Texto de título predeterminado { run: \"auto\", vertical-output: true }\n",
        "x = 5 #@param {type:\"number\"}\n",
        "y = 45 #@param {type:\"number\"}\n",
        "Oper = \"producto\" #@param [\"suma\", \"resta\", \"producto\"]\n",
        "\n",
        "\n",
        "if Oper==\"suma\":\n",
        "  print(x+y)\n",
        "elif Oper==\"resta\":\n",
        "  print(x-y)\n",
        "elif Oper==\"producto\":\n",
        "  print(x*y)\n",
        "else:\n",
        " print(\"***Ha terminado***\")"
      ],
      "metadata": {
        "id": "9lF_9uac-XOW"
      },
      "execution_count": null,
      "outputs": []
    },
    {
      "cell_type": "code",
      "source": [],
      "metadata": {
        "id": "kqwnnoBIA5R8"
      },
      "execution_count": null,
      "outputs": []
    }
  ]
}
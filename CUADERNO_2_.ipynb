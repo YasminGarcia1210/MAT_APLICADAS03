{
  "nbformat": 4,
  "nbformat_minor": 0,
  "metadata": {
    "colab": {
      "provenance": [],
      "include_colab_link": true
    },
    "kernelspec": {
      "name": "python3",
      "display_name": "Python 3"
    },
    "language_info": {
      "name": "python"
    }
  },
  "cells": [
    {
      "cell_type": "markdown",
      "metadata": {
        "id": "view-in-github",
        "colab_type": "text"
      },
      "source": [
        "<a href=\"https://colab.research.google.com/github/YasminGarcia1210/MAT_APLICADAS03/blob/main/CUADERNO_2_.ipynb\" target=\"_parent\"><img src=\"https://colab.research.google.com/assets/colab-badge.svg\" alt=\"Open In Colab\"/></a>"
      ]
    },
    {
      "cell_type": "markdown",
      "source": [
        "<img src=http://www.acofi.edu.co/eiei2016/wp-content/uploads/2016/09/Logo-Universidad-ICESI.jpg width=\"200\" height=\"200\" align=\"center\">\n",
        "\n",
        "#**<big><big>Matemáticas Aplicadas I</big></big><br><small>FIDCA  Facultad de Ingeniería, diseño y ciencias exactas </small><br><small>_*CUADERNO 2*_ ARREGLOS. </small>**"
      ],
      "metadata": {
        "id": "2c8dg9GQzwu7"
      }
    },
    {
      "cell_type": "markdown",
      "source": [
        "##Arreglos #\n",
        "\n",
        "Un **array** en Python es un tipo de variable especial que puede alojar dentro de sí varios valores al mismo tiempo.\n",
        "\n",
        "Es decir, no es que se alojen los datos en un mismo lugar al mismo tiempo, sino que se tienen una serie de contenedores que conforman el array y en cada uno de esos contenedores se guardan datos distintos\n",
        "\n",
        "##Diferencias entre listas y arreglos\n",
        "\n",
        "Las listas y los arrays se comportan de manera similar y ambos son una secuencia ordenada de elementos. También son mutables (CAMBIAN) y no poseen tamaños fijos, lo que quiere decir que pueden crecer y reducirse a lo largo del uso del programa.\n",
        "\n",
        "Todos los elementos de una lista y un array en Python pueden agregarse y eliminarse. Esto los convierte en objetos muy flexibles y fáciles de trabajar.\n",
        "\n",
        "Una de las grandes diferencias es que, **a diferencia de los arrays (arreglos), las listas pueden almacenar diversos tipos de datos.**"
      ],
      "metadata": {
        "id": "rzSc44xD0GaL"
      }
    },
    {
      "cell_type": "code",
      "execution_count": null,
      "metadata": {
        "id": "3DKOZ3mSztz_"
      },
      "outputs": [],
      "source": [
        "#creando un array (arreglo)\n",
        "import numpy as np"
      ]
    },
    {
      "cell_type": "code",
      "source": [
        "np.array([0,100]) #Asi se escribe un arreglo ...>Sirve para guardar vectores"
      ],
      "metadata": {
        "id": "45Zu27volmKJ",
        "colab": {
          "base_uri": "https://localhost:8080/"
        },
        "outputId": "1e2d18b4-cd7f-4c97-e713-d09c4e3d72a2"
      },
      "execution_count": null,
      "outputs": [
        {
          "output_type": "execute_result",
          "data": {
            "text/plain": [
              "array([  0, 100])"
            ]
          },
          "metadata": {},
          "execution_count": 2
        }
      ]
    },
    {
      "cell_type": "code",
      "source": [
        "arreglo=[1,2,3] #Vector\n",
        "\n",
        "arreglo_anidado=[[1,2,3],[2,3,4],[5,6,7]] #Esto es una Matriz"
      ],
      "metadata": {
        "id": "HVCxf_MO1Bbb"
      },
      "execution_count": null,
      "outputs": []
    },
    {
      "cell_type": "code",
      "source": [
        "np.array([1, 2, 3], dtype=complex) #CONVERTIR A UN COMPLEJO\n"
      ],
      "metadata": {
        "id": "Kien82g_mRNW",
        "colab": {
          "base_uri": "https://localhost:8080/"
        },
        "outputId": "8723510b-a33b-48d4-f1b0-08f995e73394"
      },
      "execution_count": null,
      "outputs": [
        {
          "output_type": "execute_result",
          "data": {
            "text/plain": [
              "array([1.+0.j, 2.+0.j, 3.+0.j])"
            ]
          },
          "metadata": {},
          "execution_count": 4
        }
      ]
    },
    {
      "cell_type": "code",
      "source": [
        "ma=[[1., 2., 3.], [1,2,3], [1+1.j, 2+2.j, 5.j]]\n",
        "ma"
      ],
      "metadata": {
        "colab": {
          "base_uri": "https://localhost:8080/"
        },
        "id": "j9ZmBnXBErRh",
        "outputId": "afd9708b-001f-467a-ca58-19368521e8ba"
      },
      "execution_count": null,
      "outputs": [
        {
          "output_type": "execute_result",
          "data": {
            "text/plain": [
              "[[1.0, 2.0, 3.0], [1, 2, 3], [(1+1j), (2+2j), 5j]]"
            ]
          },
          "metadata": {},
          "execution_count": 10
        }
      ]
    },
    {
      "cell_type": "code",
      "source": [
        "#Convertir una lista en un arreglo\n",
        "\n",
        "lista=[1,2,3,4]\n",
        "print(lista)\n",
        "np.array(lista)"
      ],
      "metadata": {
        "colab": {
          "base_uri": "https://localhost:8080/"
        },
        "id": "1bDRByYI1PEL",
        "outputId": "375efd1b-00f5-453b-b230-9e0d860f7a2d"
      },
      "execution_count": null,
      "outputs": [
        {
          "output_type": "stream",
          "name": "stdout",
          "text": [
            "[1, 2, 3, 4]\n"
          ]
        },
        {
          "output_type": "execute_result",
          "data": {
            "text/plain": [
              "array([1, 2, 3, 4])"
            ]
          },
          "metadata": {},
          "execution_count": 15
        }
      ]
    },
    {
      "cell_type": "code",
      "source": [
        "#Función Range (np.arange(p_1, p_2, n))             ------> HACER RANGO DE # DE 0 A 10\n",
        "\n",
        "#np.arange (0,10) #Todos los numeros entre 0 y 9\n",
        "\n",
        "np.arange(0,101,2)#-------->#HACER RANGO DE # DE 0-100 DE (2 en 2) cuenta de 2 en 2"
      ],
      "metadata": {
        "id": "-89lGS3D1fkc",
        "colab": {
          "base_uri": "https://localhost:8080/"
        },
        "outputId": "3da2eef1-0430-47bf-9b5b-b3fae6f958c3"
      },
      "execution_count": null,
      "outputs": [
        {
          "output_type": "execute_result",
          "data": {
            "text/plain": [
              "array([  0,   2,   4,   6,   8,  10,  12,  14,  16,  18,  20,  22,  24,\n",
              "        26,  28,  30,  32,  34,  36,  38,  40,  42,  44,  46,  48,  50,\n",
              "        52,  54,  56,  58,  60,  62,  64,  66,  68,  70,  72,  74,  76,\n",
              "        78,  80,  82,  84,  86,  88,  90,  92,  94,  96,  98, 100])"
            ]
          },
          "metadata": {},
          "execution_count": 20
        }
      ]
    },
    {
      "cell_type": "code",
      "source": [
        "##Ceros y unos en el vector: genera arreglos de ceros y unos\n",
        "#np.zeros(3)\n",
        "np.ones(9) #  ------------------> AGREGAR 9 UNOS"
      ],
      "metadata": {
        "id": "u_XC7w0u1_j9",
        "colab": {
          "base_uri": "https://localhost:8080/"
        },
        "outputId": "72ffdaa3-1200-46ab-9601-cd205c2d8def"
      },
      "execution_count": null,
      "outputs": [
        {
          "output_type": "execute_result",
          "data": {
            "text/plain": [
              "array([1., 1., 1., 1., 1., 1., 1., 1., 1.])"
            ]
          },
          "metadata": {},
          "execution_count": 22
        }
      ]
    },
    {
      "cell_type": "code",
      "source": [
        "# ceros y unos en la matriz\n",
        "\n",
        "np.zeros((4,6)) # 4 filas y 6 columnas"
      ],
      "metadata": {
        "id": "nLjoXy7D2OIN",
        "colab": {
          "base_uri": "https://localhost:8080/"
        },
        "outputId": "11730d77-aa19-490c-f754-13b5e37dff16"
      },
      "execution_count": null,
      "outputs": [
        {
          "output_type": "execute_result",
          "data": {
            "text/plain": [
              "array([[0., 0., 0., 0., 0., 0.],\n",
              "       [0., 0., 0., 0., 0., 0.],\n",
              "       [0., 0., 0., 0., 0., 0.],\n",
              "       [0., 0., 0., 0., 0., 0.]])"
            ]
          },
          "metadata": {},
          "execution_count": 10
        }
      ]
    },
    {
      "cell_type": "code",
      "source": [
        "np.identity(3) #Matriz identidad"
      ],
      "metadata": {
        "colab": {
          "base_uri": "https://localhost:8080/"
        },
        "id": "ClSVsxxuHhB7",
        "outputId": "982e873c-65dd-47a2-d8c2-bd6daacb2482"
      },
      "execution_count": null,
      "outputs": [
        {
          "output_type": "execute_result",
          "data": {
            "text/plain": [
              "array([[1., 0., 0.],\n",
              "       [0., 1., 0.],\n",
              "       [0., 0., 1.]])"
            ]
          },
          "metadata": {},
          "execution_count": 8
        }
      ]
    },
    {
      "cell_type": "code",
      "source": [
        "Vector=np.array([1,1,1])\n",
        "Mat=np.diag(Vector)\n",
        "print(Mat)"
      ],
      "metadata": {
        "id": "K_iC70cx5SpY",
        "colab": {
          "base_uri": "https://localhost:8080/"
        },
        "outputId": "f8e2aa0c-24da-45f4-a5af-84071e91f07e"
      },
      "execution_count": null,
      "outputs": [
        {
          "output_type": "stream",
          "name": "stdout",
          "text": [
            "[[1 0 0]\n",
            " [0 1 0]\n",
            " [0 0 1]]\n"
          ]
        }
      ]
    },
    {
      "cell_type": "code",
      "source": [
        "A=[[1,2,3], [5,6,7],[4,5,6]]\n",
        "A"
      ],
      "metadata": {
        "colab": {
          "base_uri": "https://localhost:8080/"
        },
        "id": "qDwngGVnIJ0E",
        "outputId": "7366b3fa-778f-4b37-c9e0-56b3d1f11734"
      },
      "execution_count": null,
      "outputs": [
        {
          "output_type": "execute_result",
          "data": {
            "text/plain": [
              "[[1, 2, 3], [5, 6, 7], [4, 5, 6]]"
            ]
          },
          "metadata": {},
          "execution_count": 26
        }
      ]
    },
    {
      "cell_type": "code",
      "source": [
        "np.dot(A,Mat)"
      ],
      "metadata": {
        "colab": {
          "base_uri": "https://localhost:8080/"
        },
        "id": "5ihwF8IZIURO",
        "outputId": "28e3a54b-b537-4d5f-e819-cb2285852f11"
      },
      "execution_count": null,
      "outputs": [
        {
          "output_type": "execute_result",
          "data": {
            "text/plain": [
              "array([[1, 2, 3],\n",
              "       [5, 6, 7],\n",
              "       [4, 5, 6]])"
            ]
          },
          "metadata": {},
          "execution_count": 30
        }
      ]
    },
    {
      "cell_type": "markdown",
      "source": [
        "# Función Linspace   -----> para GRAFICAS (Sirve para la simetria de los puntos)\n",
        "\n",
        "NumPy tiene el método linspace que genera puntos uniformemente espaciados entre dos números.\n",
        "\n",
        "##Sintaxis\n",
        "\n",
        "```\n",
        "np.linspace(a,b,n)   -----> Forma escribir\n",
        "\n",
        "a=\n",
        "b=\n",
        "n= Es la cantidad de datos\n",
        "```\n",
        ">Por defecto, linspace genera 50 valores entre a y b\n"
      ],
      "metadata": {
        "id": "VRVma_jv2Z3E"
      }
    },
    {
      "cell_type": "code",
      "source": [
        "np.linspace(0,10,100) #----------> Escribe numeros desde 0 hasta 10"
      ],
      "metadata": {
        "id": "3KceRM6T2to7",
        "colab": {
          "base_uri": "https://localhost:8080/"
        },
        "outputId": "3e049fa2-a834-42da-ef53-e4af80d056c2"
      },
      "execution_count": null,
      "outputs": [
        {
          "output_type": "execute_result",
          "data": {
            "text/plain": [
              "array([ 0.        ,  0.1010101 ,  0.2020202 ,  0.3030303 ,  0.4040404 ,\n",
              "        0.50505051,  0.60606061,  0.70707071,  0.80808081,  0.90909091,\n",
              "        1.01010101,  1.11111111,  1.21212121,  1.31313131,  1.41414141,\n",
              "        1.51515152,  1.61616162,  1.71717172,  1.81818182,  1.91919192,\n",
              "        2.02020202,  2.12121212,  2.22222222,  2.32323232,  2.42424242,\n",
              "        2.52525253,  2.62626263,  2.72727273,  2.82828283,  2.92929293,\n",
              "        3.03030303,  3.13131313,  3.23232323,  3.33333333,  3.43434343,\n",
              "        3.53535354,  3.63636364,  3.73737374,  3.83838384,  3.93939394,\n",
              "        4.04040404,  4.14141414,  4.24242424,  4.34343434,  4.44444444,\n",
              "        4.54545455,  4.64646465,  4.74747475,  4.84848485,  4.94949495,\n",
              "        5.05050505,  5.15151515,  5.25252525,  5.35353535,  5.45454545,\n",
              "        5.55555556,  5.65656566,  5.75757576,  5.85858586,  5.95959596,\n",
              "        6.06060606,  6.16161616,  6.26262626,  6.36363636,  6.46464646,\n",
              "        6.56565657,  6.66666667,  6.76767677,  6.86868687,  6.96969697,\n",
              "        7.07070707,  7.17171717,  7.27272727,  7.37373737,  7.47474747,\n",
              "        7.57575758,  7.67676768,  7.77777778,  7.87878788,  7.97979798,\n",
              "        8.08080808,  8.18181818,  8.28282828,  8.38383838,  8.48484848,\n",
              "        8.58585859,  8.68686869,  8.78787879,  8.88888889,  8.98989899,\n",
              "        9.09090909,  9.19191919,  9.29292929,  9.39393939,  9.49494949,\n",
              "        9.5959596 ,  9.6969697 ,  9.7979798 ,  9.8989899 , 10.        ])"
            ]
          },
          "metadata": {},
          "execution_count": 6
        }
      ]
    },
    {
      "cell_type": "code",
      "source": [
        "np.linspace(0,20,5)"
      ],
      "metadata": {
        "colab": {
          "base_uri": "https://localhost:8080/"
        },
        "id": "DjMTDfEL2_Vp",
        "outputId": "80ab6a32-674c-4f2d-e88f-3a0dd1a9c4cb"
      },
      "execution_count": null,
      "outputs": [
        {
          "output_type": "execute_result",
          "data": {
            "text/plain": [
              "array([ 0.,  5., 10., 15., 20.])"
            ]
          },
          "metadata": {},
          "execution_count": 5
        }
      ]
    },
    {
      "cell_type": "markdown",
      "source": [
        "#Ciclos for y while  (mientras esta condicion___haga esto___)\n",
        "\n",
        "El bucle **for** se utiliza para recorrer los elementos de un objeto iterable (lista, tupla, conjunto, diccionario, …) y ejecutar un bloque de código.\n",
        "\n",
        "En cada paso de la iteración se tiene en cuenta a un único elemento del objeto iterable, sobre el cuál se pueden aplicar una serie de operaciones."
      ],
      "metadata": {
        "id": "R9OK71EM30cM"
      }
    },
    {
      "cell_type": "code",
      "source": [
        "lista=[1,2,3,4,5]\n",
        "\n",
        "for x in lista:\n",
        "  pri  nt(x**2)"
      ],
      "metadata": {
        "colab": {
          "base_uri": "https://localhost:8080/"
        },
        "id": "-ucykTrcQkiK",
        "outputId": "390fc4ff-4f1a-4126-e474-6bc6809aa8d2"
      },
      "execution_count": null,
      "outputs": [
        {
          "output_type": "stream",
          "name": "stdout",
          "text": [
            "1\n",
            "4\n",
            "9\n",
            "16\n",
            "25\n"
          ]
        }
      ]
    },
    {
      "cell_type": "code",
      "source": [
        "#Número en rango\n",
        "for x in range(0,10): #(Pide que me de numero de 0 a 9)\n",
        "  print(x-5)"
      ],
      "metadata": {
        "id": "di5iW9TZQ7VP",
        "colab": {
          "base_uri": "https://localhost:8080/"
        },
        "outputId": "734a31cc-b877-49ed-a2ff-1d2d8228b8de"
      },
      "execution_count": null,
      "outputs": [
        {
          "output_type": "stream",
          "name": "stdout",
          "text": [
            "-5\n",
            "-4\n",
            "-3\n",
            "-2\n",
            "-1\n",
            "0\n",
            "1\n",
            "2\n",
            "3\n",
            "4\n"
          ]
        }
      ]
    },
    {
      "cell_type": "code",
      "source": [
        "#Ejemplo. Crear una lista con los números del 0 al 10 llamado L1 y luego hacer una lista con los números elevados al cuadrado llamado L2\n",
        "\n",
        "l1=[x for x in range(0,10)]\n",
        "print(l1)\n",
        "\n",
        "l2=[y**2 for y in l1]\n",
        "l2"
      ],
      "metadata": {
        "colab": {
          "base_uri": "https://localhost:8080/"
        },
        "id": "i09ToNbOR0QM",
        "outputId": "89d522c1-fd85-4e6f-bda3-e7afb29532af"
      },
      "execution_count": null,
      "outputs": [
        {
          "output_type": "stream",
          "name": "stdout",
          "text": [
            "[0, 1, 2, 3, 4, 5, 6, 7, 8, 9]\n"
          ]
        },
        {
          "output_type": "execute_result",
          "data": {
            "text/plain": [
              "[0, 1, 4, 9, 16, 25, 36, 49, 64, 81]"
            ]
          },
          "metadata": {},
          "execution_count": 17
        }
      ]
    },
    {
      "cell_type": "markdown",
      "source": [
        "Se pueden usar contador y espacio _ para crear funciones que tengan bucles for"
      ],
      "metadata": {
        "id": "4Tm9Y0u_VGAr"
      }
    },
    {
      "cell_type": "code",
      "source": [
        "#Ejemplo: Contar los elementos de una lista vacia\n",
        "\n",
        "def longitud(mi_lista):\n",
        "    cont = 0 #Contador\n",
        "    for x in mi_lista:  #(_ significa para cualquier elemento de la list)\n",
        "        cont += 1\n",
        "    return cont"
      ],
      "metadata": {
        "id": "2TyZfiByTr48"
      },
      "execution_count": null,
      "outputs": []
    },
    {
      "cell_type": "code",
      "source": [
        "longitud([1,2,3,4,6,12,15]) #-----------> Medir cuantos elementos hay"
      ],
      "metadata": {
        "id": "oO0fOIl9Ttt8",
        "colab": {
          "base_uri": "https://localhost:8080/"
        },
        "outputId": "34e6029a-31ca-4349-ffda-6a706124386f"
      },
      "execution_count": null,
      "outputs": [
        {
          "output_type": "execute_result",
          "data": {
            "text/plain": [
              "7"
            ]
          },
          "metadata": {},
          "execution_count": 41
        }
      ]
    },
    {
      "cell_type": "code",
      "source": [
        "#Buscar elementos en una lista\n",
        "\n",
        "lis=[x for x in range(0,15,2)]\n",
        "\n",
        "print(lis)\n",
        "\n",
        "#Buscar\n",
        "\n",
        "for x in lis:\n",
        "  if x==10:\n",
        "    break  #--------> Quiere decir, cuando encuentre el elemento diez PARE!\n",
        "  print((x))\n"
      ],
      "metadata": {
        "id": "onlMe_wbVbpd",
        "colab": {
          "base_uri": "https://localhost:8080/"
        },
        "outputId": "88ea505c-df15-49a0-bef6-999e9ed40e78"
      },
      "execution_count": null,
      "outputs": [
        {
          "output_type": "stream",
          "name": "stdout",
          "text": [
            "[0, 2, 4, 6, 8, 10, 12, 14]\n",
            "0\n",
            "2\n",
            "4\n",
            "6\n",
            "8\n"
          ]
        }
      ]
    },
    {
      "cell_type": "code",
      "source": [],
      "metadata": {
        "id": "22VVx8Dvu27C"
      },
      "execution_count": null,
      "outputs": []
    },
    {
      "cell_type": "code",
      "source": [
        "#Encontrar el elemento #20 y va de 2 en 2:\n",
        "for i in lis:\n",
        "  if i==20:\n",
        "    break\n",
        "  print(i)\n",
        "else:\n",
        "    print(\"No se encontro el número\")\n",
        "\n"
      ],
      "metadata": {
        "id": "oaPoiy60W5F7",
        "colab": {
          "base_uri": "https://localhost:8080/"
        },
        "outputId": "6e1732b1-3a32-4685-aa1e-84f96419bc92"
      },
      "execution_count": null,
      "outputs": [
        {
          "output_type": "stream",
          "name": "stdout",
          "text": [
            "0\n",
            "2\n",
            "4\n",
            "6\n",
            "8\n",
            "10\n",
            "12\n",
            "14\n",
            "No se encontro el número\n"
          ]
        }
      ]
    },
    {
      "cell_type": "markdown",
      "source": [
        "#While ------>MIENTRAS\n",
        "\n",
        "El bucle while de Python hace que se ejecute un bloque de código repetidamente mientras una condición sea verdadera. En Python, los bucles while se utilizan principalmente cuando el número de iteraciones necesarias no viene determinado de antemano"
      ],
      "metadata": {
        "id": "VCmSlJZ1X6cd"
      }
    },
    {
      "cell_type": "code",
      "source": [
        "#Ejemplo:\n",
        "i=0\n",
        "while i<=5:\n",
        "    i+=1  #i=i+1\n",
        "    print (i)\n"
      ],
      "metadata": {
        "id": "KChJwIbfymiy",
        "colab": {
          "base_uri": "https://localhost:8080/"
        },
        "outputId": "40fc6f43-ec04-4cc4-dd53-0d7e38d45533"
      },
      "execution_count": 4,
      "outputs": [
        {
          "output_type": "stream",
          "name": "stdout",
          "text": [
            "1\n",
            "2\n",
            "3\n",
            "4\n",
            "5\n",
            "6\n"
          ]
        }
      ]
    },
    {
      "cell_type": "code",
      "source": [
        "i=0\n",
        "while i<10:\n",
        "  i=i+1\n",
        "  print(i)"
      ],
      "metadata": {
        "colab": {
          "base_uri": "https://localhost:8080/"
        },
        "id": "SlOPHLpQzGSx",
        "outputId": "3fc7d334-740e-47ad-a2e8-d6d80ea92483"
      },
      "execution_count": null,
      "outputs": [
        {
          "output_type": "stream",
          "name": "stdout",
          "text": [
            "1\n",
            "2\n",
            "3\n",
            "4\n",
            "5\n",
            "6\n",
            "7\n",
            "8\n",
            "9\n",
            "10\n"
          ]
        }
      ]
    },
    {
      "cell_type": "code",
      "source": [
        "#Ejemplo: Mientras x sea mayor que cero le vamos a restar 1\n",
        "x=10\n",
        "\n",
        "while x>0:\n",
        "  x-=1\n",
        "  print(x)"
      ],
      "metadata": {
        "id": "OJlowvS6Y6XR",
        "colab": {
          "base_uri": "https://localhost:8080/"
        },
        "outputId": "7270f233-448b-4f1c-8831-f9bf8155e486"
      },
      "execution_count": null,
      "outputs": [
        {
          "output_type": "stream",
          "name": "stdout",
          "text": [
            "9\n",
            "8\n",
            "7\n",
            "6\n",
            "5\n",
            "4\n",
            "3\n",
            "2\n",
            "1\n",
            "0\n"
          ]
        }
      ]
    },
    {
      "cell_type": "markdown",
      "source": [
        "Ejemplo muy util: Pedir al usuario un número entero y agregarlo a una lista con longitud dada, solo si este es par"
      ],
      "metadata": {
        "id": "rwFZ9phczTrb"
      }
    },
    {
      "cell_type": "code",
      "source": [
        "num=[] #Creamos una lista Vacía\n",
        "\n",
        "while len(num)<5: #-------->len significa la medida\n",
        "    valorIngresado = input(\"Ingrese un numero entero: \")\n",
        "    valorIngresado = int(valorIngresado)\n",
        "    if valorIngresado % 2 == 0:\n",
        "        num.append(valorIngresado)\n",
        "\n",
        "    print(\"Lista:\", num)\n"
      ],
      "metadata": {
        "colab": {
          "base_uri": "https://localhost:8080/"
        },
        "id": "LJ-mpUyibIgY",
        "outputId": "4facd8c9-3f51-45d0-c41c-fde761416712"
      },
      "execution_count": 5,
      "outputs": [
        {
          "output_type": "stream",
          "name": "stdout",
          "text": [
            "Ingrese un numero entero: 10\n",
            "Lista: [10]\n",
            "Ingrese un numero entero: 9\n",
            "Lista: [10]\n",
            "Ingrese un numero entero: 3\n",
            "Lista: [10]\n",
            "Ingrese un numero entero: 7\n",
            "Lista: [10]\n",
            "Ingrese un numero entero: 2\n",
            "Lista: [10, 2]\n",
            "Ingrese un numero entero: 4\n",
            "Lista: [10, 2, 4]\n",
            "Ingrese un numero entero: 6\n",
            "Lista: [10, 2, 4, 6]\n",
            "Ingrese un numero entero: 5\n",
            "Lista: [10, 2, 4, 6]\n",
            "Ingrese un numero entero: 0\n",
            "Lista: [10, 2, 4, 6, 0]\n"
          ]
        }
      ]
    },
    {
      "cell_type": "markdown",
      "source": [
        "#BUCLES ANIDADOS ------------->\n",
        "\n",
        "Queremos generar todas las combinaciones de de dos números hasta 2."
      ],
      "metadata": {
        "id": "jeqrQnnlcEpv"
      }
    },
    {
      "cell_type": "code",
      "source": [
        "# Permutación a generar: ------->UTIL PARA CREAR CONTRASEÑAS\n",
        "i = 0\n",
        "j = 0\n",
        "while i < 3:\n",
        "    while j < 3:\n",
        "        print(i,j)\n",
        "        j += 1\n",
        "    i += 1\n",
        "    j = 0"
      ],
      "metadata": {
        "id": "FWg9pH_6cUfe",
        "colab": {
          "base_uri": "https://localhost:8080/"
        },
        "outputId": "654b50bb-25a6-4b61-9a85-a27ef4e0dfd9"
      },
      "execution_count": null,
      "outputs": [
        {
          "output_type": "stream",
          "name": "stdout",
          "text": [
            "0 0\n",
            "0 1\n",
            "0 2\n",
            "1 0\n",
            "1 1\n",
            "1 2\n",
            "2 0\n",
            "2 1\n",
            "2 2\n"
          ]
        }
      ]
    },
    {
      "cell_type": "markdown",
      "source": [
        "# Tablas de Multiplicar"
      ],
      "metadata": {
        "id": "sjc_wL3w17y6"
      }
    },
    {
      "cell_type": "code",
      "source": [
        "def imprimir_tabla(numero):\n",
        "\n",
        "    limite = 12\n",
        "    contador = 1\n",
        "\n",
        "    while contador <= limite:\n",
        "        resultado = contador * numero\n",
        "        print(\"{} x {} = {}\".format(numero, contador, resultado))\n",
        "        # Incrementar contador para no caer en ciclo infinito\n",
        "        contador = contador + 1\n",
        "\n",
        "# Probar función\n",
        "imprimir_tabla(8)\n"
      ],
      "metadata": {
        "id": "rh2RPCpW0BK-",
        "colab": {
          "base_uri": "https://localhost:8080/"
        },
        "outputId": "fab8ed77-ea56-4000-956a-56c6e3cd8248"
      },
      "execution_count": 8,
      "outputs": [
        {
          "output_type": "stream",
          "name": "stdout",
          "text": [
            "8 x 1 = 8\n",
            "8 x 2 = 16\n",
            "8 x 3 = 24\n",
            "8 x 4 = 32\n",
            "8 x 5 = 40\n",
            "8 x 6 = 48\n",
            "8 x 7 = 56\n",
            "8 x 8 = 64\n",
            "8 x 9 = 72\n",
            "8 x 10 = 80\n",
            "8 x 11 = 88\n",
            "8 x 12 = 96\n"
          ]
        }
      ]
    },
    {
      "cell_type": "markdown",
      "source": [
        "#<font color=\"lightblue\"> Formularios\n",
        "\n",
        "Recursos de recolección de datos del usuario para aplicar algún codigo con una presentación más agradable"
      ],
      "metadata": {
        "id": "KY4qGigQY3jQ"
      }
    },
    {
      "cell_type": "markdown",
      "source": [
        "#Input"
      ],
      "metadata": {
        "id": "IWIqskfQZ_aR"
      }
    },
    {
      "cell_type": "code",
      "source": [
        "# @title calculadora { run: \"auto\", vertical-output: true }\n",
        "numero_1 = 98 # @param {type:\"number\"}\n",
        "numero_2 = 41 # @param {type:\"number\"}\n",
        "\n",
        "print(\"el resultado de la suma es\", numero_1 + numero_2)\n",
        "print(\"el resultado de la resta es\", numero_1 - numero_2)\n",
        "print(\"el resultado de la multiplicacion es\", numero_1 * numero_2)\n",
        "print(\"el resultado de la division es\", numero_1 / numero_2)"
      ],
      "metadata": {
        "colab": {
          "base_uri": "https://localhost:8080/"
        },
        "id": "7hhKZ1lOU0QF",
        "outputId": "74362f55-713e-47a6-e275-40f0cbc5c167",
        "cellView": "form"
      },
      "execution_count": 19,
      "outputs": [
        {
          "output_type": "stream",
          "name": "stdout",
          "text": [
            "el resultado de la suma es 139\n",
            "el resultado de la resta es 57\n",
            "el resultado de la multiplicacion es 4018\n",
            "el resultado de la division es 2.3902439024390243\n"
          ]
        }
      ]
    },
    {
      "cell_type": "markdown",
      "source": [
        "#Deslizadores"
      ],
      "metadata": {
        "id": "dRroYtp_Y6EB"
      }
    },
    {
      "cell_type": "code",
      "source": [
        "# @title Texto de título predeterminado { run: \"auto\", vertical-output: true }\n",
        "deslizador = 1 # @param {type:\"slider\", min:1, max:50, step:1}\n",
        "\n",
        "deslizador*8"
      ],
      "metadata": {
        "colab": {
          "base_uri": "https://localhost:8080/"
        },
        "id": "naOKjfXEV7VY",
        "outputId": "aa986803-2aee-4fb0-9f70-91020bc8ce02"
      },
      "execution_count": null,
      "outputs": [
        {
          "output_type": "execute_result",
          "data": {
            "text/plain": [
              "320"
            ]
          },
          "metadata": {},
          "execution_count": 41
        }
      ]
    },
    {
      "cell_type": "code",
      "source": [
        "#@title slider { run: \"auto\", vertical-output: true }\n",
        "var1 = 42 #@param {type:\"slider\", min:0, max:100, step:1}\n",
        "var2 = 30 #@param {type:\"slider\", min:0, max:100, step:1}\n",
        "\n",
        "x=var1*var2\n",
        "\n",
        "print(f\"El producto entre var1 y var2 es: {x}\")"
      ],
      "metadata": {
        "colab": {
          "base_uri": "https://localhost:8080/"
        },
        "id": "2YBcP3HPZJNt",
        "outputId": "fbfbe1b5-c8da-475d-a9c3-4821c6759721",
        "cellView": "form"
      },
      "execution_count": null,
      "outputs": [
        {
          "output_type": "stream",
          "name": "stdout",
          "text": [
            "El producto entre var1 y var2 es: 1927\n"
          ]
        }
      ]
    },
    {
      "cell_type": "code",
      "source": [
        "#@title Velocidad { run: \"auto\", vertical-output: true, form-width: \"50%\" }\n",
        "dist = 31 #@param {type:\"slider\", min:0, max:100, step:1}\n",
        "time = 22 #@param {type:\"slider\", min:0, max:50, step:1}\n",
        "\n",
        "\n",
        "#Velocidad\n",
        "\n",
        "print(f\"La velocidad del objeto x es: {dist/time}\")\n"
      ],
      "metadata": {
        "colab": {
          "base_uri": "https://localhost:8080/"
        },
        "id": "MuxFl3lu0DqQ",
        "outputId": "8d5013fd-636e-4957-b888-5f91d9db4697",
        "cellView": "form"
      },
      "execution_count": 26,
      "outputs": [
        {
          "output_type": "stream",
          "name": "stdout",
          "text": [
            "La velocidad del objeto x es: 1.4090909090909092\n"
          ]
        }
      ]
    },
    {
      "cell_type": "markdown",
      "source": [
        "#Caja de datos"
      ],
      "metadata": {
        "id": "R-au092aaCZh"
      }
    },
    {
      "cell_type": "code",
      "source": [],
      "metadata": {
        "id": "NWrZxgqFZsNR"
      },
      "execution_count": null,
      "outputs": []
    },
    {
      "cell_type": "code",
      "source": [
        "# @title OPERACIONES { run: \"auto\", vertical-output: true, form-width: \"60%\" }\n",
        "operacion = \"resta\" # @param [\"suma\",\"resta\",\"producto\",\"cociente\"]\n",
        "X = 1 # @param {type:\"number\"}\n",
        "Y = 10 # @param {type:\"number\"}\n",
        "\n",
        "if operacion==\"suma\":\n",
        "    print(X+Y)\n",
        "elif operacion==\"resta\":\n",
        "    print(X-Y)\n",
        "elif operacion==\"producto\":\n",
        "    print(X*Y)\n",
        "elif operacion==\"cociente\":\n",
        "    print(X/Y)"
      ],
      "metadata": {
        "colab": {
          "base_uri": "https://localhost:8080/"
        },
        "id": "lsWa5j2LWvSX",
        "outputId": "36445db3-b775-4a4a-a239-a752b42f8d90",
        "cellView": "form"
      },
      "execution_count": 37,
      "outputs": [
        {
          "output_type": "stream",
          "name": "stdout",
          "text": [
            "-9\n"
          ]
        }
      ]
    },
    {
      "cell_type": "markdown",
      "source": [
        "#Ejemplo"
      ],
      "metadata": {
        "id": "eUjy-fgGbixy"
      }
    },
    {
      "cell_type": "code",
      "source": [
        "#@title Encuesta de opinión { run: \"auto\", vertical-output: true }\n",
        "candidato = \"Ana\" #@param [\"Alberto\", \"Mauricio\", \"Ana\", \"Mari\"]\n",
        "\n",
        "print(\"Seleccione el candidato de su preferencia: \")\n",
        "\n",
        "print(candidato)\n",
        "\n",
        "if candidato == \"Mari\":\n",
        "  print(\"retorne una boleta a Cine\")\n",
        "else:\n",
        "  print(\"Gracias por su voto\")\n"
      ],
      "metadata": {
        "colab": {
          "base_uri": "https://localhost:8080/"
        },
        "id": "oirLVFbibkb2",
        "outputId": "b28128c8-3152-4283-f159-d249466bf9ea"
      },
      "execution_count": null,
      "outputs": [
        {
          "output_type": "stream",
          "name": "stdout",
          "text": [
            "Seleccione el candidato de su preferencia: \n",
            "Ana\n",
            "Gracias por su voto\n"
          ]
        }
      ]
    },
    {
      "cell_type": "markdown",
      "source": [
        "#<font color=\"red\"> Actividad\n",
        "\n",
        "En grupos de trabajo construir una **calculadora** con las operaciones básicas, además de otras especiales como raiz, seno o exponencial (sean creativos) ☝\n",
        "\n",
        "Para ello, use funciones como if,else, elif, además de algunos ciclos while (opcional) solo para que la calculadora se ejecute \"sola\".\n",
        "\n",
        "Se debe usar  **Formulario de Colab**"
      ],
      "metadata": {
        "id": "0Oe53sYqc9IS"
      }
    },
    {
      "cell_type": "markdown",
      "source": [
        "#  Laboratorio # 1\n",
        "En grupos de trabajo: Construir un simulador de **Cajero automático.**\n",
        "\n",
        "El simulador debe contener las funciones básicas como\n",
        "\n",
        "1. Consultar saldo\n",
        "2. Depositar\n",
        "3. Retirar\n",
        "4. Ingreso de contraseña** opcional\n",
        "5. Tranferir dinero\n",
        "6. Salir\n",
        "\n",
        "Entre otras\n",
        "\n",
        ">Se recomiendo usar la función Range  o linspace para generar saldos iniciales aleatorios.\n",
        "\n",
        "Use ciclos while y for además funciones como if, else, elif, input entre otras.\n",
        "\n",
        "###Sean creativos e ingeniosos :)\n"
      ],
      "metadata": {
        "id": "6VAGEpXCdzq2"
      }
    },
    {
      "cell_type": "markdown",
      "source": [
        "# Para la proxima clase\n",
        "\n",
        "### Trazado de curvas y visualización\n",
        "\n",
        "[Libreria de MatplotLib](https://matplotlib.org/) Explorar\n",
        "\n",
        "[Ejemplos de Graficas](https://matplotlib.org/stable/gallery/index.html) En este enlace podrás encontrar la sintaxis basica para la construcción de media y alta calidad"
      ],
      "metadata": {
        "id": "K_ldrtXVxanv"
      }
    },
    {
      "cell_type": "code",
      "source": [],
      "metadata": {
        "id": "IUfXORD41JPd"
      },
      "execution_count": null,
      "outputs": []
    }
  ]
}
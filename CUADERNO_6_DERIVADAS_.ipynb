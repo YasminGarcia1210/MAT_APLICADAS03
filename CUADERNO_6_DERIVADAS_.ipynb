{
  "nbformat": 4,
  "nbformat_minor": 0,
  "metadata": {
    "colab": {
      "provenance": [],
      "collapsed_sections": [
        "x_Q5A09fGIu-"
      ],
      "include_colab_link": true
    },
    "kernelspec": {
      "name": "python3",
      "display_name": "Python 3"
    },
    "language_info": {
      "name": "python"
    }
  },
  "cells": [
    {
      "cell_type": "markdown",
      "metadata": {
        "id": "view-in-github",
        "colab_type": "text"
      },
      "source": [
        "<a href=\"https://colab.research.google.com/github/YasminGarcia1210/MAT_APLICADAS03/blob/main/CUADERNO_6_DERIVADAS_.ipynb\" target=\"_parent\"><img src=\"https://colab.research.google.com/assets/colab-badge.svg\" alt=\"Open In Colab\"/></a>"
      ]
    },
    {
      "cell_type": "markdown",
      "source": [
        "<img src=http://www.acofi.edu.co/eiei2016/wp-content/uploads/2016/09/Logo-Universidad-ICESI.jpg width=\"200\" height=\"200\" align=\"center\">\n",
        "\n",
        "#**<big><big>Matemáticas Aplicadas I</big></big><br><small>Departamento Matemáticas & Estadística / Facultad de Ingeniería</small><br><small> CUADERNO DERIVADAS </small>**"
      ],
      "metadata": {
        "id": "EH00iPDh40d_"
      }
    },
    {
      "cell_type": "markdown",
      "source": [
        "#**Aproximación líneal**\n",
        "##Recta secante\n",
        "\n",
        "Una recta secante es una recta que corta a una curva en 2 puntos.\n",
        "\n",
        "Ejemplo:\n",
        "Determine la ecuación de la recta secante a la curva $f(x)=x^2+3x-1$ desde $x=1$ hasta $x=3$"
      ],
      "metadata": {
        "id": "pGWwfpBv4-gW"
      }
    },
    {
      "cell_type": "code",
      "execution_count": null,
      "metadata": {
        "id": "nBy8trll4x1U"
      },
      "outputs": [],
      "source": [
        "f=lambda x: x**2+3*x+1"
      ]
    },
    {
      "cell_type": "code",
      "source": [
        "f(1)"
      ],
      "metadata": {
        "colab": {
          "base_uri": "https://localhost:8080/"
        },
        "id": "J_yxAKknIkbp",
        "outputId": "19b28af0-3907-47b0-935f-630cb9852973"
      },
      "execution_count": null,
      "outputs": [
        {
          "output_type": "execute_result",
          "data": {
            "text/plain": [
              "5"
            ]
          },
          "metadata": {},
          "execution_count": 5
        }
      ]
    },
    {
      "cell_type": "code",
      "source": [
        "f(3)"
      ],
      "metadata": {
        "colab": {
          "base_uri": "https://localhost:8080/"
        },
        "id": "eGeNL8kvIoBc",
        "outputId": "c864269b-e205-46a0-86be-1f0784b08ece"
      },
      "execution_count": null,
      "outputs": [
        {
          "output_type": "execute_result",
          "data": {
            "text/plain": [
              "19"
            ]
          },
          "metadata": {},
          "execution_count": 6
        }
      ]
    },
    {
      "cell_type": "code",
      "source": [],
      "metadata": {
        "id": "m3iqeryCO4vK"
      },
      "execution_count": null,
      "outputs": []
    },
    {
      "cell_type": "code",
      "source": [
        "m=(f(3)-f(1))/(3-1)\n",
        "m"
      ],
      "metadata": {
        "colab": {
          "base_uri": "https://localhost:8080/"
        },
        "id": "2FsVEgWeIpKd",
        "outputId": "ea8192d1-6239-41ec-fdcb-8e10c8f526b0"
      },
      "execution_count": null,
      "outputs": [
        {
          "output_type": "execute_result",
          "data": {
            "text/plain": [
              "7.0"
            ]
          },
          "metadata": {},
          "execution_count": 7
        }
      ]
    },
    {
      "cell_type": "code",
      "source": [
        "import sympy as sp\n",
        "\n",
        "x=sp.Symbol('x')\n",
        "y=sp.Symbol('y')"
      ],
      "metadata": {
        "id": "J8rVnq-sIx5M"
      },
      "execution_count": null,
      "outputs": []
    },
    {
      "cell_type": "code",
      "source": [
        "y-f(1)-m*(x-1)\n"
      ],
      "metadata": {
        "colab": {
          "base_uri": "https://localhost:8080/",
          "height": 39
        },
        "id": "oxPc357JLLO8",
        "outputId": "1c67127f-2803-4e2e-cbd2-7fe6a999247e"
      },
      "execution_count": null,
      "outputs": [
        {
          "output_type": "execute_result",
          "data": {
            "text/plain": [
              "-7.0*x + y + 2.0"
            ],
            "text/latex": "$\\displaystyle - 7.0 x + y + 2.0$"
          },
          "metadata": {},
          "execution_count": 9
        }
      ]
    },
    {
      "cell_type": "code",
      "source": [
        "sp.solve(y-f(3)-m*(x-3),y)\n"
      ],
      "metadata": {
        "colab": {
          "base_uri": "https://localhost:8080/"
        },
        "id": "nQb3JD0dLULr",
        "outputId": "0dd1ab18-403f-453e-b0fd-a215aa26c35e"
      },
      "execution_count": null,
      "outputs": [
        {
          "output_type": "execute_result",
          "data": {
            "text/plain": [
              "[7.0*x - 2.0]"
            ]
          },
          "metadata": {},
          "execution_count": 41
        }
      ]
    },
    {
      "cell_type": "code",
      "source": [
        "g=lambda x:7*x-2"
      ],
      "metadata": {
        "id": "c4SS0CbfRfw-"
      },
      "execution_count": null,
      "outputs": []
    },
    {
      "cell_type": "code",
      "source": [
        "import numpy as np\n",
        "import matplotlib.pyplot as plt\n",
        "x_1=np.linspace(-50,50, 1000)\n",
        "y_1=[f(x_1) for x_1 in x_1]\n",
        "z_1=[g(x_1) for x_1 in x_1]\n",
        "plt.ylim(0, 100)\n",
        "plt.xlim(-10,10)\n",
        "plt.grid()\n",
        "plt.plot(x_1, y_1)\n",
        "plt.plot(x_1, z_1)\n",
        "plt.show()\n"
      ],
      "metadata": {
        "colab": {
          "base_uri": "https://localhost:8080/",
          "height": 435
        },
        "id": "SnF060-8Mm8L",
        "outputId": "9883344c-2a27-47f3-b9cb-86e65e1419f6"
      },
      "execution_count": null,
      "outputs": [
        {
          "output_type": "display_data",
          "data": {
            "text/plain": [
              "<Figure size 640x480 with 1 Axes>"
            ],
            "image/png": "[encoded data removed]"
          },
          "metadata": {}
        }
      ]
    },
    {
      "cell_type": "markdown",
      "source": [
        "#Recta tangente\n",
        "\n",
        "Por definición, una recta tangente es una recta que toca a la curva en uno y solo un punto\n",
        "\n"
      ],
      "metadata": {
        "id": "JVGGHayn1JIf"
      }
    },
    {
      "cell_type": "markdown",
      "source": [
        "## Entonces como pasamos de una secante a una tangente algebraicamente ??\n",
        "\n",
        "Recordemos que la ecuación de una recta es\n",
        "\n",
        "$$y-y_0=m(x-x_0)$$ donde $m=\\frac{y_2-y_1}{x_2-x_1}$, para lo cual necesitamos dos puntos.\n",
        "\n",
        "Pero como solo tenemos un punto $(x_0, y_0)$ ??\n",
        "\n",
        "\n",
        "\n",
        "\n"
      ],
      "metadata": {
        "id": "376IDNOB2V4f"
      }
    },
    {
      "cell_type": "markdown",
      "source": [
        "###Ejemplo\n",
        "\n",
        "Encontrar la ecuación de la recta tangente a la curva $$y=x^2 +3x+2$$ en el punto $x=1$"
      ],
      "metadata": {
        "id": "4s7_bF6I67Z5"
      }
    },
    {
      "cell_type": "markdown",
      "source": [
        "#Propuesta\n",
        "\n",
        "Crear un código que calcule el Limite\n",
        "\n",
        "$$f'(x)= Lim_ {h→0} \\frac{f(x+h)-f(x)}{h}$$ en Python\n"
      ],
      "metadata": {
        "id": "x_Q5A09fGIu-"
      }
    },
    {
      "cell_type": "code",
      "source": [
        "16*(2)**(1/2)"
      ],
      "metadata": {
        "colab": {
          "base_uri": "https://localhost:8080/",
          "height": 37
        },
        "id": "0OVectVaeiMp",
        "outputId": "db4e4589-6e24-4e8f-f2f6-637e194979bf"
      },
      "execution_count": null,
      "outputs": [
        {
          "output_type": "execute_result",
          "data": {
            "text/plain": [
              "22.627416997969522"
            ],
            "text/latex": "$\\displaystyle 22.6274169979695$"
          },
          "metadata": {},
          "execution_count": 62
        }
      ]
    },
    {
      "cell_type": "code",
      "source": [
        "\n",
        "import numpy as np\n",
        "sp.diff(x**(1/2), x)"
      ],
      "metadata": {
        "colab": {
          "base_uri": "https://localhost:8080/",
          "height": 51
        },
        "id": "oF_rjfJ9kzzo",
        "outputId": "3eb85390-9462-483a-a314-9de5141c9859"
      },
      "execution_count": null,
      "outputs": [
        {
          "output_type": "execute_result",
          "data": {
            "text/plain": [
              "0.5/x**0.5"
            ],
            "text/latex": "$\\displaystyle \\frac{0.5}{x^{0.5}}$"
          },
          "metadata": {},
          "execution_count": 45
        }
      ]
    },
    {
      "cell_type": "markdown",
      "source": [],
      "metadata": {
        "id": "3DDSwM1ih_vA"
      }
    },
    {
      "cell_type": "markdown",
      "source": [
        "#Propuesta\n",
        "\n",
        "Crear un código que calcule la derivada numérica usando Python\n"
      ],
      "metadata": {
        "id": "IjkFu_kqF6kt"
      }
    },
    {
      "cell_type": "code",
      "source": [
        "#Aproximación por derecha\n",
        "def deri_num_der(f,x,h=0.000001):\n",
        "  return (f(x+h)-f(x))/h\n"
      ],
      "metadata": {
        "id": "DYqOeVnjOaSb"
      },
      "execution_count": null,
      "outputs": []
    },
    {
      "cell_type": "code",
      "source": [
        "#Aproximación por izquiera\n",
        "def deri_num_izq(f,x,h=-0.00001):\n",
        "  return (f(x+h)-f(x))/h"
      ],
      "metadata": {
        "id": "BalWGziPPWUZ"
      },
      "execution_count": null,
      "outputs": []
    },
    {
      "cell_type": "code",
      "source": [
        "f=lambda x: x**2"
      ],
      "metadata": {
        "id": "VIPa6bEhO7Ld"
      },
      "execution_count": null,
      "outputs": []
    },
    {
      "cell_type": "code",
      "source": [
        "deri_num_der(f,2)"
      ],
      "metadata": {
        "colab": {
          "base_uri": "https://localhost:8080/"
        },
        "id": "x8yhCyFNO_JW",
        "outputId": "36d1b5eb-457f-430e-ec3e-e101a3d7b257"
      },
      "execution_count": null,
      "outputs": [
        {
          "output_type": "execute_result",
          "data": {
            "text/plain": [
              "4.000010000027032"
            ]
          },
          "metadata": {},
          "execution_count": 49
        }
      ]
    },
    {
      "cell_type": "code",
      "source": [
        "deri_num_izq(f,2)"
      ],
      "metadata": {
        "colab": {
          "base_uri": "https://localhost:8080/"
        },
        "id": "Ea_8eJ2jPw3l",
        "outputId": "39fad780-95de-4020-e728-21c5ab386853"
      },
      "execution_count": null,
      "outputs": [
        {
          "output_type": "execute_result",
          "data": {
            "text/plain": [
              "3.999990000025377"
            ]
          },
          "metadata": {},
          "execution_count": 50
        }
      ]
    },
    {
      "cell_type": "code",
      "source": [
        "#Aproximación numérica\n",
        "def der_num(f,x):\n",
        "  der_num=(deri_num_der(f,x)+deri_num_izq(f,x))/2\n",
        "  return der_num"
      ],
      "metadata": {
        "id": "ARoDNFLlP4RM"
      },
      "execution_count": null,
      "outputs": []
    },
    {
      "cell_type": "code",
      "source": [
        "der_num(f,2)"
      ],
      "metadata": {
        "colab": {
          "base_uri": "https://localhost:8080/"
        },
        "id": "PWPU71XyQQkh",
        "outputId": "52868488-2c65-479e-c129-01df1ff9f3cf"
      },
      "execution_count": null,
      "outputs": [
        {
          "output_type": "execute_result",
          "data": {
            "text/plain": [
              "4.000000000026205"
            ]
          },
          "metadata": {},
          "execution_count": 52
        }
      ]
    },
    {
      "cell_type": "markdown",
      "source": [
        "## La Derivada y sus propiedades\n",
        "\n",
        "1. Derivada de una Constante\n",
        "\n",
        "$$ f(x)=k$$ $$f'(x)=0$$\n",
        "\n",
        "2. Derivada de la identidad\n",
        "\n",
        "$$ f(x)=x$$ $$f'(x)=1$$\n",
        "\n",
        "3. Derivada de una potencia\n",
        "\n",
        "$$ f(x)=x^n $$ $$f'(x)=nx^{n-1}$$\n",
        "\n",
        "4. Derivada de una constante por una función\n",
        "\n",
        "$$ f(x)=kg(x)$$ $$f'(x)=kg'(x)$$"
      ],
      "metadata": {
        "id": "IYjW7kgsKjI3"
      }
    },
    {
      "cell_type": "markdown",
      "source": [
        "#Operaciones\n",
        "\n",
        "**Suma**: La derivada de la suma es la suma (o resta) de sus derivadas\n",
        "\n",
        "  $$(f(x) \\pm g(x))'=f'(x) \\pm g'(x))$$\n",
        "\n",
        "**Producto**: La derivada del producto es\n",
        "\n",
        "$$(f(x)g(x))'= f'(x)g(x)+f(x)g'(x)$$\n",
        "\n",
        "**Cociente**: La derivada del cociente se puede ver:\n",
        "\n",
        "$$\\left(\\frac{f(x)}{g(x)}\\right)'= \\frac{f'(x)g(x)-f(x)g'(x) } {[g(x)]^2 }$$\n",
        "\n",
        "**Cadena**: La regla de cadena o derivada de la compuesta es:\n",
        "\n",
        "$$[f(g(x))]'=f'(g(x)). g'(x)$$\n"
      ],
      "metadata": {
        "id": "5LPU3qWTKEtz"
      }
    }
  ]
}
{
  "nbformat": 4,
  "nbformat_minor": 0,
  "metadata": {
    "colab": {
      "provenance": [],
      "include_colab_link": true
    },
    "kernelspec": {
      "name": "python3",
      "display_name": "Python 3"
    },
    "language_info": {
      "name": "python"
    }
  },
  "cells": [
    {
      "cell_type": "markdown",
      "metadata": {
        "id": "view-in-github",
        "colab_type": "text"
      },
      "source": [
        "<a href=\"https://colab.research.google.com/github/YasminGarcia1210/MAT_APLICADAS03/blob/main/CUADERNO_1_.ipynb\" target=\"_parent\"><img src=\"https://colab.research.google.com/assets/colab-badge.svg\" alt=\"Open In Colab\"/></a>"
      ]
    },
    {
      "cell_type": "markdown",
      "source": [
        "<img src=http://www.acofi.edu.co/eiei2016/wp-content/uploads/2016/09/Logo-Universidad-ICESI.jpg width=\"200\" height=\"200\" align=\"center\">\n",
        "\n",
        "#**<big><big>Matemáticas Aplicadas I</big></big><br><small>Depto. Matemáticas & Estadística / Facultad de Ingeniería</small><br><small>_*CUADERNO 1*_ Herramientas Python y Librerias. </small>**\n"
      ],
      "metadata": {
        "id": "1efFjUk0er_V"
      }
    },
    {
      "cell_type": "markdown",
      "source": [
        "## ¿Qué es Python ?\n",
        "\n",
        "#Python\n",
        "\n",
        "<img src=https://dc722jrlp2zu8.cloudfront.net/media/uploads/2020/10/05/python-logo.png width=\"350\" height=\"200\">\n",
        "\n",
        "Python es un lenguaje de programación ampliamente utilizado en las aplicaciones web, el desarrollo de software, la ciencia de datos y el machine learning (ML).\n",
        "\n",
        "Los desarrolladores utilizan Python porque es eficiente y fácil de aprender, además de que se puede ejecutar en muchas plataformas diferentes. El software Python se puede descargar gratis, se integra bien a todos los tipos de sistemas y aumenta la velocidad del desarrollo.\n",
        "\n",
        "\n"
      ],
      "metadata": {
        "id": "A47ztgGxpdOd"
      }
    },
    {
      "cell_type": "markdown",
      "source": [
        "##Tipos de datos en Python\n",
        "\n",
        "**Cadenas [string]**\n",
        "```\n",
        "\"Esto es una cadena\"\n",
        "```\n",
        "\n",
        "**Números**\n",
        "\n",
        "```\n",
        "Estos son enteros [int]\n",
        "\n",
        "x=1\n",
        "\n",
        "y=2+x\n",
        "\n",
        "z= 3*5\n",
        "```\n",
        "\n",
        "\n",
        "```\n",
        "Estos son Flotantes [float]\n",
        "\n",
        "x=1.1\n",
        "\n",
        "y= 1.1*10**{-2}\n",
        "```\n",
        "\n",
        "\n",
        "\n",
        "```\n",
        "Estos son complejos\n",
        "\n",
        "x= <parte real> + <parte imaginaria + j>\n",
        "\n",
        "#j es la variable reservada para complejos\n",
        "\n",
        "c=2+3j\n",
        "```\n",
        "\n",
        "**Booleanos**\n",
        "\n",
        "Esta clase solo se puede instanciar con dos valores/objetos: True para representar verdadero y False para representar falso.\n",
        "\n",
        "\n",
        "\n",
        "```\n",
        "a==b\n",
        "\n",
        "a!=b\n",
        "\n",
        "a<b\n",
        "```\n",
        "\n"
      ],
      "metadata": {
        "id": "_Nq9QrN4hENa"
      }
    },
    {
      "cell_type": "code",
      "execution_count": null,
      "metadata": {
        "colab": {
          "base_uri": "https://localhost:8080/"
        },
        "id": "YK1bwoUxeokl",
        "outputId": "6f214a99-8863-4bdf-8372-cf74793f4589"
      },
      "outputs": [
        {
          "output_type": "execute_result",
          "data": {
            "text/plain": [
              "0.011000000000000001"
            ]
          },
          "metadata": {},
          "execution_count": 2
        }
      ],
      "source": [
        "1.1*10**(-2)"
      ]
    },
    {
      "cell_type": "code",
      "source": [
        "c=2+3j\n",
        "\n",
        "c_1=5+6j\n",
        "\n",
        "c_2=3j\n",
        "\n",
        "c+c_1+c_2"
      ],
      "metadata": {
        "colab": {
          "base_uri": "https://localhost:8080/"
        },
        "id": "K5tQ-mMAjFu5",
        "outputId": "c9160d12-2bf4-4e1e-ce36-087bdd241f8d"
      },
      "execution_count": null,
      "outputs": [
        {
          "output_type": "execute_result",
          "data": {
            "text/plain": [
              "(7+12j)"
            ]
          },
          "metadata": {},
          "execution_count": 3
        }
      ]
    },
    {
      "cell_type": "markdown",
      "source": [
        "##Cambio de Type de Datos\n",
        "\n",
        "¿Cómo puedo tratar la variable edad como un número? Convirtiéndola a un tipo numérico, por ejemplo, al tipo int.\n",
        "\n",
        "Para ello, Python ofrece las siguientes funciones:\n",
        "\n",
        "* str( ): Devuelve la representación en cadena de caracteres del objeto que se pasa como parámetro.\n",
        "* int( ): Devuelve un int a partir de un número o secuencia de caracteres.\n",
        "* float( ): Devuelve un float a partir de un número o secuencia de caracteres.\n",
        "* complex(): Devuelve un complex a partir de un número o secuencia de caracteres.\n",
        "\n",
        "Nota: Si a las funciones anteriores se les pasa como parámetro un valor inválido, el intérprete mostrará un error."
      ],
      "metadata": {
        "id": "76b0jbi1kjni"
      }
    },
    {
      "cell_type": "markdown",
      "source": [
        "# Operaciones en Python\n",
        "\n",
        "Algunas operaciones aritmeticas importantes con Python se presentan a continuación:\n",
        "\n",
        "<img src=\"https://www.maquinasvirtuales.eu/ipsoapoo/2020/12/python-aprendiendo-desde-cero-vi-operadores-2b.png\" width=\"400\" height=\"400\"\n",
        "align=\"center\">\n",
        "\n"
      ],
      "metadata": {
        "id": "roMZXxe8qjnD"
      }
    },
    {
      "cell_type": "markdown",
      "source": [
        "##Variables\n",
        "\n",
        "Una variable es un espacio en un sistema de almacenaje que recibe un identificador y contiene información conocida o desconocida!\n",
        "\n",
        "```\n",
        "x=var1\n",
        "li=var2\n",
        "x_1=var3\n",
        "```\n",
        "\n"
      ],
      "metadata": {
        "id": "sqHnGBUiqJ5M"
      }
    },
    {
      "cell_type": "code",
      "source": [
        "x=45\n",
        "\n",
        "y=float(x)\n",
        "\n",
        "y"
      ],
      "metadata": {
        "colab": {
          "base_uri": "https://localhost:8080/"
        },
        "id": "Ko2LPoqhv6S_",
        "outputId": "39d78b99-23d5-45ef-c648-c43eeece9241"
      },
      "execution_count": null,
      "outputs": [
        {
          "output_type": "execute_result",
          "data": {
            "text/plain": [
              "45.0"
            ]
          },
          "metadata": {},
          "execution_count": 4
        }
      ]
    },
    {
      "cell_type": "code",
      "source": [
        "str(2.5)"
      ],
      "metadata": {
        "colab": {
          "base_uri": "https://localhost:8080/",
          "height": 36
        },
        "id": "rEAVbqZwo3Yl",
        "outputId": "46392912-2348-4255-f678-dd0e48ca5541"
      },
      "execution_count": null,
      "outputs": [
        {
          "output_type": "execute_result",
          "data": {
            "text/plain": [
              "'2.5'"
            ],
            "application/vnd.google.colaboratory.intrinsic+json": {
              "type": "string"
            }
          },
          "metadata": {},
          "execution_count": 5
        }
      ]
    },
    {
      "cell_type": "code",
      "source": [
        "int(2.99)"
      ],
      "metadata": {
        "colab": {
          "base_uri": "https://localhost:8080/"
        },
        "id": "XOdDcuR7vD65",
        "outputId": "1cfb625a-532d-423a-83cc-2d19cc6e7d4e"
      },
      "execution_count": null,
      "outputs": [
        {
          "output_type": "execute_result",
          "data": {
            "text/plain": [
              "2"
            ]
          },
          "metadata": {},
          "execution_count": 6
        }
      ]
    },
    {
      "cell_type": "markdown",
      "source": [
        "###Llamar variables y Función print\n",
        "\n"
      ],
      "metadata": {
        "id": "y5UXOVPyqqq6"
      }
    },
    {
      "cell_type": "markdown",
      "source": [
        "##Códigos simples para formar cadenas\n",
        "\n",
        "Podemos usar la función `input()`\n",
        "que permite recoger información de un usuario\n"
      ],
      "metadata": {
        "id": "9X_EJeNgpIlM"
      }
    },
    {
      "cell_type": "code",
      "source": [
        "#Cadenas simples\n",
        "x=input(\"Ingrese su nombre: \")\n",
        "y= int(input(\"Ingrese su edad: \"))\n",
        "\n",
        "print(\"La edad de\", x, \"es\", y)"
      ],
      "metadata": {
        "id": "29QYMhIrm2Tn",
        "colab": {
          "base_uri": "https://localhost:8080/"
        },
        "outputId": "b771f35a-0047-45c4-d840-4986c6f75cf4"
      },
      "execution_count": null,
      "outputs": [
        {
          "output_type": "stream",
          "name": "stdout",
          "text": [
            "Ingrese su nombre: juan\n",
            "Ingrese su edad: 20\n",
            "La edad de juan es 20\n"
          ]
        }
      ]
    },
    {
      "cell_type": "code",
      "source": [
        "#Cadenas 'f' para completar\n"
      ],
      "metadata": {
        "id": "FA4WmTBCoRA7"
      },
      "execution_count": null,
      "outputs": []
    },
    {
      "cell_type": "code",
      "source": [
        "#CADENA de Toma de decisiones\n",
        "\n",
        "x=int(input(\"ingrese un número entero: \"))\n",
        "\n",
        "if x%2==0: # la operación % se refiere al residuo o resto\n",
        "  print(x, \"es un número par\")\n",
        "else:\n",
        "  print(x, \"es un número impar\")\n"
      ],
      "metadata": {
        "id": "Tdbgy61uGcJn",
        "colab": {
          "base_uri": "https://localhost:8080/"
        },
        "outputId": "85280882-7c7d-4b87-c78b-4f6aa53270e5"
      },
      "execution_count": null,
      "outputs": [
        {
          "output_type": "stream",
          "name": "stdout",
          "text": [
            "ingrese un número entero: 10\n",
            "10 es un número par\n"
          ]
        }
      ]
    },
    {
      "cell_type": "markdown",
      "source": [
        "#Agrupaciones\n",
        "\n",
        "* Las listas son secuencias mutables de valores. MUTABLE: Que puedo modificar la lista.\n",
        "\n",
        ">>lista=[1,2,3,4,5]\n",
        "\n",
        "* Las tuplas son secuencias inmutables de valores. TUPLA: No se modifican (cedula)\n",
        "\n",
        ">>tupla=(1,2,3,4,5)\n",
        "\n",
        "* Los conjuntos se utilizan para representar conjuntos únicos de elementos, es decir, en un conjunto no pueden existir dos objetos iguales. CONJUNTO: Una lista dentro de otra. (elementos diferentes)\n",
        "\n",
        ">> conjunto=set([1,2,3,4])\n",
        "\n",
        "* Los diccionarios son tipos especiales de contenedores en los que se puede acceder a sus elementos a partir de una clave única. (Representar la palabra con una letra). eje: a= Marin. (definir variables)\n",
        "\n",
        ">> dicionario= {'a':\"Marin\", 'b':\"Lopez\", 'c':1 }"
      ],
      "metadata": {
        "id": "xwNMR5YjkkCD"
      }
    },
    {
      "cell_type": "code",
      "source": [
        "dic1={'N': \"Nombres\", 'A':\"Apellidos\"}\n",
        "\n",
        "dic1['N']"
      ],
      "metadata": {
        "id": "6nCs7SYM1Fts",
        "outputId": "a27d678e-254b-4510-a8e6-91f2bf9bad6d",
        "colab": {
          "base_uri": "https://localhost:8080/",
          "height": 35
        }
      },
      "execution_count": null,
      "outputs": [
        {
          "output_type": "execute_result",
          "data": {
            "text/plain": [
              "'Nombres'"
            ],
            "application/vnd.google.colaboratory.intrinsic+json": {
              "type": "string"
            }
          },
          "metadata": {},
          "execution_count": 1
        }
      ]
    },
    {
      "cell_type": "markdown",
      "source": [
        "##Listas y tuplas\n",
        "\n"
      ],
      "metadata": {
        "id": "qfgFDgQItv3V"
      }
    },
    {
      "cell_type": "code",
      "source": [
        "lista=[1,2,3,4,5,6,7,8]\n",
        "\n",
        "lista[4] #muestra el tercer elemento ordenado en la lista\n"
      ],
      "metadata": {
        "id": "GQfYh-GZuCF_",
        "outputId": "01601683-a6f7-498a-fbac-b66d165a6169",
        "colab": {
          "base_uri": "https://localhost:8080/"
        }
      },
      "execution_count": null,
      "outputs": [
        {
          "output_type": "execute_result",
          "data": {
            "text/plain": [
              "5"
            ]
          },
          "metadata": {},
          "execution_count": 2
        }
      ]
    },
    {
      "cell_type": "code",
      "source": [
        "lista=[1,2,3,4,5,6,7,8]\n",
        "\n",
        "lista[3] #Muestra el cuarto elemento ordenado en la lista empieza a contar desde 0"
      ],
      "metadata": {
        "id": "EfdWEoBy2d_A"
      },
      "execution_count": null,
      "outputs": []
    },
    {
      "cell_type": "code",
      "source": [
        "lista[2:6] #Rebana la lista de manera ordenada - Para **AGREGAR UN ELEMENTO** = lista.insert(posicion, \"valor\")"
      ],
      "metadata": {
        "id": "A0uA8YNuuJb2"
      },
      "execution_count": null,
      "outputs": []
    },
    {
      "cell_type": "code",
      "source": [
        "lista=[1,2,3,4,5,6,7,8,9,10]\n",
        "\n",
        "lista.insert(5, \"10\") #Metodo Insert Ingresa una obejto en la posición (n, Obj)\n",
        "\n",
        "lista\n"
      ],
      "metadata": {
        "id": "KvW45KWhutYv",
        "colab": {
          "base_uri": "https://localhost:8080/"
        },
        "outputId": "fc53b477-878e-4b5d-890b-56eec47e8965"
      },
      "execution_count": null,
      "outputs": [
        {
          "output_type": "execute_result",
          "data": {
            "text/plain": [
              "[1, 2, 3, 4, 5, '10', 6, 7, 8, 9, 10]"
            ]
          },
          "metadata": {},
          "execution_count": 1
        }
      ]
    },
    {
      "cell_type": "code",
      "source": [
        "L1=[1,2,3,4,5] #ENLAZAR LISTAS\n",
        "L2=[6,7,8,9,10]\n",
        "\n",
        "L1.extend(L2)\n",
        "L1"
      ],
      "metadata": {
        "id": "gq-Xax84XSVG",
        "colab": {
          "base_uri": "https://localhost:8080/"
        },
        "outputId": "73d927cd-1f92-476c-faf4-4244571e6450"
      },
      "execution_count": null,
      "outputs": [
        {
          "output_type": "execute_result",
          "data": {
            "text/plain": [
              "[1, 2, 3, 4, 5, 6, 7, 8, 9, 10]"
            ]
          },
          "metadata": {},
          "execution_count": 2
        }
      ]
    },
    {
      "cell_type": "code",
      "source": [],
      "metadata": {
        "id": "qI9CugWD4-eO"
      },
      "execution_count": null,
      "outputs": []
    },
    {
      "cell_type": "markdown",
      "source": [
        "# #Tarea de lectura\n",
        "\n",
        "Avanzar en la siguiente lectura:\n",
        "\n",
        "[Listas]( https://recursospython.com/guias-y-manuales/listas-y-tuplas/): Explica de manera clara y ordenada los elementos necesarios para comprender las listas, ademas se puede generalizar para el formato Tuplas"
      ],
      "metadata": {
        "id": "6FqSSrG7siJq"
      }
    },
    {
      "cell_type": "markdown",
      "source": [
        "# Librerias 👀"
      ],
      "metadata": {
        "id": "NMpQ78aj17LH"
      }
    },
    {
      "cell_type": "markdown",
      "source": [
        "#LIBRERIAS ---> IMPORTAR\n",
        "import **math** as mt --->*libreria math*\n",
        "\n",
        "import **numpy** as np\n",
        "\n",
        "Para el presente curso, usaremos algunas librerias claves para aprender matemáticas\n",
        "\n",
        "\n",
        "\n",
        "```\n",
        "Import math as mt\n",
        "\n",
        "Import numpy as np\n",
        "```\n",
        "\n",
        "#Libreria Math\n",
        "\n",
        "Para la sintaxis se debe anteponer el apodo de la libreria y la función que requerimos\n",
        "\n",
        "* [Curiosidades de la libreria Math](https://docs.python.org/es/3.10/library/math.html#special-functions)\n",
        "\n",
        "```\n",
        "mt.sin(x)  --->Importar Sen\n",
        "\n",
        "mt.sqrt(x)\n",
        "\n",
        "mt.degrees(y)\n",
        "\n",
        "mt.pi  ---> Importar Pi\n",
        "```\n",
        "\n",
        "\n"
      ],
      "metadata": {
        "id": "O1Z0ass6Y8yA"
      }
    },
    {
      "cell_type": "code",
      "source": [
        "import math as mt"
      ],
      "metadata": {
        "id": "su7gynuE2Qfj"
      },
      "execution_count": 7,
      "outputs": []
    },
    {
      "cell_type": "code",
      "source": [
        "mt.pi #Retorna el número Pi ---> Ej importar Pi"
      ],
      "metadata": {
        "id": "5ZAGfmBmbfYr",
        "colab": {
          "base_uri": "https://localhost:8080/"
        },
        "outputId": "35b0cec4-35d5-438a-ac6b-cf439e802fe4"
      },
      "execution_count": 8,
      "outputs": [
        {
          "output_type": "execute_result",
          "data": {
            "text/plain": [
              "3.141592653589793"
            ]
          },
          "metadata": {},
          "execution_count": 8
        }
      ]
    },
    {
      "cell_type": "code",
      "source": [
        "mt.e #Retorna el número Euler"
      ],
      "metadata": {
        "id": "8WicFx46bg8D",
        "colab": {
          "base_uri": "https://localhost:8080/"
        },
        "outputId": "b4088ee4-6a77-4210-e68c-39da8a8d5dab"
      },
      "execution_count": 9,
      "outputs": [
        {
          "output_type": "execute_result",
          "data": {
            "text/plain": [
              "2.718281828459045"
            ]
          },
          "metadata": {},
          "execution_count": 9
        }
      ]
    },
    {
      "cell_type": "code",
      "source": [
        "mt.sin(8)\n"
      ],
      "metadata": {
        "id": "IpRFMFX6ZxNS",
        "outputId": "bca98a91-6930-4518-913f-8c0bdfe4c43f",
        "colab": {
          "base_uri": "https://localhost:8080/"
        }
      },
      "execution_count": 10,
      "outputs": [
        {
          "output_type": "execute_result",
          "data": {
            "text/plain": [
              "0.9893582466233818"
            ]
          },
          "metadata": {},
          "execution_count": 10
        }
      ]
    },
    {
      "cell_type": "code",
      "source": [
        "mt.sqrt(4)\n"
      ],
      "metadata": {
        "id": "4i_QskApansM",
        "colab": {
          "base_uri": "https://localhost:8080/"
        },
        "outputId": "539fbe57-512e-4cec-8c34-867ada056105"
      },
      "execution_count": 11,
      "outputs": [
        {
          "output_type": "execute_result",
          "data": {
            "text/plain": [
              "2.0"
            ]
          },
          "metadata": {},
          "execution_count": 11
        }
      ]
    },
    {
      "cell_type": "markdown",
      "source": [
        "#Libreria Numpy\n",
        "\n",
        "NumPy es una librería de Python especializada en el cálculo numérico y el análisis de datos, especialmente para un gran volumen de datos.\n",
        "\n",
        "* [Curiosidades de Numpy](https://aprendeconalf.es/docencia/python/manual/numpy/)\n",
        "\n",
        "```\n",
        "Import Numpy as np\n",
        "```\n",
        "\n",
        "**Sintaxis**\n",
        "\n",
        "```\n",
        "np.sqrt(x)\n",
        "```\n",
        "\n"
      ],
      "metadata": {
        "id": "IcnOPfnKcILt"
      }
    },
    {
      "cell_type": "code",
      "source": [
        "import numpy as np\n",
        "\n",
        "np.sqrt(9) #----> Importar Raiz\n",
        "\n",
        "np.sin(5)\n",
        "\n",
        "np.array([1,2,3,4]) #Arreglos\n",
        "\n"
      ],
      "metadata": {
        "id": "prZAl5LMc-AW",
        "colab": {
          "base_uri": "https://localhost:8080/"
        },
        "outputId": "6ea70bc0-1ad0-40ce-9de1-9c45002ac77d"
      },
      "execution_count": 13,
      "outputs": [
        {
          "output_type": "execute_result",
          "data": {
            "text/plain": [
              "array([1, 2, 3, 4])"
            ]
          },
          "metadata": {},
          "execution_count": 13
        }
      ]
    },
    {
      "cell_type": "code",
      "source": [
        "np.array([[1,2,3], [4,5,6]])"
      ],
      "metadata": {
        "colab": {
          "base_uri": "https://localhost:8080/"
        },
        "id": "0VXRXX8S24Qh",
        "outputId": "6eb1c4c6-3fc1-42b0-80ef-8192a8770e41"
      },
      "execution_count": 17,
      "outputs": [
        {
          "output_type": "execute_result",
          "data": {
            "text/plain": [
              "array([[1, 2, 3],\n",
              "       [4, 5, 6]])"
            ]
          },
          "metadata": {},
          "execution_count": 17
        }
      ]
    },
    {
      "cell_type": "markdown",
      "source": [
        "#Funciones ---> Crear nuevos codigos\n",
        "\n",
        "Una función te permite *crear* un bloque de código reutilizable que se puede ejecutar muchas veces dentro de tu programa\n",
        "\n",
        "**Sintaxis**\n",
        "\n",
        "En Python, una definición de función tiene las siguientes características:\n",
        "\n",
        "**PASOS PARA CREAR UNA NUEVA FUNCION**\n",
        "1. La palabra clave def\n",
        "2. Un nombre de función\n",
        "3. Paréntesis '( )', y dentro de los paréntesis lo que quiero que se ingrese, aunque los parámetros de entrada sean opcionales.\n",
        "4. Dos puntos ':'\n",
        "5. Algún bloque de código para ejecutar ----> operacion a crear\n",
        "6. Una sentencia de retorno (opcional)\n",
        "\n",
        "\n",
        "EJEMPLO\n",
        "TIPO CADENA\n",
        "```\n",
        "def suma(a,b):\n",
        "    return a+b\n",
        "```\n",
        "\n",
        "Otra Forma PARA VARIAS VARIABLES\n",
        "```\n",
        "def suma(a,b):\n",
        "  suma=a+b\n",
        "  return suma\n",
        "```\n",
        "\n"
      ],
      "metadata": {
        "id": "yRtXnGGke3kF"
      }
    },
    {
      "cell_type": "code",
      "source": [
        "def suma(x,y):\n",
        "    return x+y"
      ],
      "metadata": {
        "id": "IepbhFxYif0h"
      },
      "execution_count": null,
      "outputs": []
    },
    {
      "cell_type": "code",
      "source": [
        "suma(1,2)"
      ],
      "metadata": {
        "id": "GrPYGTfoiqkn"
      },
      "execution_count": null,
      "outputs": []
    },
    {
      "cell_type": "code",
      "source": [
        "#otra forma\n",
        "\n",
        "def prod(x,y):\n",
        "    prod=x*y\n",
        "    return prod"
      ],
      "metadata": {
        "id": "NxM8IMIDitTp"
      },
      "execution_count": null,
      "outputs": []
    },
    {
      "cell_type": "code",
      "source": [
        "prod(4,6)"
      ],
      "metadata": {
        "id": "_d1hlfA9jHzD",
        "colab": {
          "base_uri": "https://localhost:8080/"
        },
        "outputId": "0c7ecda8-8c39-42d9-c111-0eec019e009a"
      },
      "execution_count": null,
      "outputs": [
        {
          "output_type": "execute_result",
          "data": {
            "text/plain": [
              "24"
            ]
          },
          "metadata": {},
          "execution_count": 4
        }
      ]
    },
    {
      "cell_type": "code",
      "source": [
        "def seno(x):\n",
        "  y=np.radians(x)\n",
        "  return np.sin(y)"
      ],
      "metadata": {
        "id": "RO7ilmjc1DRe"
      },
      "execution_count": null,
      "outputs": []
    },
    {
      "cell_type": "markdown",
      "source": [
        "##FUNCIONES A TROZOS\n",
        "\n",
        "Sentencias if, else, elif ----> Cadena TOMA DECISIONES\n",
        "\n",
        "Una función a  trozos es suna partición del dominio\n",
        "\n",
        "Sintaxis\n",
        "\n",
        "\n",
        "mirar la foto\n",
        "```\n",
        "def f(x):\n",
        "  if x<a:\n",
        "  return x\n",
        "  else:\n",
        "    return 1-x\n",
        "```\n",
        "\n"
      ],
      "metadata": {
        "id": "PAwp1kI4y0CB"
      }
    },
    {
      "cell_type": "code",
      "source": [
        "#Ejemplo: Función valor absoluto (abs: es el nombre que yo le pongo)\n",
        "\n",
        "def abs(x):\n",
        "  if x>0:\n",
        "    return x\n",
        "  else:\n",
        "    return -x"
      ],
      "metadata": {
        "id": "Ly0knPIhzpC3"
      },
      "execution_count": null,
      "outputs": []
    },
    {
      "cell_type": "code",
      "source": [
        "abs(8)"
      ],
      "metadata": {
        "id": "VIDNhIxrAVJw",
        "colab": {
          "base_uri": "https://localhost:8080/"
        },
        "outputId": "ddb14b83-7629-427f-e1a9-6466391b729d"
      },
      "execution_count": null,
      "outputs": [
        {
          "output_type": "execute_result",
          "data": {
            "text/plain": [
              "8"
            ]
          },
          "metadata": {},
          "execution_count": 5
        }
      ]
    },
    {
      "cell_type": "code",
      "source": [
        "abs(-70)"
      ],
      "metadata": {
        "id": "VqVK-JXb3vnx",
        "colab": {
          "base_uri": "https://localhost:8080/"
        },
        "outputId": "07e5f224-f4e5-4394-ac49-c17aa72c52d8"
      },
      "execution_count": null,
      "outputs": [
        {
          "output_type": "execute_result",
          "data": {
            "text/plain": [
              "70"
            ]
          },
          "metadata": {},
          "execution_count": 7
        }
      ]
    },
    {
      "cell_type": "code",
      "source": [
        "#Ejemplo --->Varias condiciones (elif)\n",
        "\n",
        "def f(x):\n",
        "  if x>0:\n",
        "    return x-1\n",
        "  elif x<0:\n",
        "    return x**2\n",
        "  else:\n",
        "    return 4*x"
      ],
      "metadata": {
        "id": "8ZK2tVBcz-B7"
      },
      "execution_count": null,
      "outputs": []
    },
    {
      "cell_type": "code",
      "source": [
        "f(8)"
      ],
      "metadata": {
        "id": "Iw317r9e0RIC",
        "colab": {
          "base_uri": "https://localhost:8080/"
        },
        "outputId": "d44a7847-01ca-4965-dad2-b16c15951d55"
      },
      "execution_count": null,
      "outputs": [
        {
          "output_type": "execute_result",
          "data": {
            "text/plain": [
              "7"
            ]
          },
          "metadata": {},
          "execution_count": 3
        }
      ]
    },
    {
      "cell_type": "markdown",
      "source": [
        "#Taller #2 Funciones, listas y sentencias if, elif, else\n",
        "\n",
        "[Taller]()"
      ],
      "metadata": {
        "id": "Wcrvxg3E-jQU"
      }
    }
  ]
}
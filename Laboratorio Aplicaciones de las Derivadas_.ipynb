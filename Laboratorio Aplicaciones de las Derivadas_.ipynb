{
  "nbformat": 4,
  "nbformat_minor": 0,
  "metadata": {
    "colab": {
      "provenance": [],
      "include_colab_link": true
    },
    "kernelspec": {
      "name": "python3",
      "display_name": "Python 3"
    },
    "language_info": {
      "name": "python"
    }
  },
  "cells": [
    {
      "cell_type": "markdown",
      "metadata": {
        "id": "view-in-github",
        "colab_type": "text"
      },
      "source": [
        "<a href=\"https://colab.research.google.com/github/YasminGarcia1210/MAT_APLICADAS03/blob/main/Laboratorio%20Aplicaciones%20de%20las%20Derivadas_.ipynb\" target=\"_parent\"><img src=\"https://colab.research.google.com/assets/colab-badge.svg\" alt=\"Open In Colab\"/></a>"
      ]
    },
    {
      "cell_type": "markdown",
      "source": [
        "<img src=http://www.acofi.edu.co/eiei2016/wp-content/uploads/2016/09/Logo-Universidad-ICESI.jpg width=\"200\" height=\"200\" align=\"center\">\n",
        "\n",
        "#<big><big>Matemáticas Aplicadas I</big></big><br><small>Depto. Matemáticas & Estadística / Facultad de Ingeniería\n",
        "###Aplicaciones de las derivadas\n",
        "\n"
      ],
      "metadata": {
        "id": "82biNZssKBSq"
      }
    },
    {
      "cell_type": "markdown",
      "source": [
        "##Optimización\n",
        "Con base en los ejemplos y la teoría desarrollada en las secciones anteriores, sugerimos el siguiente método paso a paso que puede aplicarse a muchos problemas prácticos de optimización.\n",
        "\n",
        "* Paso 1: Haga un dibujo del problema y asigne variables idóneas para las cantidades importantes.\n",
        "\n",
        "* Paso 2: Escriba una fórmula para la función objetivo Q que se maximizará o minimizará, en términos de las variables del paso 1.\n",
        "\n",
        "* Paso 3: Utilice las condiciones del problema para eliminar todas, excepto una de estas variables, y por consiguiente expresar a Q como una función de una sola variable.\n",
        "\n",
        "* Paso 4: Encuentre los puntos críticos (fronterizos, estacionarios, singulares).\n",
        "\n",
        "* Paso 5: Sustituya los valores críticos en la función objetivo o bien utilice la teoría dela última sección (es decir, los criterios de la primera o segunda derivada) para determinar el máximo o el mínim0."
      ],
      "metadata": {
        "id": "9RtiYL1VJ4m1"
      }
    },
    {
      "cell_type": "markdown",
      "source": [
        "Teniendo en cuenta el analisis anterior; resolver los siguientes ejercicios\n",
        "1. Encuentre las dimensiones del cilindro circular recto de volumen\n",
        "máximo que puede inscribirse en un cono circular recto dado\n",
        "\n",
        "2. Suponga que un pez nada río arriba con velocidad relativa al agua\n",
        "$v$ y que la corriente del río tiene velocidad $-v_c$ (el signo negativo indica que la velocidad de la corriente es en dirección opuesta a la del pez). La energía empleada en recorrer una distancia $d$ a contracorriente es directamente proporcional al tiempo requerido para recorrer la distancia $d$ y el cubo de la velocidad. ¿Qué velocidad $v$ minimiza la energía empleada en nadar esta distancia?\n",
        "\n",
        "3. Un pasillo de 6 pies de ancho da vuelta en ángulo recto. ¿Cuál es\n",
        "la longitud de la varilla delgada más larga que puede transportarse alrededor de la esquina, suponiendo que la varilla no puede doblarse?\n",
        "4. Un objeto que se arroja desde el borde de un acantilado de 100 pies, sigue la trayectoria dada por  $ h=\\frac{-x^2}{100}+x+100$.\n",
        "Un observador se encuentra parado a 2 pies del fondo del acantilado.\n",
        "(a) Encuentre la posición del objeto cuando está más cerca del observador.\n",
        "(b) Encuentre la posición del objeto cuando está más lejos del observador."
      ],
      "metadata": {
        "id": "gri7MRoXK93t"
      }
    },
    {
      "cell_type": "markdown",
      "source": [
        "#Una aplicación: Coste Marginal\n",
        "El coste marginal es un concepto muy utilizado en microeconomía. Otra forma de describir el coste marginal es tomándolo como la variación que se produce en el coste total a la hora de aumentar en una unidad la producción.\n",
        "\n",
        "De estas dos ideas iniciales puede resumirse la definición en que el coste marginal es el coste al que se enfrenta una empresa en cuestión, en el momento de producir una unidad más de algo\n",
        "\n",
        "Se tiene entonces que:\n",
        "\n",
        "**El costo marginal**\n",
        "\n",
        "$$C_m(x)=\\frac{dc}{dx}$$\n",
        "\n",
        "Ademas se tiene que:\n",
        "\n",
        "**Precio Marginal**\n",
        "\n",
        "$$P_m(x)=\\frac{dP}{dx}$$\n",
        "\n",
        "**Utilidad marginal**\n",
        "\n",
        "$$U_m(x)=\\frac{dU}{dx}$$\n",
        "\n",
        "Profundice en esta [Lectura](https://squareup.com/us/es/glossary/marginal-cost) sobre Microenomia y Coste Marginal.\n",
        "\n",
        "###Ejercicio\n",
        "\n",
        "En la fabricación y venta de x unidades de cierto bien de consumo, las funciones de precio $P$ y de costo $C$ (en dólares) están dadas por:\n",
        "\n",
        "$$P(x) = 5.00 - 0.002x$$\n",
        "\n",
        "$$C(x)=3.00 + 1.10x$$\n",
        "\n",
        "Encuentre las expresiones para el ingreso, el costo y la utilidad marginales. Determine el nivel de producción que producirá la máxima utilidad total.Explique con claridad cada proceso\n",
        "\n"
      ],
      "metadata": {
        "id": "oOgHTCKKLl0c"
      }
    },
    {
      "cell_type": "markdown",
      "source": [
        "## Una aplicación: Método de Newton\n",
        "\n",
        "Encontrar raíces de ciertos tipos de ecuaciones fue un problema que cautivó a\n",
        "los matemáticos durante siglos. Los ceros de una función polinomial f de grado 4 o menos (es decir, las raíces de la ecuación $f(x)$ siempre pueden encontrarse por medio de una fórmula algebraica que expresa la incógnita $x$ en términos de los coeficientes de $f$. Por ejemplo, la ecuación polinomial de grado 2 $ax^2+bx+c=0$ puede resolverse con la fórmula cuadrática:  $x=\\frac{-b\\pm \\sqrt{b^2-4ac}}{2a}$.\n",
        "\n",
        "Uno de los logros más importantes en la historia de las matemáticas fue la demostración en el siglo XIX de que las ecuaciones polinomiales de grado mayor que 4 no pueden resolverse por medio de fórmulas algebraicas; en otras palabras, en términos de radicales.\n",
        "\n",
        "En esta sección consideraremos una técnica de aproximación que utiliza la derivada de una función f o, con más precisión, una recta tangente a la gráfica de f. Este nuevo método se denomina **método de Newton**, o método de Newton Raphson.\n",
        "\n",
        "Suponga que $f$ es diferenciable y suponga que $c$ representa alguna raíz\n",
        "real desconocida de $f(x)=0$. Sea $x_0$ un número que se escoge de manera arbitraria como primera conjetura para $c$, si $f(x_0) \\neq 0$ se calcula $f'(x_0)$ y se contruye la tangente alrededor del punto $x_0$ y su ecuación sería\n",
        "\n",
        "$$y-f(x_0)=f'(x_0)(x-x_0)$$\n",
        "\n",
        "Entonces si $x=x_1$ y se despeja:\n",
        "\n",
        "$$x_1=x_0-\\frac{f(x_0)}{f'(x_0)}$$\n",
        "\n",
        "si se repite el proceso, se tendría $x_2$:\n",
        "\n",
        "$$x_2=x_1-\\frac{f(x_1)}{f'(x_1)}$$\n",
        "\n",
        "...\n",
        "\n",
        "y asi sucesivamente hasta encontrar una raíz cercana, talque $|x_i-x_j|<ᵋ$\n",
        "\n",
        "Use esta [Lectura](https://estadistica-dma.ulpgc.es/FCC/05-3-Raices-de-Ecuaciones-2.html) para reforzar el método, ademas, se propone este [Video](https://youtu.be/n53t8CtaLrM) para su analisis."
      ],
      "metadata": {
        "id": "hIwLu59wNvBR"
      }
    },
    {
      "cell_type": "code",
      "source": [
        " #Analice el siguiente codigo. Explique cada paso en el codigo anterior y compruebe\n",
        "\n",
        "def newton(fun, der, x_n, epsilon=1e-6, steps=50):\n",
        "    for n in range(steps + 1):\n",
        "        # Evaluación de la función para ver si el resultado es válido\n",
        "        f_x = fun(x_n)\n",
        "        if abs(f_x) < epsilon:\n",
        "            return x_n\n",
        "\n",
        "        # Evaluación de la derivada\n",
        "        d_f = der(x_n)\n",
        "        if d_f == 0:\n",
        "            print('Error la derivada es cero')\n",
        "            return None\n",
        "\n",
        "        # Estimación del siguiente punto\n",
        "        x_n = x_n - f_x / d_f\n",
        "\n",
        "        return None"
      ],
      "metadata": {
        "id": "8GVesTRKTBpg"
      },
      "execution_count": null,
      "outputs": []
    },
    {
      "cell_type": "code",
      "source": [
        "f=lambda x: x**3-2\n",
        "g=lambda x: 3*x**2"
      ],
      "metadata": {
        "id": "ofXoqje-C8WE"
      },
      "execution_count": null,
      "outputs": []
    },
    {
      "cell_type": "code",
      "source": [
        "y=newton(f,g,1, epsilon=1e-5)\n",
        "print(y)"
      ],
      "metadata": {
        "colab": {
          "base_uri": "https://localhost:8080/"
        },
        "id": "JhVGuX-WDQyf",
        "outputId": "f4305c0b-31ad-4701-8564-b38c758ba507"
      },
      "execution_count": null,
      "outputs": [
        {
          "output_type": "stream",
          "name": "stdout",
          "text": [
            "None\n"
          ]
        }
      ]
    },
    {
      "cell_type": "code",
      "source": [
        "\n",
        "#código propio para calcular la raiz de cualquier función (use Cuestionario Colab):\n",
        "\n",
        "def newton_raphson(f, fprime, x0, tol, maxiter):\n",
        "    x = x0\n",
        "    for i in range(maxiter):\n",
        "        fx = f(x)\n",
        "        if abs(fx) < tol:\n",
        "            return x\n",
        "\n",
        "        fp = fprime(x)\n",
        "        if fp == 0:\n",
        "            print('Error la derivada es cero')\n",
        "            break\n",
        "        x = x - fx / fp\n",
        "    return x\n",
        "\n",
        "# Ejemplo de uso:\n",
        "f=lambda x: x**3-2\n",
        "g=lambda x: 3*x**2\n",
        "x0 = 1\n",
        "tol = 1e-5\n",
        "maxiter = 10000\n",
        "root = newton_raphson(f, g, x0, tol, maxiter)\n",
        "print(f\"La raíz de la función es: {root}\")\n"
      ],
      "metadata": {
        "id": "v69I8l9KSzCp",
        "colab": {
          "base_uri": "https://localhost:8080/"
        },
        "outputId": "f057b3c1-4859-44a6-e858-c0c2727ce219"
      },
      "execution_count": null,
      "outputs": [
        {
          "output_type": "stream",
          "name": "stdout",
          "text": [
            "La raíz de la función es: 1.2599210500177698\n"
          ]
        }
      ]
    },
    {
      "cell_type": "code",
      "source": [],
      "metadata": {
        "id": "HrF86MBhD1lG"
      },
      "execution_count": null,
      "outputs": []
    },
    {
      "cell_type": "markdown",
      "source": [
        "##Exercises\n",
        "\n",
        "I. For each of the following equations, use a graph to obtain initial guesses for solutions and then apply Newton’s method to locate the solutions within 0.0001. use code\n",
        "\n",
        "1. $x^5-6x^3+2x=2$\n",
        "\n",
        "2. $senx=x^2$\n",
        "\n",
        "3. $cost=t^2$\n",
        "\n",
        "4. $2senx=\\sqrt{x+1}$\n",
        "\n",
        "II. Use Newton’s method to approximate $\\sqrt[3]{2}$ with an error less than 0.00005.  Use $x^n-k=0$\n"
      ],
      "metadata": {
        "id": "1ra0A5nNRBxM"
      }
    },
    {
      "cell_type": "markdown",
      "source": [
        "##Graficas\n",
        "\n",
        "Resumen del método:\n",
        "\n",
        " Al graficar funciones no hay sustituto para el sentido común. Sin embargo, el procedimiento siguiente será útil en la mayoría de los casos.\n",
        "\n",
        "**Paso 1: Haga un análisis antes de utilizar cálculo**\n",
        "\n",
        "(a) Verifique el dominio y el rango de la función para ver si existen regiones en el plano que están excluidas.\n",
        "\n",
        "(b) Verifique la simetría con respecto al eje y y al origen. (¿La función es par o impar?)\n",
        "\n",
        "(c) Encuentre las intersecciones con los ejes de coordenadas.\n",
        "\n",
        "**Paso 2: Análisis con cálculo**\n",
        "\n",
        "(a) Utilice la primera derivada para encontrar los puntos críticos y determinar en dónde la gráfica es creciente y en dónde es decreciente.\n",
        "\n",
        "(b) Verifique los puntos críticos para saber si son máximos o mínimos locales.\n",
        "\n",
        "(c) Utilice la segunda derivada para determinar en dónde la gráfica es cóncava hacia arriba y en dónde es cóncava hacia abajo, y para localizar puntos de inflexión.\n",
        "\n",
        "(d) Encuentre las asíntotas.\n",
        "\n",
        "**Paso 3: Dibuje algunos puntos (incluya todos los puntos críticos y los puntos de inflexión)**.\n",
        "\n",
        "**Paso 4: Haga un bosquejo de la gráfica**."
      ],
      "metadata": {
        "id": "C2dJv1CAUG3Z"
      }
    },
    {
      "cell_type": "markdown",
      "source": [
        "##Ejercicios\n",
        "\n",
        "I. Haga un análisis como el sugerido en el resumen anterior y después elabore un bosquejo de la gráfica\n",
        "\n",
        " 1. $f(x)=\\frac{x}{x+1}$\n",
        "\n",
        " 2. $g(x)=\\frac{|x|+x}{2}(3x+2)$\n",
        "\n",
        " 3. $f(x)=\\frac{x^2}{x^2-1}$\n",
        "\n",
        " 4. $h(x)=\\frac{5.235x^3-1.245}{7.126x-3.141}$\n",
        "\n",
        "II. Trace el Bosquejo de una grafica que cumpla las siguientes condiciones:\n",
        "\n",
        "1. $f$ es continua\n",
        "\n",
        "2. $f$ es par\n",
        "\n",
        "3. $f(0)=0$, $f(1)=2$\n",
        "\n",
        "4. $f'(x)>0$ para $x>0$\n",
        "\n",
        "5. $f''(x)>0$, para $x>0$\n",
        "\n",
        "III. Trace el Bosquejo de una grafica que cumpla las siguientes condiciones:\n",
        "\n",
        "a. $f$ es continua en todas partes\n",
        "\n",
        "b. $f(2)=-3$ y $f(6)=1$\n",
        "\n",
        "c. $f'(2)=0$ para $x\\neq 2$\n",
        "\n",
        "d. $f'(6)=3$\n",
        "\n",
        "e. $f''(6)=0$; $f''(x)>0$ Para $2<x<6$\n",
        "\n",
        "f. $f''(x)<0$ Para $x>6$"
      ],
      "metadata": {
        "id": "Tb6PvRKzUvzs"
      }
    }
  ]
}